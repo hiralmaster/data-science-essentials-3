{
 "cells": [
  {
   "cell_type": "markdown",
   "metadata": {},
   "source": [
    "# Model making"
   ]
  },
  {
   "cell_type": "markdown",
   "metadata": {},
   "source": [
    "Create full data set for all states and don't exclude TN \n",
    "\n",
    "read cancer data set: state, county, avg_cost\n",
    "income data - create income agg data by state and county\n"
   ]
  },
  {
   "cell_type": "code",
   "execution_count": 1,
   "metadata": {},
   "outputs": [],
   "source": [
    "import pandas as pd\n",
    "import matplotlib.pyplot as plt\n",
    "import seaborn as sns\n",
    "\n",
    "from sklearn.model_selection import train_test_split\n",
    "from sklearn.linear_model import LogisticRegression\n",
    "from sklearn import metrics\n",
    "\n",
    "from cm import plot_confusion_matrix\n",
    "\n",
    "from sklearn.ensemble import RandomForestClassifier\n",
    "from sklearn.tree import DecisionTreeClassifier, export_graphviz\n",
    "#import graphviz\n",
    "from IPython.display import SVG\n",
    "\n",
    "import warnings\n",
    "\n",
    "warnings.filterwarnings('ignore')\n",
    "\n",
    "%matplotlib inline"
   ]
  },
  {
   "cell_type": "code",
   "execution_count": 2,
   "metadata": {},
   "outputs": [
    {
     "data": {
      "text/html": [
       "<div>\n",
       "<style scoped>\n",
       "    .dataframe tbody tr th:only-of-type {\n",
       "        vertical-align: middle;\n",
       "    }\n",
       "\n",
       "    .dataframe tbody tr th {\n",
       "        vertical-align: top;\n",
       "    }\n",
       "\n",
       "    .dataframe thead th {\n",
       "        text-align: right;\n",
       "    }\n",
       "</style>\n",
       "<table border=\"1\" class=\"dataframe\">\n",
       "  <thead>\n",
       "    <tr style=\"text-align: right;\">\n",
       "      <th></th>\n",
       "      <th>year</th>\n",
       "      <th>geography</th>\n",
       "      <th>measure</th>\n",
       "      <th>adjustment</th>\n",
       "      <th>analysis</th>\n",
       "      <th>domain</th>\n",
       "      <th>condition</th>\n",
       "      <th>primary_sex</th>\n",
       "      <th>primary_age</th>\n",
       "      <th>primary_dual</th>\n",
       "      <th>fips</th>\n",
       "      <th>county</th>\n",
       "      <th>state</th>\n",
       "      <th>urban</th>\n",
       "      <th>primary_race</th>\n",
       "      <th>primary_denominator</th>\n",
       "      <th>ha_avg_cost</th>\n",
       "    </tr>\n",
       "  </thead>\n",
       "  <tbody>\n",
       "    <tr>\n",
       "      <th>0</th>\n",
       "      <td>2017</td>\n",
       "      <td>County</td>\n",
       "      <td>Average total cost</td>\n",
       "      <td>Unsmoothed actual</td>\n",
       "      <td>Base measure</td>\n",
       "      <td>Primary chronic conditions</td>\n",
       "      <td>Acute myocardial infarction</td>\n",
       "      <td>All</td>\n",
       "      <td>All</td>\n",
       "      <td>Dual &amp; non-dual</td>\n",
       "      <td>1001</td>\n",
       "      <td>Autauga County</td>\n",
       "      <td>ALABAMA</td>\n",
       "      <td>Urban</td>\n",
       "      <td>All</td>\n",
       "      <td>undefined</td>\n",
       "      <td>40470</td>\n",
       "    </tr>\n",
       "  </tbody>\n",
       "</table>\n",
       "</div>"
      ],
      "text/plain": [
       "   year geography             measure         adjustment      analysis  \\\n",
       "0  2017    County  Average total cost  Unsmoothed actual  Base measure   \n",
       "\n",
       "                       domain                    condition primary_sex  \\\n",
       "0  Primary chronic conditions  Acute myocardial infarction         All   \n",
       "\n",
       "  primary_age     primary_dual  fips          county    state  urban  \\\n",
       "0         All  Dual & non-dual  1001  Autauga County  ALABAMA  Urban   \n",
       "\n",
       "  primary_race primary_denominator  ha_avg_cost  \n",
       "0          All           undefined        40470  "
      ]
     },
     "execution_count": 2,
     "metadata": {},
     "output_type": "execute_result"
    }
   ],
   "source": [
    "#Create a DataFrame, ha_costs_df, from the mmd_heart_attack_data.csv file.\n",
    "ha_costs_df = pd.read_csv('../data/mmd_heart_attack_data.csv')\n",
    "#Look at the head and tail of the DataFrame\n",
    "ha_costs_df.head(-1)\n",
    "ha_costs_df['state'].value_counts()\n",
    "ha_costs_df.rename(columns = {'analysis_value': 'ha_avg_cost'}, inplace = True)\n",
    "ha_costs_df.head(1)"
   ]
  },
  {
   "cell_type": "code",
   "execution_count": 3,
   "metadata": {},
   "outputs": [
    {
     "data": {
      "text/plain": [
       "(2656, 17)"
      ]
     },
     "execution_count": 3,
     "metadata": {},
     "output_type": "execute_result"
    }
   ],
   "source": [
    "ha_costs_df.shape"
   ]
  },
  {
   "cell_type": "code",
   "execution_count": 4,
   "metadata": {},
   "outputs": [
    {
     "data": {
      "text/html": [
       "<div>\n",
       "<style scoped>\n",
       "    .dataframe tbody tr th:only-of-type {\n",
       "        vertical-align: middle;\n",
       "    }\n",
       "\n",
       "    .dataframe tbody tr th {\n",
       "        vertical-align: top;\n",
       "    }\n",
       "\n",
       "    .dataframe thead th {\n",
       "        text-align: right;\n",
       "    }\n",
       "</style>\n",
       "<table border=\"1\" class=\"dataframe\">\n",
       "  <thead>\n",
       "    <tr style=\"text-align: right;\">\n",
       "      <th></th>\n",
       "      <th>year</th>\n",
       "      <th>geography</th>\n",
       "      <th>measure</th>\n",
       "      <th>adjustment</th>\n",
       "      <th>analysis</th>\n",
       "      <th>domain</th>\n",
       "      <th>condition</th>\n",
       "      <th>primary_sex</th>\n",
       "      <th>primary_age</th>\n",
       "      <th>primary_dual</th>\n",
       "      <th>fips</th>\n",
       "      <th>county</th>\n",
       "      <th>state</th>\n",
       "      <th>urban</th>\n",
       "      <th>primary_race</th>\n",
       "      <th>primary_denominator</th>\n",
       "      <th>cancer_avg_cost</th>\n",
       "    </tr>\n",
       "  </thead>\n",
       "  <tbody>\n",
       "    <tr>\n",
       "      <th>0</th>\n",
       "      <td>2017</td>\n",
       "      <td>County</td>\n",
       "      <td>Average total cost</td>\n",
       "      <td>Unsmoothed actual</td>\n",
       "      <td>Base measure</td>\n",
       "      <td>Primary chronic conditions</td>\n",
       "      <td>Cancer, Colorectal, Breast, Prostate, Lung</td>\n",
       "      <td>All</td>\n",
       "      <td>All</td>\n",
       "      <td>Dual &amp; non-dual</td>\n",
       "      <td>1001</td>\n",
       "      <td>Autauga County</td>\n",
       "      <td>ALABAMA</td>\n",
       "      <td>Urban</td>\n",
       "      <td>All</td>\n",
       "      <td>undefined</td>\n",
       "      <td>19293</td>\n",
       "    </tr>\n",
       "  </tbody>\n",
       "</table>\n",
       "</div>"
      ],
      "text/plain": [
       "   year geography             measure         adjustment      analysis  \\\n",
       "0  2017    County  Average total cost  Unsmoothed actual  Base measure   \n",
       "\n",
       "                       domain                                   condition  \\\n",
       "0  Primary chronic conditions  Cancer, Colorectal, Breast, Prostate, Lung   \n",
       "\n",
       "  primary_sex primary_age     primary_dual  fips          county    state  \\\n",
       "0         All         All  Dual & non-dual  1001  Autauga County  ALABAMA   \n",
       "\n",
       "   urban primary_race primary_denominator  cancer_avg_cost  \n",
       "0  Urban          All           undefined            19293  "
      ]
     },
     "execution_count": 4,
     "metadata": {},
     "output_type": "execute_result"
    }
   ],
   "source": [
    "#Create a DataFrame, cancer_costs_df, from the mmd_cancer_data.csv file.\n",
    "cancer_costs_df = pd.read_csv('../data/mmd_cancer_data.csv')\n",
    "#Look at the head and tail of the DataFrame\n",
    "cancer_costs_df.head(-1)\n",
    "cancer_costs_df['state'].value_counts()\n",
    "cancer_costs_df.rename(columns = {'analysis_value': 'cancer_avg_cost'}, inplace = True)\n",
    "cancer_costs_df.head(1)"
   ]
  },
  {
   "cell_type": "code",
   "execution_count": 5,
   "metadata": {},
   "outputs": [
    {
     "data": {
      "text/plain": [
       "(3165, 17)"
      ]
     },
     "execution_count": 5,
     "metadata": {},
     "output_type": "execute_result"
    }
   ],
   "source": [
    "cancer_costs_df.shape"
   ]
  },
  {
   "cell_type": "code",
   "execution_count": 6,
   "metadata": {},
   "outputs": [
    {
     "name": "stdout",
     "output_type": "stream",
     "text": [
      "<class 'pandas.core.frame.DataFrame'>\n",
      "RangeIndex: 25536 entries, 0 to 25535\n",
      "Columns: 148 entries, STATEFIPS to A11902\n",
      "dtypes: int64(146), object(2)\n",
      "memory usage: 28.8+ MB\n"
     ]
    },
    {
     "data": {
      "text/html": [
       "<div>\n",
       "<style scoped>\n",
       "    .dataframe tbody tr th:only-of-type {\n",
       "        vertical-align: middle;\n",
       "    }\n",
       "\n",
       "    .dataframe tbody tr th {\n",
       "        vertical-align: top;\n",
       "    }\n",
       "\n",
       "    .dataframe thead th {\n",
       "        text-align: right;\n",
       "    }\n",
       "</style>\n",
       "<table border=\"1\" class=\"dataframe\">\n",
       "  <thead>\n",
       "    <tr style=\"text-align: right;\">\n",
       "      <th></th>\n",
       "      <th>STATEFIPS</th>\n",
       "      <th>STATE</th>\n",
       "      <th>COUNTYFIPS</th>\n",
       "      <th>COUNTYNAME</th>\n",
       "      <th>agi_stub</th>\n",
       "      <th>N1</th>\n",
       "      <th>mars1</th>\n",
       "      <th>MARS2</th>\n",
       "      <th>MARS4</th>\n",
       "      <th>PREP</th>\n",
       "      <th>...</th>\n",
       "      <th>N10300</th>\n",
       "      <th>A10300</th>\n",
       "      <th>N85530</th>\n",
       "      <th>A85530</th>\n",
       "      <th>N85300</th>\n",
       "      <th>A85300</th>\n",
       "      <th>N11901</th>\n",
       "      <th>A11901</th>\n",
       "      <th>N11902</th>\n",
       "      <th>A11902</th>\n",
       "    </tr>\n",
       "  </thead>\n",
       "  <tbody>\n",
       "    <tr>\n",
       "      <th>0</th>\n",
       "      <td>1</td>\n",
       "      <td>AL</td>\n",
       "      <td>0</td>\n",
       "      <td>Alabama</td>\n",
       "      <td>1</td>\n",
       "      <td>26450</td>\n",
       "      <td>14680</td>\n",
       "      <td>9740</td>\n",
       "      <td>680</td>\n",
       "      <td>17780</td>\n",
       "      <td>...</td>\n",
       "      <td>4300</td>\n",
       "      <td>9256</td>\n",
       "      <td>70</td>\n",
       "      <td>57</td>\n",
       "      <td>0</td>\n",
       "      <td>0</td>\n",
       "      <td>2590</td>\n",
       "      <td>3685</td>\n",
       "      <td>11510</td>\n",
       "      <td>35079</td>\n",
       "    </tr>\n",
       "  </tbody>\n",
       "</table>\n",
       "<p>1 rows × 148 columns</p>\n",
       "</div>"
      ],
      "text/plain": [
       "   STATEFIPS STATE  COUNTYFIPS COUNTYNAME  agi_stub     N1  mars1  MARS2  \\\n",
       "0          1    AL           0    Alabama         1  26450  14680   9740   \n",
       "\n",
       "   MARS4   PREP  ...  N10300  A10300  N85530  A85530  N85300  A85300  N11901  \\\n",
       "0    680  17780  ...    4300    9256      70      57       0       0    2590   \n",
       "\n",
       "   A11901  N11902  A11902  \n",
       "0    3685   11510   35079  \n",
       "\n",
       "[1 rows x 148 columns]"
      ]
     },
     "execution_count": 6,
     "metadata": {},
     "output_type": "execute_result"
    }
   ],
   "source": [
    "#Create a DataFrame, income_df, from the irs_county_2016.csv file.\n",
    "income_df = pd.read_csv('../data/irs_county_2016.csv')\n",
    "income_df.info()\n",
    "income_df.head(1)"
   ]
  },
  {
   "cell_type": "code",
   "execution_count": 7,
   "metadata": {},
   "outputs": [
    {
     "data": {
      "text/plain": [
       "(25536, 148)"
      ]
     },
     "execution_count": 7,
     "metadata": {},
     "output_type": "execute_result"
    }
   ],
   "source": [
    "income_df.shape"
   ]
  },
  {
   "cell_type": "code",
   "execution_count": 8,
   "metadata": {},
   "outputs": [],
   "source": [
    "#Keep only the following columns:\n",
    "    #['STATE', 'COUNTYNAME', 'agi_stub', 'N1', 'mars1', 'MARS2', 'MARS4', 'N2', 'NUMDEP', 'ELDERLY', 'A00100', 'N02650', 'A02650', 'N02300', 'A02300']\n",
    "income_df = income_df.loc[:, ['STATE', 'COUNTYNAME', 'agi_stub', 'N1', 'mars1', 'MARS2', 'MARS4', 'N2', \n",
    "                              'NUMDEP', 'ELDERLY','A00100', 'N02650', 'A02650', 'N02300', 'A02300']]"
   ]
  },
  {
   "cell_type": "code",
   "execution_count": 9,
   "metadata": {},
   "outputs": [
    {
     "data": {
      "text/html": [
       "<div>\n",
       "<style scoped>\n",
       "    .dataframe tbody tr th:only-of-type {\n",
       "        vertical-align: middle;\n",
       "    }\n",
       "\n",
       "    .dataframe tbody tr th {\n",
       "        vertical-align: top;\n",
       "    }\n",
       "\n",
       "    .dataframe thead th {\n",
       "        text-align: right;\n",
       "    }\n",
       "</style>\n",
       "<table border=\"1\" class=\"dataframe\">\n",
       "  <thead>\n",
       "    <tr style=\"text-align: right;\">\n",
       "      <th></th>\n",
       "      <th>state</th>\n",
       "      <th>county</th>\n",
       "      <th>income_bucket</th>\n",
       "      <th>return_count</th>\n",
       "      <th>single_returns</th>\n",
       "      <th>joint_returns</th>\n",
       "      <th>head_of_house_returns</th>\n",
       "      <th>exemptions</th>\n",
       "      <th>dependents</th>\n",
       "      <th>elderly</th>\n",
       "      <th>agi</th>\n",
       "      <th>returns_with_total_inc</th>\n",
       "      <th>total_inc_amt</th>\n",
       "      <th>returns_with_unemployment</th>\n",
       "      <th>unemployment_comp</th>\n",
       "    </tr>\n",
       "  </thead>\n",
       "  <tbody>\n",
       "    <tr>\n",
       "      <th>0</th>\n",
       "      <td>AL</td>\n",
       "      <td>Alabama</td>\n",
       "      <td>1</td>\n",
       "      <td>26450</td>\n",
       "      <td>14680</td>\n",
       "      <td>9740</td>\n",
       "      <td>680</td>\n",
       "      <td>40700</td>\n",
       "      <td>5590</td>\n",
       "      <td>13000</td>\n",
       "      <td>-1679314</td>\n",
       "      <td>19140</td>\n",
       "      <td>-1657452</td>\n",
       "      <td>60</td>\n",
       "      <td>203</td>\n",
       "    </tr>\n",
       "  </tbody>\n",
       "</table>\n",
       "</div>"
      ],
      "text/plain": [
       "  state   county  income_bucket  return_count  single_returns  joint_returns  \\\n",
       "0    AL  Alabama              1         26450           14680           9740   \n",
       "\n",
       "   head_of_house_returns  exemptions  dependents  elderly      agi  \\\n",
       "0                    680       40700        5590    13000 -1679314   \n",
       "\n",
       "   returns_with_total_inc  total_inc_amt  returns_with_unemployment  \\\n",
       "0                   19140       -1657452                         60   \n",
       "\n",
       "   unemployment_comp  \n",
       "0                203  "
      ]
     },
     "execution_count": 9,
     "metadata": {},
     "output_type": "execute_result"
    }
   ],
   "source": [
    "#Rename columns\n",
    "income_df.columns = ['state', 'county', 'income_bucket', 'return_count', 'single_returns', \n",
    "                     'joint_returns', 'head_of_house_returns', 'exemptions', 'dependents', \n",
    "                     'elderly', 'agi', 'returns_with_total_inc','total_inc_amt', 'returns_with_unemployment', \n",
    "                     'unemployment_comp']\n",
    "income_df.head(1)"
   ]
  },
  {
   "cell_type": "code",
   "execution_count": 10,
   "metadata": {},
   "outputs": [],
   "source": [
    "income_county_agg = income_df.groupby(['state', 'county']).sum() \n",
    "# done: revisit the code: you have to agg by state and county."
   ]
  },
  {
   "cell_type": "code",
   "execution_count": 11,
   "metadata": {},
   "outputs": [
    {
     "data": {
      "text/html": [
       "<div>\n",
       "<style scoped>\n",
       "    .dataframe tbody tr th:only-of-type {\n",
       "        vertical-align: middle;\n",
       "    }\n",
       "\n",
       "    .dataframe tbody tr th {\n",
       "        vertical-align: top;\n",
       "    }\n",
       "\n",
       "    .dataframe thead th {\n",
       "        text-align: right;\n",
       "    }\n",
       "</style>\n",
       "<table border=\"1\" class=\"dataframe\">\n",
       "  <thead>\n",
       "    <tr style=\"text-align: right;\">\n",
       "      <th></th>\n",
       "      <th></th>\n",
       "      <th>income_bucket</th>\n",
       "      <th>return_count</th>\n",
       "      <th>single_returns</th>\n",
       "      <th>joint_returns</th>\n",
       "      <th>head_of_house_returns</th>\n",
       "      <th>exemptions</th>\n",
       "      <th>dependents</th>\n",
       "      <th>elderly</th>\n",
       "      <th>agi</th>\n",
       "      <th>returns_with_total_inc</th>\n",
       "      <th>total_inc_amt</th>\n",
       "      <th>returns_with_unemployment</th>\n",
       "      <th>unemployment_comp</th>\n",
       "    </tr>\n",
       "    <tr>\n",
       "      <th>state</th>\n",
       "      <th>county</th>\n",
       "      <th></th>\n",
       "      <th></th>\n",
       "      <th></th>\n",
       "      <th></th>\n",
       "      <th></th>\n",
       "      <th></th>\n",
       "      <th></th>\n",
       "      <th></th>\n",
       "      <th></th>\n",
       "      <th></th>\n",
       "      <th></th>\n",
       "      <th></th>\n",
       "      <th></th>\n",
       "    </tr>\n",
       "  </thead>\n",
       "  <tbody>\n",
       "    <tr>\n",
       "      <th>AK</th>\n",
       "      <th>Alaska</th>\n",
       "      <td>36</td>\n",
       "      <td>348070</td>\n",
       "      <td>175480</td>\n",
       "      <td>126660</td>\n",
       "      <td>37340</td>\n",
       "      <td>654950</td>\n",
       "      <td>205660</td>\n",
       "      <td>71410</td>\n",
       "      <td>23514361</td>\n",
       "      <td>347600</td>\n",
       "      <td>23858011</td>\n",
       "      <td>83270</td>\n",
       "      <td>167460</td>\n",
       "    </tr>\n",
       "  </tbody>\n",
       "</table>\n",
       "</div>"
      ],
      "text/plain": [
       "              income_bucket  return_count  single_returns  joint_returns  \\\n",
       "state county                                                               \n",
       "AK    Alaska             36        348070          175480         126660   \n",
       "\n",
       "              head_of_house_returns  exemptions  dependents  elderly  \\\n",
       "state county                                                           \n",
       "AK    Alaska                  37340      654950      205660    71410   \n",
       "\n",
       "                   agi  returns_with_total_inc  total_inc_amt  \\\n",
       "state county                                                    \n",
       "AK    Alaska  23514361                  347600       23858011   \n",
       "\n",
       "              returns_with_unemployment  unemployment_comp  \n",
       "state county                                                \n",
       "AK    Alaska                      83270             167460  "
      ]
     },
     "execution_count": 11,
     "metadata": {},
     "output_type": "execute_result"
    }
   ],
   "source": [
    "income_county_agg.head(1)"
   ]
  },
  {
   "cell_type": "code",
   "execution_count": 12,
   "metadata": {},
   "outputs": [
    {
     "data": {
      "text/html": [
       "<div>\n",
       "<style scoped>\n",
       "    .dataframe tbody tr th:only-of-type {\n",
       "        vertical-align: middle;\n",
       "    }\n",
       "\n",
       "    .dataframe tbody tr th {\n",
       "        vertical-align: top;\n",
       "    }\n",
       "\n",
       "    .dataframe thead th {\n",
       "        text-align: right;\n",
       "    }\n",
       "</style>\n",
       "<table border=\"1\" class=\"dataframe\">\n",
       "  <thead>\n",
       "    <tr style=\"text-align: right;\">\n",
       "      <th></th>\n",
       "      <th>state</th>\n",
       "      <th>county</th>\n",
       "      <th>income_bucket</th>\n",
       "      <th>return_count</th>\n",
       "      <th>single_returns</th>\n",
       "      <th>joint_returns</th>\n",
       "      <th>head_of_house_returns</th>\n",
       "      <th>exemptions</th>\n",
       "      <th>dependents</th>\n",
       "      <th>elderly</th>\n",
       "      <th>agi</th>\n",
       "      <th>returns_with_total_inc</th>\n",
       "      <th>total_inc_amt</th>\n",
       "      <th>returns_with_unemployment</th>\n",
       "      <th>unemployment_comp</th>\n",
       "    </tr>\n",
       "  </thead>\n",
       "  <tbody>\n",
       "    <tr>\n",
       "      <th>0</th>\n",
       "      <td>AK</td>\n",
       "      <td>Alaska</td>\n",
       "      <td>36</td>\n",
       "      <td>348070</td>\n",
       "      <td>175480</td>\n",
       "      <td>126660</td>\n",
       "      <td>37340</td>\n",
       "      <td>654950</td>\n",
       "      <td>205660</td>\n",
       "      <td>71410</td>\n",
       "      <td>23514361</td>\n",
       "      <td>347600</td>\n",
       "      <td>23858011</td>\n",
       "      <td>83270</td>\n",
       "      <td>167460</td>\n",
       "    </tr>\n",
       "  </tbody>\n",
       "</table>\n",
       "</div>"
      ],
      "text/plain": [
       "  state  county  income_bucket  return_count  single_returns  joint_returns  \\\n",
       "0    AK  Alaska             36        348070          175480         126660   \n",
       "\n",
       "   head_of_house_returns  exemptions  dependents  elderly       agi  \\\n",
       "0                  37340      654950      205660    71410  23514361   \n",
       "\n",
       "   returns_with_total_inc  total_inc_amt  returns_with_unemployment  \\\n",
       "0                  347600       23858011                      83270   \n",
       "\n",
       "   unemployment_comp  \n",
       "0             167460  "
      ]
     },
     "execution_count": 12,
     "metadata": {},
     "output_type": "execute_result"
    }
   ],
   "source": [
    "#Be sure to also `reset_index()` so that our aggregated data is re-indexed to begin at 0. \n",
    "income_county_agg = income_county_agg.reset_index()\n",
    "income_county_agg.head(1)"
   ]
  },
  {
   "cell_type": "code",
   "execution_count": 13,
   "metadata": {},
   "outputs": [
    {
     "data": {
      "text/html": [
       "<div>\n",
       "<style scoped>\n",
       "    .dataframe tbody tr th:only-of-type {\n",
       "        vertical-align: middle;\n",
       "    }\n",
       "\n",
       "    .dataframe tbody tr th {\n",
       "        vertical-align: top;\n",
       "    }\n",
       "\n",
       "    .dataframe thead th {\n",
       "        text-align: right;\n",
       "    }\n",
       "</style>\n",
       "<table border=\"1\" class=\"dataframe\">\n",
       "  <thead>\n",
       "    <tr style=\"text-align: right;\">\n",
       "      <th></th>\n",
       "      <th>state</th>\n",
       "      <th>county</th>\n",
       "      <th>income_bucket</th>\n",
       "      <th>return_count</th>\n",
       "      <th>single_returns</th>\n",
       "      <th>joint_returns</th>\n",
       "      <th>head_of_house_returns</th>\n",
       "      <th>exemptions</th>\n",
       "      <th>dependents</th>\n",
       "      <th>elderly</th>\n",
       "      <th>agi</th>\n",
       "      <th>returns_with_total_inc</th>\n",
       "      <th>total_inc_amt</th>\n",
       "      <th>returns_with_unemployment</th>\n",
       "      <th>unemployment_comp</th>\n",
       "      <th>approx_avg_income</th>\n",
       "    </tr>\n",
       "  </thead>\n",
       "  <tbody>\n",
       "    <tr>\n",
       "      <th>0</th>\n",
       "      <td>AK</td>\n",
       "      <td>Alaska</td>\n",
       "      <td>36</td>\n",
       "      <td>348070</td>\n",
       "      <td>175480</td>\n",
       "      <td>126660</td>\n",
       "      <td>37340</td>\n",
       "      <td>654950</td>\n",
       "      <td>205660</td>\n",
       "      <td>71410</td>\n",
       "      <td>23514361</td>\n",
       "      <td>347600</td>\n",
       "      <td>23858011</td>\n",
       "      <td>83270</td>\n",
       "      <td>167460</td>\n",
       "      <td>68543.715345</td>\n",
       "    </tr>\n",
       "  </tbody>\n",
       "</table>\n",
       "</div>"
      ],
      "text/plain": [
       "  state  county  income_bucket  return_count  single_returns  joint_returns  \\\n",
       "0    AK  Alaska             36        348070          175480         126660   \n",
       "\n",
       "   head_of_house_returns  exemptions  dependents  elderly       agi  \\\n",
       "0                  37340      654950      205660    71410  23514361   \n",
       "\n",
       "   returns_with_total_inc  total_inc_amt  returns_with_unemployment  \\\n",
       "0                  347600       23858011                      83270   \n",
       "\n",
       "   unemployment_comp  approx_avg_income  \n",
       "0             167460       68543.715345  "
      ]
     },
     "execution_count": 13,
     "metadata": {},
     "output_type": "execute_result"
    }
   ],
   "source": [
    "#DataFrame which gives the approximate average household income for each county. \n",
    "#Calculate this as 1000*`total_inc_amt` / `return_count\n",
    "income_county_agg['approx_avg_income']= 1000 * income_county_agg['total_inc_amt']/income_county_agg['return_count']\n",
    "income_county_agg.head(1)"
   ]
  },
  {
   "cell_type": "code",
   "execution_count": 14,
   "metadata": {},
   "outputs": [
    {
     "data": {
      "text/plain": [
       "1926"
      ]
     },
     "execution_count": 14,
     "metadata": {},
     "output_type": "execute_result"
    }
   ],
   "source": [
    "income_county_agg['county'].nunique()"
   ]
  },
  {
   "cell_type": "markdown",
   "metadata": {},
   "source": [
    "Merge heart attack and cancer data sets"
   ]
  },
  {
   "cell_type": "code",
   "execution_count": 15,
   "metadata": {},
   "outputs": [
    {
     "data": {
      "text/html": [
       "<div>\n",
       "<style scoped>\n",
       "    .dataframe tbody tr th:only-of-type {\n",
       "        vertical-align: middle;\n",
       "    }\n",
       "\n",
       "    .dataframe tbody tr th {\n",
       "        vertical-align: top;\n",
       "    }\n",
       "\n",
       "    .dataframe thead th {\n",
       "        text-align: right;\n",
       "    }\n",
       "</style>\n",
       "<table border=\"1\" class=\"dataframe\">\n",
       "  <thead>\n",
       "    <tr style=\"text-align: right;\">\n",
       "      <th></th>\n",
       "      <th>year</th>\n",
       "      <th>geography</th>\n",
       "      <th>measure</th>\n",
       "      <th>adjustment</th>\n",
       "      <th>analysis</th>\n",
       "      <th>domain</th>\n",
       "      <th>condition</th>\n",
       "      <th>primary_sex</th>\n",
       "      <th>primary_age</th>\n",
       "      <th>primary_dual</th>\n",
       "      <th>fips</th>\n",
       "      <th>county</th>\n",
       "      <th>state</th>\n",
       "      <th>urban</th>\n",
       "      <th>primary_race</th>\n",
       "      <th>primary_denominator</th>\n",
       "      <th>cancer_avg_cost</th>\n",
       "    </tr>\n",
       "  </thead>\n",
       "  <tbody>\n",
       "    <tr>\n",
       "      <th>0</th>\n",
       "      <td>2017</td>\n",
       "      <td>County</td>\n",
       "      <td>Average total cost</td>\n",
       "      <td>Unsmoothed actual</td>\n",
       "      <td>Base measure</td>\n",
       "      <td>Primary chronic conditions</td>\n",
       "      <td>Cancer, Colorectal, Breast, Prostate, Lung</td>\n",
       "      <td>All</td>\n",
       "      <td>All</td>\n",
       "      <td>Dual &amp; non-dual</td>\n",
       "      <td>1001</td>\n",
       "      <td>Autauga County</td>\n",
       "      <td>ALABAMA</td>\n",
       "      <td>Urban</td>\n",
       "      <td>All</td>\n",
       "      <td>undefined</td>\n",
       "      <td>19293</td>\n",
       "    </tr>\n",
       "  </tbody>\n",
       "</table>\n",
       "</div>"
      ],
      "text/plain": [
       "   year geography             measure         adjustment      analysis  \\\n",
       "0  2017    County  Average total cost  Unsmoothed actual  Base measure   \n",
       "\n",
       "                       domain                                   condition  \\\n",
       "0  Primary chronic conditions  Cancer, Colorectal, Breast, Prostate, Lung   \n",
       "\n",
       "  primary_sex primary_age     primary_dual  fips          county    state  \\\n",
       "0         All         All  Dual & non-dual  1001  Autauga County  ALABAMA   \n",
       "\n",
       "   urban primary_race primary_denominator  cancer_avg_cost  \n",
       "0  Urban          All           undefined            19293  "
      ]
     },
     "execution_count": 15,
     "metadata": {},
     "output_type": "execute_result"
    }
   ],
   "source": [
    "cancer_costs_df.head(1)"
   ]
  },
  {
   "cell_type": "code",
   "execution_count": 16,
   "metadata": {},
   "outputs": [
    {
     "data": {
      "text/html": [
       "<div>\n",
       "<style scoped>\n",
       "    .dataframe tbody tr th:only-of-type {\n",
       "        vertical-align: middle;\n",
       "    }\n",
       "\n",
       "    .dataframe tbody tr th {\n",
       "        vertical-align: top;\n",
       "    }\n",
       "\n",
       "    .dataframe thead th {\n",
       "        text-align: right;\n",
       "    }\n",
       "</style>\n",
       "<table border=\"1\" class=\"dataframe\">\n",
       "  <thead>\n",
       "    <tr style=\"text-align: right;\">\n",
       "      <th></th>\n",
       "      <th>year</th>\n",
       "      <th>geography</th>\n",
       "      <th>measure</th>\n",
       "      <th>adjustment</th>\n",
       "      <th>analysis</th>\n",
       "      <th>domain</th>\n",
       "      <th>condition</th>\n",
       "      <th>primary_sex</th>\n",
       "      <th>primary_age</th>\n",
       "      <th>primary_dual</th>\n",
       "      <th>fips</th>\n",
       "      <th>county</th>\n",
       "      <th>state</th>\n",
       "      <th>urban</th>\n",
       "      <th>primary_race</th>\n",
       "      <th>primary_denominator</th>\n",
       "      <th>ha_avg_cost</th>\n",
       "    </tr>\n",
       "  </thead>\n",
       "  <tbody>\n",
       "    <tr>\n",
       "      <th>0</th>\n",
       "      <td>2017</td>\n",
       "      <td>County</td>\n",
       "      <td>Average total cost</td>\n",
       "      <td>Unsmoothed actual</td>\n",
       "      <td>Base measure</td>\n",
       "      <td>Primary chronic conditions</td>\n",
       "      <td>Acute myocardial infarction</td>\n",
       "      <td>All</td>\n",
       "      <td>All</td>\n",
       "      <td>Dual &amp; non-dual</td>\n",
       "      <td>1001</td>\n",
       "      <td>Autauga County</td>\n",
       "      <td>ALABAMA</td>\n",
       "      <td>Urban</td>\n",
       "      <td>All</td>\n",
       "      <td>undefined</td>\n",
       "      <td>40470</td>\n",
       "    </tr>\n",
       "  </tbody>\n",
       "</table>\n",
       "</div>"
      ],
      "text/plain": [
       "   year geography             measure         adjustment      analysis  \\\n",
       "0  2017    County  Average total cost  Unsmoothed actual  Base measure   \n",
       "\n",
       "                       domain                    condition primary_sex  \\\n",
       "0  Primary chronic conditions  Acute myocardial infarction         All   \n",
       "\n",
       "  primary_age     primary_dual  fips          county    state  urban  \\\n",
       "0         All  Dual & non-dual  1001  Autauga County  ALABAMA  Urban   \n",
       "\n",
       "  primary_race primary_denominator  ha_avg_cost  \n",
       "0          All           undefined        40470  "
      ]
     },
     "execution_count": 16,
     "metadata": {},
     "output_type": "execute_result"
    }
   ],
   "source": [
    "ha_costs_df.head(1)"
   ]
  },
  {
   "cell_type": "code",
   "execution_count": 43,
   "metadata": {
    "scrolled": true
   },
   "outputs": [
    {
     "data": {
      "text/html": [
       "<div>\n",
       "<style scoped>\n",
       "    .dataframe tbody tr th:only-of-type {\n",
       "        vertical-align: middle;\n",
       "    }\n",
       "\n",
       "    .dataframe tbody tr th {\n",
       "        vertical-align: top;\n",
       "    }\n",
       "\n",
       "    .dataframe thead th {\n",
       "        text-align: right;\n",
       "    }\n",
       "</style>\n",
       "<table border=\"1\" class=\"dataframe\">\n",
       "  <thead>\n",
       "    <tr style=\"text-align: right;\">\n",
       "      <th></th>\n",
       "      <th>state</th>\n",
       "      <th>county</th>\n",
       "      <th>primary_sex</th>\n",
       "      <th>primary_age</th>\n",
       "      <th>urban</th>\n",
       "      <th>cancer_avg_cost</th>\n",
       "      <th>ha_avg_cost</th>\n",
       "    </tr>\n",
       "  </thead>\n",
       "  <tbody>\n",
       "    <tr>\n",
       "      <th>0</th>\n",
       "      <td>ALABAMA</td>\n",
       "      <td>Autauga County</td>\n",
       "      <td>All</td>\n",
       "      <td>All</td>\n",
       "      <td>Urban</td>\n",
       "      <td>19293</td>\n",
       "      <td>40470</td>\n",
       "    </tr>\n",
       "    <tr>\n",
       "      <th>1</th>\n",
       "      <td>ALABAMA</td>\n",
       "      <td>Baldwin County</td>\n",
       "      <td>All</td>\n",
       "      <td>All</td>\n",
       "      <td>Rural</td>\n",
       "      <td>17151</td>\n",
       "      <td>36615</td>\n",
       "    </tr>\n",
       "    <tr>\n",
       "      <th>2</th>\n",
       "      <td>ALABAMA</td>\n",
       "      <td>Barbour County</td>\n",
       "      <td>All</td>\n",
       "      <td>All</td>\n",
       "      <td>Rural</td>\n",
       "      <td>19469</td>\n",
       "      <td>46509</td>\n",
       "    </tr>\n",
       "    <tr>\n",
       "      <th>3</th>\n",
       "      <td>ALABAMA</td>\n",
       "      <td>Bibb County</td>\n",
       "      <td>All</td>\n",
       "      <td>All</td>\n",
       "      <td>Urban</td>\n",
       "      <td>17234</td>\n",
       "      <td>42949</td>\n",
       "    </tr>\n",
       "    <tr>\n",
       "      <th>4</th>\n",
       "      <td>ALABAMA</td>\n",
       "      <td>Blount County</td>\n",
       "      <td>All</td>\n",
       "      <td>All</td>\n",
       "      <td>Urban</td>\n",
       "      <td>20317</td>\n",
       "      <td>50067</td>\n",
       "    </tr>\n",
       "    <tr>\n",
       "      <th>...</th>\n",
       "      <td>...</td>\n",
       "      <td>...</td>\n",
       "      <td>...</td>\n",
       "      <td>...</td>\n",
       "      <td>...</td>\n",
       "      <td>...</td>\n",
       "      <td>...</td>\n",
       "    </tr>\n",
       "    <tr>\n",
       "      <th>2650</th>\n",
       "      <td>PUERTO RICO</td>\n",
       "      <td>Guaynabo Municipio</td>\n",
       "      <td>All</td>\n",
       "      <td>All</td>\n",
       "      <td>Urban</td>\n",
       "      <td>10485</td>\n",
       "      <td>25049</td>\n",
       "    </tr>\n",
       "    <tr>\n",
       "      <th>2651</th>\n",
       "      <td>PUERTO RICO</td>\n",
       "      <td>Mayaguez Municipio</td>\n",
       "      <td>All</td>\n",
       "      <td>All</td>\n",
       "      <td>Urban</td>\n",
       "      <td>11440</td>\n",
       "      <td>28128</td>\n",
       "    </tr>\n",
       "    <tr>\n",
       "      <th>2652</th>\n",
       "      <td>PUERTO RICO</td>\n",
       "      <td>Ponce Municipio</td>\n",
       "      <td>All</td>\n",
       "      <td>All</td>\n",
       "      <td>Urban</td>\n",
       "      <td>10827</td>\n",
       "      <td>26403</td>\n",
       "    </tr>\n",
       "    <tr>\n",
       "      <th>2653</th>\n",
       "      <td>PUERTO RICO</td>\n",
       "      <td>San German Municipio</td>\n",
       "      <td>All</td>\n",
       "      <td>All</td>\n",
       "      <td>Urban</td>\n",
       "      <td>14660</td>\n",
       "      <td>26398</td>\n",
       "    </tr>\n",
       "    <tr>\n",
       "      <th>2654</th>\n",
       "      <td>PUERTO RICO</td>\n",
       "      <td>San Juan Municipio</td>\n",
       "      <td>All</td>\n",
       "      <td>All</td>\n",
       "      <td>Urban</td>\n",
       "      <td>9811</td>\n",
       "      <td>36599</td>\n",
       "    </tr>\n",
       "  </tbody>\n",
       "</table>\n",
       "<p>2655 rows × 7 columns</p>\n",
       "</div>"
      ],
      "text/plain": [
       "            state                county primary_sex primary_age  urban  \\\n",
       "0         ALABAMA        Autauga County         All         All  Urban   \n",
       "1         ALABAMA        Baldwin County         All         All  Rural   \n",
       "2         ALABAMA        Barbour County         All         All  Rural   \n",
       "3         ALABAMA           Bibb County         All         All  Urban   \n",
       "4         ALABAMA         Blount County         All         All  Urban   \n",
       "...           ...                   ...         ...         ...    ...   \n",
       "2650  PUERTO RICO    Guaynabo Municipio         All         All  Urban   \n",
       "2651  PUERTO RICO    Mayaguez Municipio         All         All  Urban   \n",
       "2652  PUERTO RICO       Ponce Municipio         All         All  Urban   \n",
       "2653  PUERTO RICO  San German Municipio         All         All  Urban   \n",
       "2654  PUERTO RICO    San Juan Municipio         All         All  Urban   \n",
       "\n",
       "      cancer_avg_cost  ha_avg_cost  \n",
       "0               19293        40470  \n",
       "1               17151        36615  \n",
       "2               19469        46509  \n",
       "3               17234        42949  \n",
       "4               20317        50067  \n",
       "...               ...          ...  \n",
       "2650            10485        25049  \n",
       "2651            11440        28128  \n",
       "2652            10827        26403  \n",
       "2653            14660        26398  \n",
       "2654             9811        36599  \n",
       "\n",
       "[2655 rows x 7 columns]"
      ]
     },
     "execution_count": 43,
     "metadata": {},
     "output_type": "execute_result"
    }
   ],
   "source": [
    "ha_cancer_costs_df = pd.merge(cancer_costs_df.loc[:,['state', 'county','primary_sex', 'primary_age', 'urban', 'cancer_avg_cost']], \n",
    "                                     ha_costs_df.loc[:,['state', 'county', 'ha_avg_cost']], on=['state', 'county'], how='inner')\n",
    "ha_cancer_costs_df.head(-1)"
   ]
  },
  {
   "cell_type": "code",
   "execution_count": 18,
   "metadata": {
    "scrolled": true
   },
   "outputs": [
    {
     "data": {
      "text/plain": [
       "(2656, 7)"
      ]
     },
     "execution_count": 18,
     "metadata": {},
     "output_type": "execute_result"
    }
   ],
   "source": [
    "ha_cancer_costs_df.shape"
   ]
  },
  {
   "cell_type": "code",
   "execution_count": 19,
   "metadata": {},
   "outputs": [
    {
     "data": {
      "text/plain": [
       "52"
      ]
     },
     "execution_count": 19,
     "metadata": {},
     "output_type": "execute_result"
    }
   ],
   "source": [
    "ha_cancer_costs_df['state'].nunique()"
   ]
  },
  {
   "cell_type": "code",
   "execution_count": 20,
   "metadata": {},
   "outputs": [
    {
     "data": {
      "text/html": [
       "<div>\n",
       "<style scoped>\n",
       "    .dataframe tbody tr th:only-of-type {\n",
       "        vertical-align: middle;\n",
       "    }\n",
       "\n",
       "    .dataframe tbody tr th {\n",
       "        vertical-align: top;\n",
       "    }\n",
       "\n",
       "    .dataframe thead th {\n",
       "        text-align: right;\n",
       "    }\n",
       "</style>\n",
       "<table border=\"1\" class=\"dataframe\">\n",
       "  <thead>\n",
       "    <tr style=\"text-align: right;\">\n",
       "      <th></th>\n",
       "      <th>name</th>\n",
       "      <th>abbrev</th>\n",
       "    </tr>\n",
       "  </thead>\n",
       "  <tbody>\n",
       "    <tr>\n",
       "      <th>0</th>\n",
       "      <td>ALABAMA</td>\n",
       "      <td>AL</td>\n",
       "    </tr>\n",
       "  </tbody>\n",
       "</table>\n",
       "</div>"
      ],
      "text/plain": [
       "      name abbrev\n",
       "0  ALABAMA     AL"
      ]
     },
     "execution_count": 20,
     "metadata": {},
     "output_type": "execute_result"
    }
   ],
   "source": [
    "##Create `state_dict`, a dictionary that uses the provides descripton of state abbreviation\n",
    "#import state abbreviation dataset\n",
    "state_abb_df = pd.read_csv('../data/state_abbrev.csv')\n",
    "state_abb_df.head(1)"
   ]
  },
  {
   "cell_type": "code",
   "execution_count": 21,
   "metadata": {},
   "outputs": [
    {
     "data": {
      "text/html": [
       "<div>\n",
       "<style scoped>\n",
       "    .dataframe tbody tr th:only-of-type {\n",
       "        vertical-align: middle;\n",
       "    }\n",
       "\n",
       "    .dataframe tbody tr th {\n",
       "        vertical-align: top;\n",
       "    }\n",
       "\n",
       "    .dataframe thead th {\n",
       "        text-align: right;\n",
       "    }\n",
       "</style>\n",
       "<table border=\"1\" class=\"dataframe\">\n",
       "  <thead>\n",
       "    <tr style=\"text-align: right;\">\n",
       "      <th></th>\n",
       "      <th>state</th>\n",
       "      <th>county</th>\n",
       "      <th>primary_sex</th>\n",
       "      <th>primary_age</th>\n",
       "      <th>urban</th>\n",
       "      <th>cancer_avg_cost</th>\n",
       "      <th>ha_avg_cost</th>\n",
       "    </tr>\n",
       "  </thead>\n",
       "  <tbody>\n",
       "    <tr>\n",
       "      <th>0</th>\n",
       "      <td>ALABAMA</td>\n",
       "      <td>Autauga County</td>\n",
       "      <td>All</td>\n",
       "      <td>All</td>\n",
       "      <td>Urban</td>\n",
       "      <td>19293</td>\n",
       "      <td>40470</td>\n",
       "    </tr>\n",
       "    <tr>\n",
       "      <th>1</th>\n",
       "      <td>ALABAMA</td>\n",
       "      <td>Baldwin County</td>\n",
       "      <td>All</td>\n",
       "      <td>All</td>\n",
       "      <td>Rural</td>\n",
       "      <td>17151</td>\n",
       "      <td>36615</td>\n",
       "    </tr>\n",
       "    <tr>\n",
       "      <th>2</th>\n",
       "      <td>ALABAMA</td>\n",
       "      <td>Barbour County</td>\n",
       "      <td>All</td>\n",
       "      <td>All</td>\n",
       "      <td>Rural</td>\n",
       "      <td>19469</td>\n",
       "      <td>46509</td>\n",
       "    </tr>\n",
       "    <tr>\n",
       "      <th>3</th>\n",
       "      <td>ALABAMA</td>\n",
       "      <td>Bibb County</td>\n",
       "      <td>All</td>\n",
       "      <td>All</td>\n",
       "      <td>Urban</td>\n",
       "      <td>17234</td>\n",
       "      <td>42949</td>\n",
       "    </tr>\n",
       "    <tr>\n",
       "      <th>4</th>\n",
       "      <td>ALABAMA</td>\n",
       "      <td>Blount County</td>\n",
       "      <td>All</td>\n",
       "      <td>All</td>\n",
       "      <td>Urban</td>\n",
       "      <td>20317</td>\n",
       "      <td>50067</td>\n",
       "    </tr>\n",
       "  </tbody>\n",
       "</table>\n",
       "</div>"
      ],
      "text/plain": [
       "     state          county primary_sex primary_age  urban  cancer_avg_cost  \\\n",
       "0  ALABAMA  Autauga County         All         All  Urban            19293   \n",
       "1  ALABAMA  Baldwin County         All         All  Rural            17151   \n",
       "2  ALABAMA  Barbour County         All         All  Rural            19469   \n",
       "3  ALABAMA     Bibb County         All         All  Urban            17234   \n",
       "4  ALABAMA   Blount County         All         All  Urban            20317   \n",
       "\n",
       "   ha_avg_cost  \n",
       "0        40470  \n",
       "1        36615  \n",
       "2        46509  \n",
       "3        42949  \n",
       "4        50067  "
      ]
     },
     "execution_count": 21,
     "metadata": {},
     "output_type": "execute_result"
    }
   ],
   "source": [
    "ha_cancer_costs_df.head()"
   ]
  },
  {
   "cell_type": "code",
   "execution_count": 22,
   "metadata": {},
   "outputs": [],
   "source": [
    "ha_cancer_costs_df['state']=ha_cancer_costs_df.state.map(state_abb_df.set_index('name')['abbrev'].to_dict())"
   ]
  },
  {
   "cell_type": "code",
   "execution_count": 23,
   "metadata": {},
   "outputs": [
    {
     "data": {
      "text/html": [
       "<div>\n",
       "<style scoped>\n",
       "    .dataframe tbody tr th:only-of-type {\n",
       "        vertical-align: middle;\n",
       "    }\n",
       "\n",
       "    .dataframe tbody tr th {\n",
       "        vertical-align: top;\n",
       "    }\n",
       "\n",
       "    .dataframe thead th {\n",
       "        text-align: right;\n",
       "    }\n",
       "</style>\n",
       "<table border=\"1\" class=\"dataframe\">\n",
       "  <thead>\n",
       "    <tr style=\"text-align: right;\">\n",
       "      <th></th>\n",
       "      <th>state</th>\n",
       "      <th>county</th>\n",
       "      <th>primary_sex</th>\n",
       "      <th>primary_age</th>\n",
       "      <th>urban</th>\n",
       "      <th>cancer_avg_cost</th>\n",
       "      <th>ha_avg_cost</th>\n",
       "    </tr>\n",
       "  </thead>\n",
       "  <tbody>\n",
       "    <tr>\n",
       "      <th>0</th>\n",
       "      <td>AL</td>\n",
       "      <td>Autauga County</td>\n",
       "      <td>All</td>\n",
       "      <td>All</td>\n",
       "      <td>Urban</td>\n",
       "      <td>19293</td>\n",
       "      <td>40470</td>\n",
       "    </tr>\n",
       "  </tbody>\n",
       "</table>\n",
       "</div>"
      ],
      "text/plain": [
       "  state          county primary_sex primary_age  urban  cancer_avg_cost  \\\n",
       "0    AL  Autauga County         All         All  Urban            19293   \n",
       "\n",
       "   ha_avg_cost  \n",
       "0        40470  "
      ]
     },
     "execution_count": 23,
     "metadata": {},
     "output_type": "execute_result"
    }
   ],
   "source": [
    "ha_cancer_costs_df.head(1)"
   ]
  },
  {
   "cell_type": "code",
   "execution_count": 24,
   "metadata": {},
   "outputs": [
    {
     "data": {
      "text/html": [
       "<div>\n",
       "<style scoped>\n",
       "    .dataframe tbody tr th:only-of-type {\n",
       "        vertical-align: middle;\n",
       "    }\n",
       "\n",
       "    .dataframe tbody tr th {\n",
       "        vertical-align: top;\n",
       "    }\n",
       "\n",
       "    .dataframe thead th {\n",
       "        text-align: right;\n",
       "    }\n",
       "</style>\n",
       "<table border=\"1\" class=\"dataframe\">\n",
       "  <thead>\n",
       "    <tr style=\"text-align: right;\">\n",
       "      <th></th>\n",
       "      <th>state</th>\n",
       "      <th>county</th>\n",
       "      <th>income_bucket</th>\n",
       "      <th>return_count</th>\n",
       "      <th>single_returns</th>\n",
       "      <th>joint_returns</th>\n",
       "      <th>head_of_house_returns</th>\n",
       "      <th>exemptions</th>\n",
       "      <th>dependents</th>\n",
       "      <th>elderly</th>\n",
       "      <th>agi</th>\n",
       "      <th>returns_with_total_inc</th>\n",
       "      <th>total_inc_amt</th>\n",
       "      <th>returns_with_unemployment</th>\n",
       "      <th>unemployment_comp</th>\n",
       "      <th>approx_avg_income</th>\n",
       "    </tr>\n",
       "  </thead>\n",
       "  <tbody>\n",
       "    <tr>\n",
       "      <th>0</th>\n",
       "      <td>AK</td>\n",
       "      <td>Alaska</td>\n",
       "      <td>36</td>\n",
       "      <td>348070</td>\n",
       "      <td>175480</td>\n",
       "      <td>126660</td>\n",
       "      <td>37340</td>\n",
       "      <td>654950</td>\n",
       "      <td>205660</td>\n",
       "      <td>71410</td>\n",
       "      <td>23514361</td>\n",
       "      <td>347600</td>\n",
       "      <td>23858011</td>\n",
       "      <td>83270</td>\n",
       "      <td>167460</td>\n",
       "      <td>68543.715345</td>\n",
       "    </tr>\n",
       "  </tbody>\n",
       "</table>\n",
       "</div>"
      ],
      "text/plain": [
       "  state  county  income_bucket  return_count  single_returns  joint_returns  \\\n",
       "0    AK  Alaska             36        348070          175480         126660   \n",
       "\n",
       "   head_of_house_returns  exemptions  dependents  elderly       agi  \\\n",
       "0                  37340      654950      205660    71410  23514361   \n",
       "\n",
       "   returns_with_total_inc  total_inc_amt  returns_with_unemployment  \\\n",
       "0                  347600       23858011                      83270   \n",
       "\n",
       "   unemployment_comp  approx_avg_income  \n",
       "0             167460       68543.715345  "
      ]
     },
     "execution_count": 24,
     "metadata": {},
     "output_type": "execute_result"
    }
   ],
   "source": [
    "income_county_agg.head(1)"
   ]
  },
  {
   "cell_type": "code",
   "execution_count": 25,
   "metadata": {},
   "outputs": [
    {
     "data": {
      "text/html": [
       "<div>\n",
       "<style scoped>\n",
       "    .dataframe tbody tr th:only-of-type {\n",
       "        vertical-align: middle;\n",
       "    }\n",
       "\n",
       "    .dataframe tbody tr th {\n",
       "        vertical-align: top;\n",
       "    }\n",
       "\n",
       "    .dataframe thead th {\n",
       "        text-align: right;\n",
       "    }\n",
       "</style>\n",
       "<table border=\"1\" class=\"dataframe\">\n",
       "  <thead>\n",
       "    <tr style=\"text-align: right;\">\n",
       "      <th></th>\n",
       "      <th>state</th>\n",
       "      <th>county</th>\n",
       "      <th>primary_sex</th>\n",
       "      <th>primary_age</th>\n",
       "      <th>urban</th>\n",
       "      <th>cancer_avg_cost</th>\n",
       "      <th>ha_avg_cost</th>\n",
       "      <th>approx_avg_income</th>\n",
       "      <th>agi</th>\n",
       "      <th>income_bucket</th>\n",
       "    </tr>\n",
       "  </thead>\n",
       "  <tbody>\n",
       "    <tr>\n",
       "      <th>0</th>\n",
       "      <td>AL</td>\n",
       "      <td>Autauga County</td>\n",
       "      <td>All</td>\n",
       "      <td>All</td>\n",
       "      <td>Urban</td>\n",
       "      <td>19293</td>\n",
       "      <td>40470</td>\n",
       "      <td>55680.240764</td>\n",
       "      <td>1327941</td>\n",
       "      <td>36</td>\n",
       "    </tr>\n",
       "  </tbody>\n",
       "</table>\n",
       "</div>"
      ],
      "text/plain": [
       "  state          county primary_sex primary_age  urban  cancer_avg_cost  \\\n",
       "0    AL  Autauga County         All         All  Urban            19293   \n",
       "\n",
       "   ha_avg_cost  approx_avg_income      agi  income_bucket  \n",
       "0        40470       55680.240764  1327941             36  "
      ]
     },
     "execution_count": 25,
     "metadata": {},
     "output_type": "execute_result"
    }
   ],
   "source": [
    "ha_cancer_costs_incomeavg_df = pd.merge(ha_cancer_costs_df, \n",
    "                                        income_county_agg.loc[:,['state', 'county', 'approx_avg_income', 'agi', 'income_bucket']], on=['state', 'county'], how='inner')\n",
    "ha_cancer_costs_incomeavg_df.head(1)"
   ]
  },
  {
   "cell_type": "code",
   "execution_count": 26,
   "metadata": {},
   "outputs": [
    {
     "data": {
      "text/plain": [
       "(2619, 10)"
      ]
     },
     "execution_count": 26,
     "metadata": {},
     "output_type": "execute_result"
    }
   ],
   "source": [
    "ha_cancer_costs_incomeavg_df.shape"
   ]
  },
  {
   "cell_type": "code",
   "execution_count": 27,
   "metadata": {},
   "outputs": [
    {
     "data": {
      "text/html": [
       "<div>\n",
       "<style scoped>\n",
       "    .dataframe tbody tr th:only-of-type {\n",
       "        vertical-align: middle;\n",
       "    }\n",
       "\n",
       "    .dataframe tbody tr th {\n",
       "        vertical-align: top;\n",
       "    }\n",
       "\n",
       "    .dataframe thead th {\n",
       "        text-align: right;\n",
       "    }\n",
       "</style>\n",
       "<table border=\"1\" class=\"dataframe\">\n",
       "  <thead>\n",
       "    <tr style=\"text-align: right;\">\n",
       "      <th></th>\n",
       "      <th>state</th>\n",
       "      <th>county</th>\n",
       "      <th>primary_sex</th>\n",
       "      <th>primary_age</th>\n",
       "      <th>urban</th>\n",
       "      <th>cancer_avg_cost</th>\n",
       "      <th>ha_avg_cost</th>\n",
       "      <th>approx_avg_income</th>\n",
       "      <th>agi</th>\n",
       "      <th>income_bucket</th>\n",
       "      <th>ha_cost_income_ratio</th>\n",
       "      <th>cancer_cost_income_ratio</th>\n",
       "    </tr>\n",
       "  </thead>\n",
       "  <tbody>\n",
       "    <tr>\n",
       "      <th>0</th>\n",
       "      <td>AL</td>\n",
       "      <td>Autauga County</td>\n",
       "      <td>All</td>\n",
       "      <td>All</td>\n",
       "      <td>Urban</td>\n",
       "      <td>19293</td>\n",
       "      <td>40470</td>\n",
       "      <td>55680.240764</td>\n",
       "      <td>1327941</td>\n",
       "      <td>36</td>\n",
       "      <td>0.726829</td>\n",
       "      <td>0.346496</td>\n",
       "    </tr>\n",
       "  </tbody>\n",
       "</table>\n",
       "</div>"
      ],
      "text/plain": [
       "  state          county primary_sex primary_age  urban  cancer_avg_cost  \\\n",
       "0    AL  Autauga County         All         All  Urban            19293   \n",
       "\n",
       "   ha_avg_cost  approx_avg_income      agi  income_bucket  \\\n",
       "0        40470       55680.240764  1327941             36   \n",
       "\n",
       "   ha_cost_income_ratio  cancer_cost_income_ratio  \n",
       "0              0.726829                  0.346496  "
      ]
     },
     "execution_count": 27,
     "metadata": {},
     "output_type": "execute_result"
    }
   ],
   "source": [
    "ha_cancer_costs_incomeavg_df['ha_cost_income_ratio'] = ha_cancer_costs_incomeavg_df.ha_avg_cost / ha_cancer_costs_incomeavg_df.approx_avg_income\n",
    "ha_cancer_costs_incomeavg_df['cancer_cost_income_ratio'] = ha_cancer_costs_incomeavg_df.cancer_avg_cost / ha_cancer_costs_incomeavg_df.approx_avg_income\n",
    "ha_cancer_costs_incomeavg_df.head(1)"
   ]
  },
  {
   "cell_type": "code",
   "execution_count": 28,
   "metadata": {},
   "outputs": [
    {
     "data": {
      "text/plain": [
       "count    2619.000000\n",
       "mean        0.408461\n",
       "std         0.110452\n",
       "min         0.065936\n",
       "25%         0.334745\n",
       "50%         0.403631\n",
       "75%         0.473955\n",
       "max         0.989443\n",
       "Name: cancer_cost_income_ratio, dtype: float64"
      ]
     },
     "execution_count": 28,
     "metadata": {},
     "output_type": "execute_result"
    }
   ],
   "source": [
    "ha_cancer_costs_incomeavg_df.cancer_cost_income_ratio.describe()"
   ]
  },
  {
   "cell_type": "code",
   "execution_count": 29,
   "metadata": {},
   "outputs": [
    {
     "data": {
      "text/plain": [
       "0.4084611666659806"
      ]
     },
     "execution_count": 29,
     "metadata": {},
     "output_type": "execute_result"
    }
   ],
   "source": [
    "ha_cancer_costs_incomeavg_df.cancer_cost_income_ratio.mean()"
   ]
  },
  {
   "cell_type": "code",
   "execution_count": 30,
   "metadata": {},
   "outputs": [
    {
     "data": {
      "text/html": [
       "<div>\n",
       "<style scoped>\n",
       "    .dataframe tbody tr th:only-of-type {\n",
       "        vertical-align: middle;\n",
       "    }\n",
       "\n",
       "    .dataframe tbody tr th {\n",
       "        vertical-align: top;\n",
       "    }\n",
       "\n",
       "    .dataframe thead th {\n",
       "        text-align: right;\n",
       "    }\n",
       "</style>\n",
       "<table border=\"1\" class=\"dataframe\">\n",
       "  <thead>\n",
       "    <tr style=\"text-align: right;\">\n",
       "      <th></th>\n",
       "      <th>state</th>\n",
       "      <th>county</th>\n",
       "      <th>primary_sex</th>\n",
       "      <th>primary_age</th>\n",
       "      <th>urban</th>\n",
       "      <th>cancer_avg_cost</th>\n",
       "      <th>ha_avg_cost</th>\n",
       "      <th>approx_avg_income</th>\n",
       "      <th>agi</th>\n",
       "      <th>income_bucket</th>\n",
       "      <th>ha_cost_income_ratio</th>\n",
       "      <th>cancer_cost_income_ratio</th>\n",
       "      <th>condition</th>\n",
       "    </tr>\n",
       "  </thead>\n",
       "  <tbody>\n",
       "    <tr>\n",
       "      <th>0</th>\n",
       "      <td>AL</td>\n",
       "      <td>Autauga County</td>\n",
       "      <td>All</td>\n",
       "      <td>All</td>\n",
       "      <td>Urban</td>\n",
       "      <td>19293</td>\n",
       "      <td>40470</td>\n",
       "      <td>55680.240764</td>\n",
       "      <td>1327941</td>\n",
       "      <td>36</td>\n",
       "      <td>0.726829</td>\n",
       "      <td>0.346496</td>\n",
       "      <td>0.408461</td>\n",
       "    </tr>\n",
       "  </tbody>\n",
       "</table>\n",
       "</div>"
      ],
      "text/plain": [
       "  state          county primary_sex primary_age  urban  cancer_avg_cost  \\\n",
       "0    AL  Autauga County         All         All  Urban            19293   \n",
       "\n",
       "   ha_avg_cost  approx_avg_income      agi  income_bucket  \\\n",
       "0        40470       55680.240764  1327941             36   \n",
       "\n",
       "   ha_cost_income_ratio  cancer_cost_income_ratio  condition  \n",
       "0              0.726829                  0.346496   0.408461  "
      ]
     },
     "execution_count": 30,
     "metadata": {},
     "output_type": "execute_result"
    }
   ],
   "source": [
    "ha_cancer_costs_incomeavg_df['condition'] = ha_cancer_costs_incomeavg_df.cancer_cost_income_ratio.mean()\n",
    "ha_cancer_costs_incomeavg_df.head(1)"
   ]
  },
  {
   "cell_type": "code",
   "execution_count": 44,
   "metadata": {},
   "outputs": [
    {
     "data": {
      "text/html": [
       "<div>\n",
       "<style scoped>\n",
       "    .dataframe tbody tr th:only-of-type {\n",
       "        vertical-align: middle;\n",
       "    }\n",
       "\n",
       "    .dataframe tbody tr th {\n",
       "        vertical-align: top;\n",
       "    }\n",
       "\n",
       "    .dataframe thead th {\n",
       "        text-align: right;\n",
       "    }\n",
       "</style>\n",
       "<table border=\"1\" class=\"dataframe\">\n",
       "  <thead>\n",
       "    <tr style=\"text-align: right;\">\n",
       "      <th></th>\n",
       "      <th>state</th>\n",
       "      <th>county</th>\n",
       "      <th>primary_sex</th>\n",
       "      <th>primary_age</th>\n",
       "      <th>cancer_avg_cost</th>\n",
       "      <th>ha_avg_cost</th>\n",
       "      <th>approx_avg_income</th>\n",
       "      <th>agi</th>\n",
       "      <th>income_bucket</th>\n",
       "      <th>ha_cost_income_ratio</th>\n",
       "      <th>cancer_cost_income_ratio</th>\n",
       "      <th>condition</th>\n",
       "      <th>cancer_cost_income_ratio_above_avg_y</th>\n",
       "      <th>urban_Urban</th>\n",
       "    </tr>\n",
       "  </thead>\n",
       "  <tbody>\n",
       "    <tr>\n",
       "      <th>0</th>\n",
       "      <td>AL</td>\n",
       "      <td>Autauga County</td>\n",
       "      <td>All</td>\n",
       "      <td>All</td>\n",
       "      <td>19293</td>\n",
       "      <td>40470</td>\n",
       "      <td>55680.240764</td>\n",
       "      <td>1327941</td>\n",
       "      <td>36</td>\n",
       "      <td>0.726829</td>\n",
       "      <td>0.346496</td>\n",
       "      <td>0.408461</td>\n",
       "      <td>False</td>\n",
       "      <td>1</td>\n",
       "    </tr>\n",
       "    <tr>\n",
       "      <th>1</th>\n",
       "      <td>AL</td>\n",
       "      <td>Baldwin County</td>\n",
       "      <td>All</td>\n",
       "      <td>All</td>\n",
       "      <td>17151</td>\n",
       "      <td>36615</td>\n",
       "      <td>62603.044838</td>\n",
       "      <td>5908443</td>\n",
       "      <td>36</td>\n",
       "      <td>0.584876</td>\n",
       "      <td>0.273964</td>\n",
       "      <td>0.408461</td>\n",
       "      <td>False</td>\n",
       "      <td>0</td>\n",
       "    </tr>\n",
       "    <tr>\n",
       "      <th>2</th>\n",
       "      <td>AL</td>\n",
       "      <td>Barbour County</td>\n",
       "      <td>All</td>\n",
       "      <td>All</td>\n",
       "      <td>19469</td>\n",
       "      <td>46509</td>\n",
       "      <td>40094.136808</td>\n",
       "      <td>364774</td>\n",
       "      <td>36</td>\n",
       "      <td>1.159995</td>\n",
       "      <td>0.485582</td>\n",
       "      <td>0.408461</td>\n",
       "      <td>True</td>\n",
       "      <td>0</td>\n",
       "    </tr>\n",
       "    <tr>\n",
       "      <th>3</th>\n",
       "      <td>AL</td>\n",
       "      <td>Bibb County</td>\n",
       "      <td>All</td>\n",
       "      <td>All</td>\n",
       "      <td>17234</td>\n",
       "      <td>42949</td>\n",
       "      <td>47260.201511</td>\n",
       "      <td>371500</td>\n",
       "      <td>36</td>\n",
       "      <td>0.908777</td>\n",
       "      <td>0.364662</td>\n",
       "      <td>0.408461</td>\n",
       "      <td>False</td>\n",
       "      <td>1</td>\n",
       "    </tr>\n",
       "    <tr>\n",
       "      <th>4</th>\n",
       "      <td>AL</td>\n",
       "      <td>Blount County</td>\n",
       "      <td>All</td>\n",
       "      <td>All</td>\n",
       "      <td>20317</td>\n",
       "      <td>50067</td>\n",
       "      <td>49333.197648</td>\n",
       "      <td>1078297</td>\n",
       "      <td>36</td>\n",
       "      <td>1.014874</td>\n",
       "      <td>0.411832</td>\n",
       "      <td>0.408461</td>\n",
       "      <td>True</td>\n",
       "      <td>1</td>\n",
       "    </tr>\n",
       "    <tr>\n",
       "      <th>...</th>\n",
       "      <td>...</td>\n",
       "      <td>...</td>\n",
       "      <td>...</td>\n",
       "      <td>...</td>\n",
       "      <td>...</td>\n",
       "      <td>...</td>\n",
       "      <td>...</td>\n",
       "      <td>...</td>\n",
       "      <td>...</td>\n",
       "      <td>...</td>\n",
       "      <td>...</td>\n",
       "      <td>...</td>\n",
       "      <td>...</td>\n",
       "      <td>...</td>\n",
       "    </tr>\n",
       "    <tr>\n",
       "      <th>2613</th>\n",
       "      <td>WY</td>\n",
       "      <td>Platte County</td>\n",
       "      <td>All</td>\n",
       "      <td>All</td>\n",
       "      <td>23937</td>\n",
       "      <td>47718</td>\n",
       "      <td>52024.401914</td>\n",
       "      <td>213967</td>\n",
       "      <td>36</td>\n",
       "      <td>0.917223</td>\n",
       "      <td>0.460111</td>\n",
       "      <td>0.408461</td>\n",
       "      <td>True</td>\n",
       "      <td>0</td>\n",
       "    </tr>\n",
       "    <tr>\n",
       "      <th>2614</th>\n",
       "      <td>WY</td>\n",
       "      <td>Sheridan County</td>\n",
       "      <td>All</td>\n",
       "      <td>All</td>\n",
       "      <td>19864</td>\n",
       "      <td>59314</td>\n",
       "      <td>68287.817938</td>\n",
       "      <td>999357</td>\n",
       "      <td>36</td>\n",
       "      <td>0.868588</td>\n",
       "      <td>0.290886</td>\n",
       "      <td>0.408461</td>\n",
       "      <td>False</td>\n",
       "      <td>0</td>\n",
       "    </tr>\n",
       "    <tr>\n",
       "      <th>2615</th>\n",
       "      <td>WY</td>\n",
       "      <td>Sweetwater County</td>\n",
       "      <td>All</td>\n",
       "      <td>All</td>\n",
       "      <td>23139</td>\n",
       "      <td>57980</td>\n",
       "      <td>67995.656617</td>\n",
       "      <td>1319648</td>\n",
       "      <td>36</td>\n",
       "      <td>0.852702</td>\n",
       "      <td>0.340301</td>\n",
       "      <td>0.408461</td>\n",
       "      <td>False</td>\n",
       "      <td>0</td>\n",
       "    </tr>\n",
       "    <tr>\n",
       "      <th>2616</th>\n",
       "      <td>WY</td>\n",
       "      <td>Teton County</td>\n",
       "      <td>All</td>\n",
       "      <td>All</td>\n",
       "      <td>14149</td>\n",
       "      <td>31371</td>\n",
       "      <td>214588.045007</td>\n",
       "      <td>2999067</td>\n",
       "      <td>36</td>\n",
       "      <td>0.146192</td>\n",
       "      <td>0.065936</td>\n",
       "      <td>0.408461</td>\n",
       "      <td>False</td>\n",
       "      <td>0</td>\n",
       "    </tr>\n",
       "    <tr>\n",
       "      <th>2617</th>\n",
       "      <td>WY</td>\n",
       "      <td>Uinta County</td>\n",
       "      <td>All</td>\n",
       "      <td>All</td>\n",
       "      <td>18194</td>\n",
       "      <td>73571</td>\n",
       "      <td>60912.403101</td>\n",
       "      <td>543928</td>\n",
       "      <td>36</td>\n",
       "      <td>1.207816</td>\n",
       "      <td>0.298691</td>\n",
       "      <td>0.408461</td>\n",
       "      <td>False</td>\n",
       "      <td>0</td>\n",
       "    </tr>\n",
       "  </tbody>\n",
       "</table>\n",
       "<p>2618 rows × 14 columns</p>\n",
       "</div>"
      ],
      "text/plain": [
       "     state             county primary_sex primary_age  cancer_avg_cost  \\\n",
       "0       AL     Autauga County         All         All            19293   \n",
       "1       AL     Baldwin County         All         All            17151   \n",
       "2       AL     Barbour County         All         All            19469   \n",
       "3       AL        Bibb County         All         All            17234   \n",
       "4       AL      Blount County         All         All            20317   \n",
       "...    ...                ...         ...         ...              ...   \n",
       "2613    WY      Platte County         All         All            23937   \n",
       "2614    WY    Sheridan County         All         All            19864   \n",
       "2615    WY  Sweetwater County         All         All            23139   \n",
       "2616    WY       Teton County         All         All            14149   \n",
       "2617    WY       Uinta County         All         All            18194   \n",
       "\n",
       "      ha_avg_cost  approx_avg_income      agi  income_bucket  \\\n",
       "0           40470       55680.240764  1327941             36   \n",
       "1           36615       62603.044838  5908443             36   \n",
       "2           46509       40094.136808   364774             36   \n",
       "3           42949       47260.201511   371500             36   \n",
       "4           50067       49333.197648  1078297             36   \n",
       "...           ...                ...      ...            ...   \n",
       "2613        47718       52024.401914   213967             36   \n",
       "2614        59314       68287.817938   999357             36   \n",
       "2615        57980       67995.656617  1319648             36   \n",
       "2616        31371      214588.045007  2999067             36   \n",
       "2617        73571       60912.403101   543928             36   \n",
       "\n",
       "      ha_cost_income_ratio  cancer_cost_income_ratio  condition  \\\n",
       "0                 0.726829                  0.346496   0.408461   \n",
       "1                 0.584876                  0.273964   0.408461   \n",
       "2                 1.159995                  0.485582   0.408461   \n",
       "3                 0.908777                  0.364662   0.408461   \n",
       "4                 1.014874                  0.411832   0.408461   \n",
       "...                    ...                       ...        ...   \n",
       "2613              0.917223                  0.460111   0.408461   \n",
       "2614              0.868588                  0.290886   0.408461   \n",
       "2615              0.852702                  0.340301   0.408461   \n",
       "2616              0.146192                  0.065936   0.408461   \n",
       "2617              1.207816                  0.298691   0.408461   \n",
       "\n",
       "      cancer_cost_income_ratio_above_avg_y  urban_Urban  \n",
       "0                                    False            1  \n",
       "1                                    False            0  \n",
       "2                                     True            0  \n",
       "3                                    False            1  \n",
       "4                                     True            1  \n",
       "...                                    ...          ...  \n",
       "2613                                  True            0  \n",
       "2614                                 False            0  \n",
       "2615                                 False            0  \n",
       "2616                                 False            0  \n",
       "2617                                 False            0  \n",
       "\n",
       "[2618 rows x 14 columns]"
      ]
     },
     "execution_count": 44,
     "metadata": {},
     "output_type": "execute_result"
    }
   ],
   "source": [
    "#creating depedendent variable\n",
    "#average cost for cancer care is above the average cost or equal to or below the average cost\n",
    "ha_cancer_costs_incomeavg_df['cancer_cost_income_ratio_above_avg_y'] = ha_cancer_costs_incomeavg_df.cancer_cost_income_ratio > ha_cancer_costs_incomeavg_df.condition\n",
    "ha_cancer_costs_incomeavg_df.head(-1)"
   ]
  },
  {
   "cell_type": "code",
   "execution_count": 32,
   "metadata": {},
   "outputs": [],
   "source": [
    "#get dummmies\n",
    "ha_cancer_costs_incomeavg_df = pd.get_dummies(ha_cancer_costs_incomeavg_df, columns = ['urban'], drop_first = True)"
   ]
  },
  {
   "cell_type": "code",
   "execution_count": 33,
   "metadata": {},
   "outputs": [
    {
     "data": {
      "text/html": [
       "<div>\n",
       "<style scoped>\n",
       "    .dataframe tbody tr th:only-of-type {\n",
       "        vertical-align: middle;\n",
       "    }\n",
       "\n",
       "    .dataframe tbody tr th {\n",
       "        vertical-align: top;\n",
       "    }\n",
       "\n",
       "    .dataframe thead th {\n",
       "        text-align: right;\n",
       "    }\n",
       "</style>\n",
       "<table border=\"1\" class=\"dataframe\">\n",
       "  <thead>\n",
       "    <tr style=\"text-align: right;\">\n",
       "      <th></th>\n",
       "      <th>state</th>\n",
       "      <th>county</th>\n",
       "      <th>primary_sex</th>\n",
       "      <th>primary_age</th>\n",
       "      <th>cancer_avg_cost</th>\n",
       "      <th>ha_avg_cost</th>\n",
       "      <th>approx_avg_income</th>\n",
       "      <th>agi</th>\n",
       "      <th>income_bucket</th>\n",
       "      <th>ha_cost_income_ratio</th>\n",
       "      <th>cancer_cost_income_ratio</th>\n",
       "      <th>condition</th>\n",
       "      <th>cancer_cost_income_ratio_above_avg_y</th>\n",
       "      <th>urban_Urban</th>\n",
       "    </tr>\n",
       "  </thead>\n",
       "  <tbody>\n",
       "    <tr>\n",
       "      <th>0</th>\n",
       "      <td>AL</td>\n",
       "      <td>Autauga County</td>\n",
       "      <td>All</td>\n",
       "      <td>All</td>\n",
       "      <td>19293</td>\n",
       "      <td>40470</td>\n",
       "      <td>55680.240764</td>\n",
       "      <td>1327941</td>\n",
       "      <td>36</td>\n",
       "      <td>0.726829</td>\n",
       "      <td>0.346496</td>\n",
       "      <td>0.408461</td>\n",
       "      <td>False</td>\n",
       "      <td>1</td>\n",
       "    </tr>\n",
       "  </tbody>\n",
       "</table>\n",
       "</div>"
      ],
      "text/plain": [
       "  state          county primary_sex primary_age  cancer_avg_cost  ha_avg_cost  \\\n",
       "0    AL  Autauga County         All         All            19293        40470   \n",
       "\n",
       "   approx_avg_income      agi  income_bucket  ha_cost_income_ratio  \\\n",
       "0       55680.240764  1327941             36              0.726829   \n",
       "\n",
       "   cancer_cost_income_ratio  condition  cancer_cost_income_ratio_above_avg_y  \\\n",
       "0                  0.346496   0.408461                                 False   \n",
       "\n",
       "   urban_Urban  \n",
       "0            1  "
      ]
     },
     "execution_count": 33,
     "metadata": {},
     "output_type": "execute_result"
    }
   ],
   "source": [
    "ha_cancer_costs_incomeavg_df.head(1)"
   ]
  },
  {
   "cell_type": "code",
   "execution_count": 34,
   "metadata": {},
   "outputs": [],
   "source": [
    "#log reg model\n",
    "X = ha_cancer_costs_incomeavg_df[['urban_Urban']]\n",
    "y = ha_cancer_costs_incomeavg_df['cancer_cost_income_ratio_above_avg_y']"
   ]
  },
  {
   "cell_type": "code",
   "execution_count": 35,
   "metadata": {},
   "outputs": [
    {
     "data": {
      "text/plain": [
       "LogisticRegression()"
      ]
     },
     "execution_count": 35,
     "metadata": {},
     "output_type": "execute_result"
    }
   ],
   "source": [
    "logistic_model = LogisticRegression()\n",
    "logistic_model.fit(X, y)"
   ]
  },
  {
   "cell_type": "code",
   "execution_count": 38,
   "metadata": {},
   "outputs": [
    {
     "data": {
      "text/plain": [
       "array([-1.4461537])"
      ]
     },
     "execution_count": 38,
     "metadata": {},
     "output_type": "execute_result"
    }
   ],
   "source": [
    "logistic_model.coef_[0]"
   ]
  },
  {
   "cell_type": "code",
   "execution_count": 40,
   "metadata": {},
   "outputs": [],
   "source": [
    "#machine learning\n",
    "X_train, X_test, y_train, y_test = train_test_split(X, y, random_state = 321)"
   ]
  },
  {
   "cell_type": "code",
   "execution_count": 41,
   "metadata": {},
   "outputs": [
    {
     "data": {
      "text/plain": [
       "LogisticRegression()"
      ]
     },
     "execution_count": 41,
     "metadata": {},
     "output_type": "execute_result"
    }
   ],
   "source": [
    "logistic_model = LogisticRegression()\n",
    "logistic_model.fit(X_train, y_train)"
   ]
  },
  {
   "cell_type": "code",
   "execution_count": 42,
   "metadata": {},
   "outputs": [
    {
     "data": {
      "image/png": "[encoded data removed]",
      "text/plain": [
       "<Figure size 504x360 with 1 Axes>"
      ]
     },
     "metadata": {
      "needs_background": "light"
     },
     "output_type": "display_data"
    }
   ],
   "source": [
    "fig, ax = plt.subplots(figsize = (7,5))\n",
    "sns.barplot(x = logistic_model.coef_[0], y = list(X.columns), ax = ax, edgecolor = 'black')\n",
    "plt.title('Logistic Regression Coefficients')\n",
    "\n",
    "ymin, ymax = plt.ylim()\n",
    "plt.vlines(x = 0, ymin = ymin, ymax = ymax);"
   ]
  },
  {
   "cell_type": "code",
   "execution_count": 144,
   "metadata": {},
   "outputs": [
    {
     "data": {
      "image/png": "[encoded data removed]",
      "text/plain": [
       "<Figure size 432x288 with 1 Axes>"
      ]
     },
     "metadata": {
      "needs_background": "light"
     },
     "output_type": "display_data"
    }
   ],
   "source": [
    "y_pred_prob = logistic_model.predict_proba(X_test)[:,1]\n",
    "fp_rate, tp_rate, thresholds = metrics.roc_curve(y_test, y_pred_prob)\n",
    "\n",
    "plt.plot(fp_rate, tp_rate)\n",
    "plt.xlim([0.0, 1.0])\n",
    "plt.ylim([0.0, 1.0])\n",
    "plt.title('ROC curve for Cancer Cost Ratio Above Average classifier')\n",
    "plt.xlabel('False Positive Rate (1 - Specificity)')\n",
    "plt.ylabel('True Positive Rate (Sensitivity)')\n",
    "plt.grid(True)"
   ]
  },
  {
   "cell_type": "code",
   "execution_count": 145,
   "metadata": {},
   "outputs": [
    {
     "name": "stdout",
     "output_type": "stream",
     "text": [
      "0.7029370629370629\n"
     ]
    }
   ],
   "source": [
    "print(metrics.roc_auc_score(y_test, y_pred_prob))"
   ]
  },
  {
   "cell_type": "markdown",
   "metadata": {},
   "source": [
    "Build and evaluate a `RandomForestClassifier`"
   ]
  },
  {
   "cell_type": "code",
   "execution_count": 150,
   "metadata": {},
   "outputs": [
    {
     "data": {
      "text/plain": [
       "DecisionTreeClassifier()"
      ]
     },
     "execution_count": 150,
     "metadata": {},
     "output_type": "execute_result"
    }
   ],
   "source": [
    "tree = DecisionTreeClassifier()\n",
    "tree.fit(X_train, y_train)"
   ]
  },
  {
   "cell_type": "code",
   "execution_count": 151,
   "metadata": {},
   "outputs": [
    {
     "name": "stdout",
     "output_type": "stream",
     "text": [
      "0.6471486761710794\n"
     ]
    }
   ],
   "source": [
    "y_pred_train = tree.predict(X_train)\n",
    "print(metrics.accuracy_score(y_train, y_pred_train))"
   ]
  },
  {
   "cell_type": "code",
   "execution_count": 152,
   "metadata": {},
   "outputs": [
    {
     "name": "stdout",
     "output_type": "stream",
     "text": [
      "0.7022900763358778\n"
     ]
    }
   ],
   "source": [
    "y_pred = tree.predict(X_test)\n",
    "\n",
    "print(metrics.accuracy_score(y_test, y_pred))"
   ]
  },
  {
   "cell_type": "code",
   "execution_count": 146,
   "metadata": {},
   "outputs": [
    {
     "data": {
      "text/plain": [
       "RandomForestClassifier(max_depth=5, min_samples_leaf=5, n_estimators=1000)"
      ]
     },
     "execution_count": 146,
     "metadata": {},
     "output_type": "execute_result"
    }
   ],
   "source": [
    "forest = RandomForestClassifier(n_estimators = 1000, max_depth = 5, min_samples_leaf = 5)\n",
    "forest.fit(X_train, y_train)"
   ]
  },
  {
   "cell_type": "code",
   "execution_count": 147,
   "metadata": {},
   "outputs": [
    {
     "name": "stdout",
     "output_type": "stream",
     "text": [
      "0.6471486761710794\n"
     ]
    }
   ],
   "source": [
    "y_pred_train = forest.predict(X_train)\n",
    "print(metrics.accuracy_score(y_train, y_pred_train))"
   ]
  },
  {
   "cell_type": "code",
   "execution_count": 148,
   "metadata": {},
   "outputs": [
    {
     "name": "stdout",
     "output_type": "stream",
     "text": [
      "0.7022900763358778\n"
     ]
    }
   ],
   "source": [
    "y_pred = forest.predict(X_test)\n",
    "print(metrics.accuracy_score(y_test, y_pred))"
   ]
  },
  {
   "cell_type": "code",
   "execution_count": 149,
   "metadata": {},
   "outputs": [
    {
     "data": {
      "image/png": "[encoded data removed]",
      "text/plain": [
       "<Figure size 504x360 with 1 Axes>"
      ]
     },
     "metadata": {
      "needs_background": "light"
     },
     "output_type": "display_data"
    }
   ],
   "source": [
    "fig, ax = plt.subplots(figsize = (7,5))\n",
    "sns.barplot(x = forest.feature_importances_, y = list(X.columns), ax = ax, edgecolor = 'black')\n",
    "plt.title('Random Forest Feature Importance');"
   ]
  },
  {
   "cell_type": "code",
   "execution_count": null,
   "metadata": {},
   "outputs": [],
   "source": []
  }
 ],
 "metadata": {
  "kernelspec": {
   "display_name": "Python 3",
   "language": "python",
   "name": "python3"
  },
  "language_info": {
   "codemirror_mode": {
    "name": "ipython",
    "version": 3
   },
   "file_extension": ".py",
   "mimetype": "text/x-python",
   "name": "python",
   "nbconvert_exporter": "python",
   "pygments_lexer": "ipython3",
   "version": "3.8.3"
  }
 },
 "nbformat": 4,
 "nbformat_minor": 4
}
