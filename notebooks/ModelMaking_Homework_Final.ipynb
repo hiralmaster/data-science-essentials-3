{
 "cells": [
  {
   "cell_type": "markdown",
   "metadata": {},
   "source": [
    "# Model making"
   ]
  },
  {
   "cell_type": "markdown",
   "metadata": {},
   "source": [
    "Create full data set for all states and don't exclude TN \n",
    "\n",
    "read cancer data set: state, county, avg_cost\n",
    "income data - create income agg data by state and county\n"
   ]
  },
  {
   "cell_type": "code",
   "execution_count": null,
   "metadata": {},
   "outputs": [],
   "source": [
    "import pandas as pd\n",
    "import matplotlib.pyplot as plt\n",
    "import seaborn as sns\n",
    "\n",
    "from sklearn.model_selection import train_test_split\n",
    "from sklearn.linear_model import LogisticRegression\n",
    "from sklearn import metrics\n",
    "\n",
    "from cm import plot_confusion_matrix\n",
    "\n",
    "from sklearn.ensemble import RandomForestClassifier\n",
    "from sklearn.tree import DecisionTreeClassifier, export_graphviz\n",
    "#import graphviz\n",
    "from IPython.display import SVG\n",
    "\n",
    "import warnings\n",
    "\n",
    "warnings.filterwarnings('ignore')\n",
    "\n",
    "%matplotlib inline"
   ]
  },
  {
   "cell_type": "code",
   "execution_count": 221,
   "metadata": {},
   "outputs": [
    {
     "data": {
      "text/html": [
       "<div>\n",
       "<style scoped>\n",
       "    .dataframe tbody tr th:only-of-type {\n",
       "        vertical-align: middle;\n",
       "    }\n",
       "\n",
       "    .dataframe tbody tr th {\n",
       "        vertical-align: top;\n",
       "    }\n",
       "\n",
       "    .dataframe thead th {\n",
       "        text-align: right;\n",
       "    }\n",
       "</style>\n",
       "<table border=\"1\" class=\"dataframe\">\n",
       "  <thead>\n",
       "    <tr style=\"text-align: right;\">\n",
       "      <th></th>\n",
       "      <th>year</th>\n",
       "      <th>geography</th>\n",
       "      <th>measure</th>\n",
       "      <th>adjustment</th>\n",
       "      <th>analysis</th>\n",
       "      <th>domain</th>\n",
       "      <th>condition</th>\n",
       "      <th>primary_sex</th>\n",
       "      <th>primary_age</th>\n",
       "      <th>primary_dual</th>\n",
       "      <th>fips</th>\n",
       "      <th>county</th>\n",
       "      <th>state</th>\n",
       "      <th>urban</th>\n",
       "      <th>primary_race</th>\n",
       "      <th>primary_denominator</th>\n",
       "      <th>ha_avg_cost</th>\n",
       "    </tr>\n",
       "  </thead>\n",
       "  <tbody>\n",
       "    <tr>\n",
       "      <th>0</th>\n",
       "      <td>2017</td>\n",
       "      <td>County</td>\n",
       "      <td>Average total cost</td>\n",
       "      <td>Unsmoothed actual</td>\n",
       "      <td>Base measure</td>\n",
       "      <td>Primary chronic conditions</td>\n",
       "      <td>Acute myocardial infarction</td>\n",
       "      <td>All</td>\n",
       "      <td>All</td>\n",
       "      <td>Dual &amp; non-dual</td>\n",
       "      <td>1001</td>\n",
       "      <td>Autauga County</td>\n",
       "      <td>ALABAMA</td>\n",
       "      <td>Urban</td>\n",
       "      <td>All</td>\n",
       "      <td>undefined</td>\n",
       "      <td>40470</td>\n",
       "    </tr>\n",
       "  </tbody>\n",
       "</table>\n",
       "</div>"
      ],
      "text/plain": [
       "   year geography             measure         adjustment      analysis  \\\n",
       "0  2017    County  Average total cost  Unsmoothed actual  Base measure   \n",
       "\n",
       "                       domain                    condition primary_sex  \\\n",
       "0  Primary chronic conditions  Acute myocardial infarction         All   \n",
       "\n",
       "  primary_age     primary_dual  fips          county    state  urban  \\\n",
       "0         All  Dual & non-dual  1001  Autauga County  ALABAMA  Urban   \n",
       "\n",
       "  primary_race primary_denominator  ha_avg_cost  \n",
       "0          All           undefined        40470  "
      ]
     },
     "execution_count": 221,
     "metadata": {},
     "output_type": "execute_result"
    }
   ],
   "source": [
    "#Create a DataFrame, ha_costs_df, from the mmd_heart_attack_data.csv file.\n",
    "ha_costs_df = pd.read_csv('../data/mmd_heart_attack_data.csv')\n",
    "#Look at the head and tail of the DataFrame\n",
    "ha_costs_df.head(-1)\n",
    "ha_costs_df['state'].value_counts()\n",
    "ha_costs_df.rename(columns = {'analysis_value': 'ha_avg_cost'}, inplace = True)\n",
    "ha_costs_df.head(1)"
   ]
  },
  {
   "cell_type": "code",
   "execution_count": 222,
   "metadata": {},
   "outputs": [
    {
     "data": {
      "text/plain": [
       "(2656, 17)"
      ]
     },
     "execution_count": 222,
     "metadata": {},
     "output_type": "execute_result"
    }
   ],
   "source": [
    "ha_costs_df.shape"
   ]
  },
  {
   "cell_type": "code",
   "execution_count": 223,
   "metadata": {},
   "outputs": [
    {
     "data": {
      "text/html": [
       "<div>\n",
       "<style scoped>\n",
       "    .dataframe tbody tr th:only-of-type {\n",
       "        vertical-align: middle;\n",
       "    }\n",
       "\n",
       "    .dataframe tbody tr th {\n",
       "        vertical-align: top;\n",
       "    }\n",
       "\n",
       "    .dataframe thead th {\n",
       "        text-align: right;\n",
       "    }\n",
       "</style>\n",
       "<table border=\"1\" class=\"dataframe\">\n",
       "  <thead>\n",
       "    <tr style=\"text-align: right;\">\n",
       "      <th></th>\n",
       "      <th>year</th>\n",
       "      <th>geography</th>\n",
       "      <th>measure</th>\n",
       "      <th>adjustment</th>\n",
       "      <th>analysis</th>\n",
       "      <th>domain</th>\n",
       "      <th>condition</th>\n",
       "      <th>primary_sex</th>\n",
       "      <th>primary_age</th>\n",
       "      <th>primary_dual</th>\n",
       "      <th>fips</th>\n",
       "      <th>county</th>\n",
       "      <th>state</th>\n",
       "      <th>urban</th>\n",
       "      <th>primary_race</th>\n",
       "      <th>primary_denominator</th>\n",
       "      <th>cancer_avg_cost</th>\n",
       "    </tr>\n",
       "  </thead>\n",
       "  <tbody>\n",
       "    <tr>\n",
       "      <th>0</th>\n",
       "      <td>2017</td>\n",
       "      <td>County</td>\n",
       "      <td>Average total cost</td>\n",
       "      <td>Unsmoothed actual</td>\n",
       "      <td>Base measure</td>\n",
       "      <td>Primary chronic conditions</td>\n",
       "      <td>Cancer, Colorectal, Breast, Prostate, Lung</td>\n",
       "      <td>All</td>\n",
       "      <td>All</td>\n",
       "      <td>Dual &amp; non-dual</td>\n",
       "      <td>1001</td>\n",
       "      <td>Autauga County</td>\n",
       "      <td>ALABAMA</td>\n",
       "      <td>Urban</td>\n",
       "      <td>All</td>\n",
       "      <td>undefined</td>\n",
       "      <td>19293</td>\n",
       "    </tr>\n",
       "  </tbody>\n",
       "</table>\n",
       "</div>"
      ],
      "text/plain": [
       "   year geography             measure         adjustment      analysis  \\\n",
       "0  2017    County  Average total cost  Unsmoothed actual  Base measure   \n",
       "\n",
       "                       domain                                   condition  \\\n",
       "0  Primary chronic conditions  Cancer, Colorectal, Breast, Prostate, Lung   \n",
       "\n",
       "  primary_sex primary_age     primary_dual  fips          county    state  \\\n",
       "0         All         All  Dual & non-dual  1001  Autauga County  ALABAMA   \n",
       "\n",
       "   urban primary_race primary_denominator  cancer_avg_cost  \n",
       "0  Urban          All           undefined            19293  "
      ]
     },
     "execution_count": 223,
     "metadata": {},
     "output_type": "execute_result"
    }
   ],
   "source": [
    "#Create a DataFrame, cancer_costs_df, from the mmd_cancer_data.csv file.\n",
    "cancer_costs_df = pd.read_csv('../data/mmd_cancer_data.csv')\n",
    "#Look at the head and tail of the DataFrame\n",
    "cancer_costs_df.head(-1)\n",
    "cancer_costs_df['state'].value_counts()\n",
    "cancer_costs_df.rename(columns = {'analysis_value': 'cancer_avg_cost'}, inplace = True)\n",
    "cancer_costs_df.head(1)"
   ]
  },
  {
   "cell_type": "code",
   "execution_count": 224,
   "metadata": {},
   "outputs": [
    {
     "data": {
      "text/plain": [
       "(3165, 17)"
      ]
     },
     "execution_count": 224,
     "metadata": {},
     "output_type": "execute_result"
    }
   ],
   "source": [
    "cancer_costs_df.shape"
   ]
  },
  {
   "cell_type": "code",
   "execution_count": 225,
   "metadata": {},
   "outputs": [
    {
     "name": "stdout",
     "output_type": "stream",
     "text": [
      "<class 'pandas.core.frame.DataFrame'>\n",
      "RangeIndex: 25536 entries, 0 to 25535\n",
      "Columns: 148 entries, STATEFIPS to A11902\n",
      "dtypes: int64(146), object(2)\n",
      "memory usage: 28.8+ MB\n"
     ]
    },
    {
     "data": {
      "text/html": [
       "<div>\n",
       "<style scoped>\n",
       "    .dataframe tbody tr th:only-of-type {\n",
       "        vertical-align: middle;\n",
       "    }\n",
       "\n",
       "    .dataframe tbody tr th {\n",
       "        vertical-align: top;\n",
       "    }\n",
       "\n",
       "    .dataframe thead th {\n",
       "        text-align: right;\n",
       "    }\n",
       "</style>\n",
       "<table border=\"1\" class=\"dataframe\">\n",
       "  <thead>\n",
       "    <tr style=\"text-align: right;\">\n",
       "      <th></th>\n",
       "      <th>STATEFIPS</th>\n",
       "      <th>STATE</th>\n",
       "      <th>COUNTYFIPS</th>\n",
       "      <th>COUNTYNAME</th>\n",
       "      <th>agi_stub</th>\n",
       "      <th>N1</th>\n",
       "      <th>mars1</th>\n",
       "      <th>MARS2</th>\n",
       "      <th>MARS4</th>\n",
       "      <th>PREP</th>\n",
       "      <th>...</th>\n",
       "      <th>N10300</th>\n",
       "      <th>A10300</th>\n",
       "      <th>N85530</th>\n",
       "      <th>A85530</th>\n",
       "      <th>N85300</th>\n",
       "      <th>A85300</th>\n",
       "      <th>N11901</th>\n",
       "      <th>A11901</th>\n",
       "      <th>N11902</th>\n",
       "      <th>A11902</th>\n",
       "    </tr>\n",
       "  </thead>\n",
       "  <tbody>\n",
       "    <tr>\n",
       "      <th>0</th>\n",
       "      <td>1</td>\n",
       "      <td>AL</td>\n",
       "      <td>0</td>\n",
       "      <td>Alabama</td>\n",
       "      <td>1</td>\n",
       "      <td>26450</td>\n",
       "      <td>14680</td>\n",
       "      <td>9740</td>\n",
       "      <td>680</td>\n",
       "      <td>17780</td>\n",
       "      <td>...</td>\n",
       "      <td>4300</td>\n",
       "      <td>9256</td>\n",
       "      <td>70</td>\n",
       "      <td>57</td>\n",
       "      <td>0</td>\n",
       "      <td>0</td>\n",
       "      <td>2590</td>\n",
       "      <td>3685</td>\n",
       "      <td>11510</td>\n",
       "      <td>35079</td>\n",
       "    </tr>\n",
       "  </tbody>\n",
       "</table>\n",
       "<p>1 rows × 148 columns</p>\n",
       "</div>"
      ],
      "text/plain": [
       "   STATEFIPS STATE  COUNTYFIPS COUNTYNAME  agi_stub     N1  mars1  MARS2  \\\n",
       "0          1    AL           0    Alabama         1  26450  14680   9740   \n",
       "\n",
       "   MARS4   PREP  ...  N10300  A10300  N85530  A85530  N85300  A85300  N11901  \\\n",
       "0    680  17780  ...    4300    9256      70      57       0       0    2590   \n",
       "\n",
       "   A11901  N11902  A11902  \n",
       "0    3685   11510   35079  \n",
       "\n",
       "[1 rows x 148 columns]"
      ]
     },
     "execution_count": 225,
     "metadata": {},
     "output_type": "execute_result"
    }
   ],
   "source": [
    "#Create a DataFrame, income_df, from the irs_county_2016.csv file.\n",
    "income_df = pd.read_csv('../data/irs_county_2016.csv')\n",
    "income_df.info()\n",
    "income_df.head(1)"
   ]
  },
  {
   "cell_type": "code",
   "execution_count": 226,
   "metadata": {},
   "outputs": [
    {
     "data": {
      "text/plain": [
       "(25536, 148)"
      ]
     },
     "execution_count": 226,
     "metadata": {},
     "output_type": "execute_result"
    }
   ],
   "source": [
    "income_df.shape"
   ]
  },
  {
   "cell_type": "code",
   "execution_count": 227,
   "metadata": {},
   "outputs": [],
   "source": [
    "#Keep only the following columns:\n",
    "    #['STATE', 'COUNTYNAME', 'agi_stub', 'N1', 'mars1', 'MARS2', 'MARS4', 'N2', 'NUMDEP', 'ELDERLY', 'A00100', 'N02650', 'A02650', 'N02300', 'A02300']\n",
    "income_df = income_df.loc[:, ['STATE', 'COUNTYNAME', 'agi_stub', 'N1', 'mars1', 'MARS2', 'MARS4', 'N2', \n",
    "                              'NUMDEP', 'ELDERLY','A00100', 'N02650', 'A02650', 'N02300', 'A02300']]"
   ]
  },
  {
   "cell_type": "code",
   "execution_count": 228,
   "metadata": {},
   "outputs": [
    {
     "data": {
      "text/html": [
       "<div>\n",
       "<style scoped>\n",
       "    .dataframe tbody tr th:only-of-type {\n",
       "        vertical-align: middle;\n",
       "    }\n",
       "\n",
       "    .dataframe tbody tr th {\n",
       "        vertical-align: top;\n",
       "    }\n",
       "\n",
       "    .dataframe thead th {\n",
       "        text-align: right;\n",
       "    }\n",
       "</style>\n",
       "<table border=\"1\" class=\"dataframe\">\n",
       "  <thead>\n",
       "    <tr style=\"text-align: right;\">\n",
       "      <th></th>\n",
       "      <th>state</th>\n",
       "      <th>county</th>\n",
       "      <th>income_bucket</th>\n",
       "      <th>return_count</th>\n",
       "      <th>single_returns</th>\n",
       "      <th>joint_returns</th>\n",
       "      <th>head_of_house_returns</th>\n",
       "      <th>exemptions</th>\n",
       "      <th>dependents</th>\n",
       "      <th>elderly</th>\n",
       "      <th>agi</th>\n",
       "      <th>returns_with_total_inc</th>\n",
       "      <th>total_inc_amt</th>\n",
       "      <th>returns_with_unemployment</th>\n",
       "      <th>unemployment_comp</th>\n",
       "    </tr>\n",
       "  </thead>\n",
       "  <tbody>\n",
       "    <tr>\n",
       "      <th>0</th>\n",
       "      <td>AL</td>\n",
       "      <td>Alabama</td>\n",
       "      <td>1</td>\n",
       "      <td>26450</td>\n",
       "      <td>14680</td>\n",
       "      <td>9740</td>\n",
       "      <td>680</td>\n",
       "      <td>40700</td>\n",
       "      <td>5590</td>\n",
       "      <td>13000</td>\n",
       "      <td>-1679314</td>\n",
       "      <td>19140</td>\n",
       "      <td>-1657452</td>\n",
       "      <td>60</td>\n",
       "      <td>203</td>\n",
       "    </tr>\n",
       "  </tbody>\n",
       "</table>\n",
       "</div>"
      ],
      "text/plain": [
       "  state   county  income_bucket  return_count  single_returns  joint_returns  \\\n",
       "0    AL  Alabama              1         26450           14680           9740   \n",
       "\n",
       "   head_of_house_returns  exemptions  dependents  elderly      agi  \\\n",
       "0                    680       40700        5590    13000 -1679314   \n",
       "\n",
       "   returns_with_total_inc  total_inc_amt  returns_with_unemployment  \\\n",
       "0                   19140       -1657452                         60   \n",
       "\n",
       "   unemployment_comp  \n",
       "0                203  "
      ]
     },
     "execution_count": 228,
     "metadata": {},
     "output_type": "execute_result"
    }
   ],
   "source": [
    "#Rename columns\n",
    "income_df.columns = ['state', 'county', 'income_bucket', 'return_count', 'single_returns', \n",
    "                     'joint_returns', 'head_of_house_returns', 'exemptions', 'dependents', \n",
    "                     'elderly', 'agi', 'returns_with_total_inc','total_inc_amt', 'returns_with_unemployment', \n",
    "                     'unemployment_comp']\n",
    "income_df.head(1)"
   ]
  },
  {
   "cell_type": "code",
   "execution_count": 230,
   "metadata": {},
   "outputs": [
    {
     "data": {
      "text/html": [
       "<div>\n",
       "<style scoped>\n",
       "    .dataframe tbody tr th:only-of-type {\n",
       "        vertical-align: middle;\n",
       "    }\n",
       "\n",
       "    .dataframe tbody tr th {\n",
       "        vertical-align: top;\n",
       "    }\n",
       "\n",
       "    .dataframe thead th {\n",
       "        text-align: right;\n",
       "    }\n",
       "</style>\n",
       "<table border=\"1\" class=\"dataframe\">\n",
       "  <thead>\n",
       "    <tr style=\"text-align: right;\">\n",
       "      <th></th>\n",
       "      <th></th>\n",
       "      <th>income_bucket</th>\n",
       "      <th>return_count</th>\n",
       "      <th>single_returns</th>\n",
       "      <th>joint_returns</th>\n",
       "      <th>head_of_house_returns</th>\n",
       "      <th>exemptions</th>\n",
       "      <th>dependents</th>\n",
       "      <th>elderly</th>\n",
       "      <th>agi</th>\n",
       "      <th>returns_with_total_inc</th>\n",
       "      <th>total_inc_amt</th>\n",
       "      <th>returns_with_unemployment</th>\n",
       "      <th>unemployment_comp</th>\n",
       "    </tr>\n",
       "    <tr>\n",
       "      <th>state</th>\n",
       "      <th>county</th>\n",
       "      <th></th>\n",
       "      <th></th>\n",
       "      <th></th>\n",
       "      <th></th>\n",
       "      <th></th>\n",
       "      <th></th>\n",
       "      <th></th>\n",
       "      <th></th>\n",
       "      <th></th>\n",
       "      <th></th>\n",
       "      <th></th>\n",
       "      <th></th>\n",
       "      <th></th>\n",
       "    </tr>\n",
       "  </thead>\n",
       "  <tbody>\n",
       "    <tr>\n",
       "      <th>AK</th>\n",
       "      <th>Alaska</th>\n",
       "      <td>36</td>\n",
       "      <td>348070</td>\n",
       "      <td>175480</td>\n",
       "      <td>126660</td>\n",
       "      <td>37340</td>\n",
       "      <td>654950</td>\n",
       "      <td>205660</td>\n",
       "      <td>71410</td>\n",
       "      <td>23514361</td>\n",
       "      <td>347600</td>\n",
       "      <td>23858011</td>\n",
       "      <td>83270</td>\n",
       "      <td>167460</td>\n",
       "    </tr>\n",
       "  </tbody>\n",
       "</table>\n",
       "</div>"
      ],
      "text/plain": [
       "              income_bucket  return_count  single_returns  joint_returns  \\\n",
       "state county                                                               \n",
       "AK    Alaska             36        348070          175480         126660   \n",
       "\n",
       "              head_of_house_returns  exemptions  dependents  elderly  \\\n",
       "state county                                                           \n",
       "AK    Alaska                  37340      654950      205660    71410   \n",
       "\n",
       "                   agi  returns_with_total_inc  total_inc_amt  \\\n",
       "state county                                                    \n",
       "AK    Alaska  23514361                  347600       23858011   \n",
       "\n",
       "              returns_with_unemployment  unemployment_comp  \n",
       "state county                                                \n",
       "AK    Alaska                      83270             167460  "
      ]
     },
     "execution_count": 230,
     "metadata": {},
     "output_type": "execute_result"
    }
   ],
   "source": [
    "# Create agg income by state and county.\n",
    "income_county_agg = income_df.groupby(['state', 'county']).sum() \n",
    "income_county_agg.head(1)"
   ]
  },
  {
   "cell_type": "code",
   "execution_count": 231,
   "metadata": {},
   "outputs": [
    {
     "data": {
      "text/html": [
       "<div>\n",
       "<style scoped>\n",
       "    .dataframe tbody tr th:only-of-type {\n",
       "        vertical-align: middle;\n",
       "    }\n",
       "\n",
       "    .dataframe tbody tr th {\n",
       "        vertical-align: top;\n",
       "    }\n",
       "\n",
       "    .dataframe thead th {\n",
       "        text-align: right;\n",
       "    }\n",
       "</style>\n",
       "<table border=\"1\" class=\"dataframe\">\n",
       "  <thead>\n",
       "    <tr style=\"text-align: right;\">\n",
       "      <th></th>\n",
       "      <th>state</th>\n",
       "      <th>county</th>\n",
       "      <th>income_bucket</th>\n",
       "      <th>return_count</th>\n",
       "      <th>single_returns</th>\n",
       "      <th>joint_returns</th>\n",
       "      <th>head_of_house_returns</th>\n",
       "      <th>exemptions</th>\n",
       "      <th>dependents</th>\n",
       "      <th>elderly</th>\n",
       "      <th>agi</th>\n",
       "      <th>returns_with_total_inc</th>\n",
       "      <th>total_inc_amt</th>\n",
       "      <th>returns_with_unemployment</th>\n",
       "      <th>unemployment_comp</th>\n",
       "    </tr>\n",
       "  </thead>\n",
       "  <tbody>\n",
       "    <tr>\n",
       "      <th>0</th>\n",
       "      <td>AK</td>\n",
       "      <td>Alaska</td>\n",
       "      <td>36</td>\n",
       "      <td>348070</td>\n",
       "      <td>175480</td>\n",
       "      <td>126660</td>\n",
       "      <td>37340</td>\n",
       "      <td>654950</td>\n",
       "      <td>205660</td>\n",
       "      <td>71410</td>\n",
       "      <td>23514361</td>\n",
       "      <td>347600</td>\n",
       "      <td>23858011</td>\n",
       "      <td>83270</td>\n",
       "      <td>167460</td>\n",
       "    </tr>\n",
       "  </tbody>\n",
       "</table>\n",
       "</div>"
      ],
      "text/plain": [
       "  state  county  income_bucket  return_count  single_returns  joint_returns  \\\n",
       "0    AK  Alaska             36        348070          175480         126660   \n",
       "\n",
       "   head_of_house_returns  exemptions  dependents  elderly       agi  \\\n",
       "0                  37340      654950      205660    71410  23514361   \n",
       "\n",
       "   returns_with_total_inc  total_inc_amt  returns_with_unemployment  \\\n",
       "0                  347600       23858011                      83270   \n",
       "\n",
       "   unemployment_comp  \n",
       "0             167460  "
      ]
     },
     "execution_count": 231,
     "metadata": {},
     "output_type": "execute_result"
    }
   ],
   "source": [
    "#Be sure to also `reset_index()` so that our aggregated data is re-indexed to begin at 0. \n",
    "income_county_agg = income_county_agg.reset_index()\n",
    "income_county_agg.head(1)"
   ]
  },
  {
   "cell_type": "code",
   "execution_count": 232,
   "metadata": {},
   "outputs": [
    {
     "data": {
      "text/html": [
       "<div>\n",
       "<style scoped>\n",
       "    .dataframe tbody tr th:only-of-type {\n",
       "        vertical-align: middle;\n",
       "    }\n",
       "\n",
       "    .dataframe tbody tr th {\n",
       "        vertical-align: top;\n",
       "    }\n",
       "\n",
       "    .dataframe thead th {\n",
       "        text-align: right;\n",
       "    }\n",
       "</style>\n",
       "<table border=\"1\" class=\"dataframe\">\n",
       "  <thead>\n",
       "    <tr style=\"text-align: right;\">\n",
       "      <th></th>\n",
       "      <th>state</th>\n",
       "      <th>county</th>\n",
       "      <th>income_bucket</th>\n",
       "      <th>return_count</th>\n",
       "      <th>single_returns</th>\n",
       "      <th>joint_returns</th>\n",
       "      <th>head_of_house_returns</th>\n",
       "      <th>exemptions</th>\n",
       "      <th>dependents</th>\n",
       "      <th>elderly</th>\n",
       "      <th>agi</th>\n",
       "      <th>returns_with_total_inc</th>\n",
       "      <th>total_inc_amt</th>\n",
       "      <th>returns_with_unemployment</th>\n",
       "      <th>unemployment_comp</th>\n",
       "      <th>approx_avg_income</th>\n",
       "    </tr>\n",
       "  </thead>\n",
       "  <tbody>\n",
       "    <tr>\n",
       "      <th>0</th>\n",
       "      <td>AK</td>\n",
       "      <td>Alaska</td>\n",
       "      <td>36</td>\n",
       "      <td>348070</td>\n",
       "      <td>175480</td>\n",
       "      <td>126660</td>\n",
       "      <td>37340</td>\n",
       "      <td>654950</td>\n",
       "      <td>205660</td>\n",
       "      <td>71410</td>\n",
       "      <td>23514361</td>\n",
       "      <td>347600</td>\n",
       "      <td>23858011</td>\n",
       "      <td>83270</td>\n",
       "      <td>167460</td>\n",
       "      <td>68543.715345</td>\n",
       "    </tr>\n",
       "  </tbody>\n",
       "</table>\n",
       "</div>"
      ],
      "text/plain": [
       "  state  county  income_bucket  return_count  single_returns  joint_returns  \\\n",
       "0    AK  Alaska             36        348070          175480         126660   \n",
       "\n",
       "   head_of_house_returns  exemptions  dependents  elderly       agi  \\\n",
       "0                  37340      654950      205660    71410  23514361   \n",
       "\n",
       "   returns_with_total_inc  total_inc_amt  returns_with_unemployment  \\\n",
       "0                  347600       23858011                      83270   \n",
       "\n",
       "   unemployment_comp  approx_avg_income  \n",
       "0             167460       68543.715345  "
      ]
     },
     "execution_count": 232,
     "metadata": {},
     "output_type": "execute_result"
    }
   ],
   "source": [
    "#DataFrame which gives the approximate average household income for each county. \n",
    "#Calculate this as 1000*`total_inc_amt` / `return_count\n",
    "income_county_agg['approx_avg_income']= 1000 * income_county_agg['total_inc_amt']/income_county_agg['return_count']\n",
    "income_county_agg.head(1)"
   ]
  },
  {
   "cell_type": "code",
   "execution_count": 233,
   "metadata": {},
   "outputs": [
    {
     "data": {
      "text/html": [
       "<div>\n",
       "<style scoped>\n",
       "    .dataframe tbody tr th:only-of-type {\n",
       "        vertical-align: middle;\n",
       "    }\n",
       "\n",
       "    .dataframe tbody tr th {\n",
       "        vertical-align: top;\n",
       "    }\n",
       "\n",
       "    .dataframe thead th {\n",
       "        text-align: right;\n",
       "    }\n",
       "</style>\n",
       "<table border=\"1\" class=\"dataframe\">\n",
       "  <thead>\n",
       "    <tr style=\"text-align: right;\">\n",
       "      <th></th>\n",
       "      <th>state</th>\n",
       "      <th>county</th>\n",
       "      <th>Median Household Income (5y Average)</th>\n",
       "      <th>Median Household Income for +7-person Households (5y Avg.)</th>\n",
       "      <th>Median Household Income for 1-person Households (5y Avg.)</th>\n",
       "      <th>Median Household Income for 2-person Households (5y Avg.)</th>\n",
       "      <th>Median Household Income for 3-person Households (5y Avg.)</th>\n",
       "      <th>Median Household Income for 4-person Households (5y Avg.)</th>\n",
       "      <th>Median Household Income for 5-person Households (5y Avg.)</th>\n",
       "      <th>Median Household Income for 6-person Households (5y Avg.)</th>\n",
       "      <th>...</th>\n",
       "      <th>Percent of 3 Person Households with 3 Workers (5y Avg.)</th>\n",
       "      <th>Percent of 3 Person Households with No Workers (5y Avg.)</th>\n",
       "      <th>Percent of Senior Population Below Federal Poverty Level (1y Avg.)</th>\n",
       "      <th>Percent of Senior Population Below Federal Poverty Level (5y Avg.)</th>\n",
       "      <th>Percentage of Total Housing Units that are Vacant (1y Avg.)</th>\n",
       "      <th>Percentage of Total Housing Units that are Vacant (5y Avg.)</th>\n",
       "      <th>Senior Unemployment Rate (1y Avg.)</th>\n",
       "      <th>Senior Unemployment Rate (5y Avg.)</th>\n",
       "      <th>Unemployment Rate (1y Avg.)</th>\n",
       "      <th>Unemployment Rate (5y Avg.)</th>\n",
       "    </tr>\n",
       "  </thead>\n",
       "  <tbody>\n",
       "    <tr>\n",
       "      <th>0</th>\n",
       "      <td>AL</td>\n",
       "      <td>Autauga County</td>\n",
       "      <td>53099.0</td>\n",
       "      <td>104659.0</td>\n",
       "      <td>26834.0</td>\n",
       "      <td>58452.0</td>\n",
       "      <td>76406.0</td>\n",
       "      <td>74429.0</td>\n",
       "      <td>73017.0</td>\n",
       "      <td>81500.0</td>\n",
       "      <td>...</td>\n",
       "      <td>0.101183</td>\n",
       "      <td>0.10611</td>\n",
       "      <td>NaN</td>\n",
       "      <td>0.061893</td>\n",
       "      <td>NaN</td>\n",
       "      <td>0.083869</td>\n",
       "      <td>NaN</td>\n",
       "      <td>0.079755</td>\n",
       "      <td>NaN</td>\n",
       "      <td>0.055252</td>\n",
       "    </tr>\n",
       "  </tbody>\n",
       "</table>\n",
       "<p>1 rows × 33 columns</p>\n",
       "</div>"
      ],
      "text/plain": [
       "  state          county  Median Household Income (5y Average)  \\\n",
       "0    AL  Autauga County                               53099.0   \n",
       "\n",
       "   Median Household Income for +7-person Households (5y Avg.)  \\\n",
       "0                                           104659.0            \n",
       "\n",
       "   Median Household Income for 1-person Households (5y Avg.)  \\\n",
       "0                                            26834.0           \n",
       "\n",
       "   Median Household Income for 2-person Households (5y Avg.)  \\\n",
       "0                                            58452.0           \n",
       "\n",
       "   Median Household Income for 3-person Households (5y Avg.)  \\\n",
       "0                                            76406.0           \n",
       "\n",
       "   Median Household Income for 4-person Households (5y Avg.)  \\\n",
       "0                                            74429.0           \n",
       "\n",
       "   Median Household Income for 5-person Households (5y Avg.)  \\\n",
       "0                                            73017.0           \n",
       "\n",
       "   Median Household Income for 6-person Households (5y Avg.)  ...  \\\n",
       "0                                            81500.0          ...   \n",
       "\n",
       "   Percent of 3 Person Households with 3 Workers (5y Avg.)  \\\n",
       "0                                           0.101183         \n",
       "\n",
       "   Percent of 3 Person Households with No Workers (5y Avg.)  \\\n",
       "0                                            0.10611          \n",
       "\n",
       "   Percent of Senior Population Below Federal Poverty Level (1y Avg.)  \\\n",
       "0                                                NaN                    \n",
       "\n",
       "   Percent of Senior Population Below Federal Poverty Level (5y Avg.)  \\\n",
       "0                                           0.061893                    \n",
       "\n",
       "   Percentage of Total Housing Units that are Vacant (1y Avg.)  \\\n",
       "0                                                NaN             \n",
       "\n",
       "   Percentage of Total Housing Units that are Vacant (5y Avg.)  \\\n",
       "0                                           0.083869             \n",
       "\n",
       "   Senior Unemployment Rate (1y Avg.)  Senior Unemployment Rate (5y Avg.)  \\\n",
       "0                                 NaN                            0.079755   \n",
       "\n",
       "   Unemployment Rate (1y Avg.)  Unemployment Rate (5y Avg.)  \n",
       "0                          NaN                     0.055252  \n",
       "\n",
       "[1 rows x 33 columns]"
      ]
     },
     "execution_count": 233,
     "metadata": {},
     "output_type": "execute_result"
    }
   ],
   "source": [
    "#Import geographic new data set\n",
    "geog_df = pd.read_csv('../data/geographic_profile_new.csv')\n",
    "geog_df.head(1)"
   ]
  },
  {
   "cell_type": "code",
   "execution_count": 234,
   "metadata": {},
   "outputs": [
    {
     "data": {
      "text/html": [
       "<div>\n",
       "<style scoped>\n",
       "    .dataframe tbody tr th:only-of-type {\n",
       "        vertical-align: middle;\n",
       "    }\n",
       "\n",
       "    .dataframe tbody tr th {\n",
       "        vertical-align: top;\n",
       "    }\n",
       "\n",
       "    .dataframe thead tr th {\n",
       "        text-align: left;\n",
       "    }\n",
       "</style>\n",
       "<table border=\"1\" class=\"dataframe\">\n",
       "  <thead>\n",
       "    <tr>\n",
       "      <th></th>\n",
       "      <th>Unnamed: 0_level_0</th>\n",
       "      <th>Unnamed: 1_level_0</th>\n",
       "      <th>Unnamed: 2_level_0</th>\n",
       "      <th colspan=\"7\" halign=\"left\">Premature age-adjusted mortality</th>\n",
       "      <th>...</th>\n",
       "      <th colspan=\"10\" halign=\"left\">Demographics</th>\n",
       "    </tr>\n",
       "    <tr>\n",
       "      <th></th>\n",
       "      <th>FIPS</th>\n",
       "      <th>State</th>\n",
       "      <th>County</th>\n",
       "      <th># Deaths</th>\n",
       "      <th>Age-Adjusted Mortality</th>\n",
       "      <th>95% CI - Low</th>\n",
       "      <th>95% CI - High</th>\n",
       "      <th>Age-Adjusted Mortality (Black)</th>\n",
       "      <th>Age-Adjusted Mortality (Hispanic)</th>\n",
       "      <th>Age-Adjusted Mortality (White)</th>\n",
       "      <th>...</th>\n",
       "      <th>% Hispanic</th>\n",
       "      <th># Non-Hispanic White</th>\n",
       "      <th>% Non-Hispanic White</th>\n",
       "      <th># Not Proficient in English</th>\n",
       "      <th>% Not Proficient in English</th>\n",
       "      <th>95% CI - Low</th>\n",
       "      <th>95% CI - High</th>\n",
       "      <th>% Female</th>\n",
       "      <th># Rural</th>\n",
       "      <th>% Rural</th>\n",
       "    </tr>\n",
       "  </thead>\n",
       "  <tbody>\n",
       "    <tr>\n",
       "      <th>0</th>\n",
       "      <td>1001</td>\n",
       "      <td>Alabama</td>\n",
       "      <td>Autauga</td>\n",
       "      <td>827.0</td>\n",
       "      <td>449.6</td>\n",
       "      <td>418.5</td>\n",
       "      <td>480.7</td>\n",
       "      <td>531.7</td>\n",
       "      <td>NaN</td>\n",
       "      <td>444.9</td>\n",
       "      <td>...</td>\n",
       "      <td>2.688754</td>\n",
       "      <td>41562</td>\n",
       "      <td>75.000000</td>\n",
       "      <td>432</td>\n",
       "      <td>0.832739</td>\n",
       "      <td>0.457689</td>\n",
       "      <td>1.207789</td>\n",
       "      <td>51.288437</td>\n",
       "      <td>22921.0</td>\n",
       "      <td>42.002162</td>\n",
       "    </tr>\n",
       "    <tr>\n",
       "      <th>1</th>\n",
       "      <td>1003</td>\n",
       "      <td>Alabama</td>\n",
       "      <td>Baldwin</td>\n",
       "      <td>2753.0</td>\n",
       "      <td>351.3</td>\n",
       "      <td>337.5</td>\n",
       "      <td>365.1</td>\n",
       "      <td>517.8</td>\n",
       "      <td>111.1</td>\n",
       "      <td>349.3</td>\n",
       "      <td>...</td>\n",
       "      <td>4.416411</td>\n",
       "      <td>173529</td>\n",
       "      <td>83.202198</td>\n",
       "      <td>1540</td>\n",
       "      <td>0.818809</td>\n",
       "      <td>0.508623</td>\n",
       "      <td>1.128996</td>\n",
       "      <td>51.457833</td>\n",
       "      <td>77060.0</td>\n",
       "      <td>42.279099</td>\n",
       "    </tr>\n",
       "    <tr>\n",
       "      <th>2</th>\n",
       "      <td>1005</td>\n",
       "      <td>Alabama</td>\n",
       "      <td>Barbour</td>\n",
       "      <td>418.0</td>\n",
       "      <td>433.6</td>\n",
       "      <td>390.5</td>\n",
       "      <td>476.6</td>\n",
       "      <td>477.0</td>\n",
       "      <td>NaN</td>\n",
       "      <td>394.7</td>\n",
       "      <td>...</td>\n",
       "      <td>4.213364</td>\n",
       "      <td>12061</td>\n",
       "      <td>46.450992</td>\n",
       "      <td>382</td>\n",
       "      <td>1.519370</td>\n",
       "      <td>0.790980</td>\n",
       "      <td>2.247760</td>\n",
       "      <td>46.932409</td>\n",
       "      <td>18613.0</td>\n",
       "      <td>67.789635</td>\n",
       "    </tr>\n",
       "    <tr>\n",
       "      <th>3</th>\n",
       "      <td>1007</td>\n",
       "      <td>Alabama</td>\n",
       "      <td>Bibb</td>\n",
       "      <td>408.0</td>\n",
       "      <td>529.1</td>\n",
       "      <td>476.7</td>\n",
       "      <td>581.4</td>\n",
       "      <td>630.4</td>\n",
       "      <td>NaN</td>\n",
       "      <td>526.6</td>\n",
       "      <td>...</td>\n",
       "      <td>2.499669</td>\n",
       "      <td>16850</td>\n",
       "      <td>74.415934</td>\n",
       "      <td>96</td>\n",
       "      <td>0.448137</td>\n",
       "      <td>0.000000</td>\n",
       "      <td>1.041411</td>\n",
       "      <td>46.363114</td>\n",
       "      <td>15663.0</td>\n",
       "      <td>68.352607</td>\n",
       "    </tr>\n",
       "    <tr>\n",
       "      <th>4</th>\n",
       "      <td>1009</td>\n",
       "      <td>Alabama</td>\n",
       "      <td>Blount</td>\n",
       "      <td>996.0</td>\n",
       "      <td>480.2</td>\n",
       "      <td>449.2</td>\n",
       "      <td>511.2</td>\n",
       "      <td>NaN</td>\n",
       "      <td>NaN</td>\n",
       "      <td>NaN</td>\n",
       "      <td>...</td>\n",
       "      <td>9.068695</td>\n",
       "      <td>50472</td>\n",
       "      <td>87.467073</td>\n",
       "      <td>1018</td>\n",
       "      <td>1.878506</td>\n",
       "      <td>1.332987</td>\n",
       "      <td>2.424025</td>\n",
       "      <td>50.613476</td>\n",
       "      <td>51562.0</td>\n",
       "      <td>89.951502</td>\n",
       "    </tr>\n",
       "  </tbody>\n",
       "</table>\n",
       "<p>5 rows × 99 columns</p>\n",
       "</div>"
      ],
      "text/plain": [
       "  Unnamed: 0_level_0 Unnamed: 1_level_0 Unnamed: 2_level_0  \\\n",
       "                FIPS              State             County   \n",
       "0               1001            Alabama            Autauga   \n",
       "1               1003            Alabama            Baldwin   \n",
       "2               1005            Alabama            Barbour   \n",
       "3               1007            Alabama               Bibb   \n",
       "4               1009            Alabama             Blount   \n",
       "\n",
       "  Premature age-adjusted mortality                                      \\\n",
       "                          # Deaths Age-Adjusted Mortality 95% CI - Low   \n",
       "0                            827.0                  449.6        418.5   \n",
       "1                           2753.0                  351.3        337.5   \n",
       "2                            418.0                  433.6        390.5   \n",
       "3                            408.0                  529.1        476.7   \n",
       "4                            996.0                  480.2        449.2   \n",
       "\n",
       "                                                \\\n",
       "  95% CI - High Age-Adjusted Mortality (Black)   \n",
       "0         480.7                          531.7   \n",
       "1         365.1                          517.8   \n",
       "2         476.6                          477.0   \n",
       "3         581.4                          630.4   \n",
       "4         511.2                            NaN   \n",
       "\n",
       "                                                                    ...  \\\n",
       "  Age-Adjusted Mortality (Hispanic) Age-Adjusted Mortality (White)  ...   \n",
       "0                               NaN                          444.9  ...   \n",
       "1                             111.1                          349.3  ...   \n",
       "2                               NaN                          394.7  ...   \n",
       "3                               NaN                          526.6  ...   \n",
       "4                               NaN                            NaN  ...   \n",
       "\n",
       "  Demographics                                            \\\n",
       "    % Hispanic # Non-Hispanic White % Non-Hispanic White   \n",
       "0     2.688754                41562            75.000000   \n",
       "1     4.416411               173529            83.202198   \n",
       "2     4.213364                12061            46.450992   \n",
       "3     2.499669                16850            74.415934   \n",
       "4     9.068695                50472            87.467073   \n",
       "\n",
       "                                                                        \\\n",
       "  # Not Proficient in English % Not Proficient in English 95% CI - Low   \n",
       "0                         432                    0.832739     0.457689   \n",
       "1                        1540                    0.818809     0.508623   \n",
       "2                         382                    1.519370     0.790980   \n",
       "3                          96                    0.448137     0.000000   \n",
       "4                        1018                    1.878506     1.332987   \n",
       "\n",
       "                                                \n",
       "  95% CI - High   % Female  # Rural    % Rural  \n",
       "0      1.207789  51.288437  22921.0  42.002162  \n",
       "1      1.128996  51.457833  77060.0  42.279099  \n",
       "2      2.247760  46.932409  18613.0  67.789635  \n",
       "3      1.041411  46.363114  15663.0  68.352607  \n",
       "4      2.424025  50.613476  51562.0  89.951502  \n",
       "\n",
       "[5 rows x 99 columns]"
      ]
     },
     "execution_count": 234,
     "metadata": {},
     "output_type": "execute_result"
    }
   ],
   "source": [
    "#Import geographic new data set\n",
    "health_outcomes = pd.read_excel('../data/2018 County Health Rankings Data - v2.xls', sheet_name = 5, header = [0,1])\n",
    "health_outcomes.head()"
   ]
  },
  {
   "cell_type": "code",
   "execution_count": 235,
   "metadata": {},
   "outputs": [
    {
     "data": {
      "text/plain": [
       "['FIPS',\n",
       " 'state',\n",
       " 'county',\n",
       " 'Premature age-adjusted mortality # Deaths',\n",
       " 'Premature age-adjusted mortality Age-Adjusted Mortality',\n",
       " 'Premature age-adjusted mortality 95% CI - Low',\n",
       " 'Premature age-adjusted mortality 95% CI - High',\n",
       " 'Premature age-adjusted mortality Age-Adjusted Mortality (Black)',\n",
       " 'Premature age-adjusted mortality Age-Adjusted Mortality (Hispanic)',\n",
       " 'Premature age-adjusted mortality Age-Adjusted Mortality (White)',\n",
       " 'Child mortality # Deaths',\n",
       " 'Child mortality Child Mortality Rate',\n",
       " 'Child mortality 95% CI - Low',\n",
       " 'Child mortality 95% CI - High',\n",
       " 'Child mortality Child Mortality Rate (Black)',\n",
       " 'Child mortality Child Mortality Rate (Hispanic)',\n",
       " 'Child mortality Child Mortality Rate (White)',\n",
       " 'Infant mortality # Deaths',\n",
       " 'Infant mortality Infant Mortality Rate',\n",
       " 'Infant mortality 95% CI - Low',\n",
       " 'Infant mortality 95% CI - High',\n",
       " 'Infant mortality Infant Mortality Rate (Black)',\n",
       " 'Infant mortality Infant Mortality Rate (Hispanic)',\n",
       " 'Infant mortality Infant Mortality Rate (White)',\n",
       " 'Frequent physical distress % Frequent Physical Distress',\n",
       " 'Frequent physical distress 95% CI - Low',\n",
       " 'Frequent physical distress 95% CI - High',\n",
       " 'Frequent mental distress % Frequent Mental Distress',\n",
       " 'Frequent mental distress 95% CI - Low',\n",
       " 'Frequent mental distress 95% CI - High',\n",
       " 'Diabetes prevalence % Diabetic',\n",
       " 'Diabetes prevalence 95% CI - Low',\n",
       " 'Diabetes prevalence 95% CI - High',\n",
       " 'HIV prevalence # HIV Cases',\n",
       " 'HIV prevalence HIV Prevalence Rate',\n",
       " 'Food insecurity # Food Insecure',\n",
       " 'Food insecurity % Food Insecure',\n",
       " 'Limited access to healthy foods # Limited Access',\n",
       " 'Limited access to healthy foods % Limited Access',\n",
       " 'Drug overdose deaths # Drug Overdose Deaths',\n",
       " 'Drug overdose deaths Drug Overdose Mortality Rate',\n",
       " 'Drug overdose deaths - modeled Range Drug Overdose Mortality Rate',\n",
       " 'Motor vehicle crash deaths # Motor Vehicle Deaths',\n",
       " 'Motor vehicle crash deaths MV Mortality Rate',\n",
       " 'Motor vehicle crash deaths 95% CI - Low',\n",
       " 'Motor vehicle crash deaths 95% CI - High',\n",
       " 'Insufficient sleep % Insufficient Sleep',\n",
       " 'Insufficient sleep 95% CI - Low',\n",
       " 'Insufficient sleep 95% CI - High',\n",
       " 'Uninsured adults # Uninsured',\n",
       " 'Uninsured adults % Uninsured',\n",
       " 'Uninsured adults 95% CI - Low',\n",
       " 'Uninsured adults 95% CI - High',\n",
       " 'Uninsured children # Uninsured',\n",
       " 'Uninsured children % Uninsured',\n",
       " 'Uninsured children 95% CI - Low',\n",
       " 'Uninsured children 95% CI - High',\n",
       " 'Health care costs Costs',\n",
       " 'Other primary care providers Other PCP Rate',\n",
       " 'Other primary care providers Other PCP Ratio',\n",
       " 'Disconnected youth % Disconnected Youth',\n",
       " 'Median household income Household Income',\n",
       " 'Median household income 95% CI - Low',\n",
       " 'Median household income 95% CI - High',\n",
       " 'Median household income Household income (Black)',\n",
       " 'Median household income Household income (Hispanic)',\n",
       " 'Median household income Household income (White)',\n",
       " 'Children eligible for free or reduced price lunch % Free or Reduced Lunch',\n",
       " 'Residential segregation - black/white Segregation index',\n",
       " 'Residential segregation - non-white/white Segregation Index',\n",
       " 'Homicides Homicide Rate',\n",
       " 'Homicides 95% CI - Low',\n",
       " 'Homicides 95% CI - High',\n",
       " 'Firearm fatalities # Firearm Fatalities',\n",
       " 'Firearm fatalities Firearm Fatalities Rate',\n",
       " 'Firearm fatalities 95% CI - Low',\n",
       " 'Firearm fatalities 95% CI - High',\n",
       " 'Demographics Population',\n",
       " 'Demographics % < 18',\n",
       " 'Demographics % 65 and over',\n",
       " 'Demographics # African American',\n",
       " 'Demographics % African American',\n",
       " 'Demographics # American Indian/Alaskan Native',\n",
       " 'Demographics % American Indian/Alaskan Native',\n",
       " 'Demographics # Asian',\n",
       " 'Demographics % Asian',\n",
       " 'Demographics # Native Hawaiian/Other Pacific Islander',\n",
       " 'Demographics % Native Hawaiian/Other Pacific Islander',\n",
       " 'Demographics # Hispanic',\n",
       " 'Demographics % Hispanic',\n",
       " 'Demographics # Non-Hispanic White',\n",
       " 'Demographics % Non-Hispanic White',\n",
       " 'Demographics # Not Proficient in English',\n",
       " 'Demographics % Not Proficient in English',\n",
       " 'Demographics 95% CI - Low',\n",
       " 'Demographics 95% CI - High',\n",
       " 'Demographics % Female',\n",
       " 'Demographics # Rural',\n",
       " 'Demographics % Rural']"
      ]
     },
     "execution_count": 235,
     "metadata": {},
     "output_type": "execute_result"
    }
   ],
   "source": [
    "# First, combine the two column name levels\n",
    "col_names = [' '.join(col).strip() for col in health_outcomes.columns.values]\n",
    "\n",
    "# Then get rid of the \"Unnamed\" portion for the first 3 columns\n",
    "col_names[0:3] = ['FIPS', 'state', 'county']\n",
    "col_names"
   ]
  },
  {
   "cell_type": "code",
   "execution_count": 236,
   "metadata": {},
   "outputs": [
    {
     "data": {
      "text/html": [
       "<div>\n",
       "<style scoped>\n",
       "    .dataframe tbody tr th:only-of-type {\n",
       "        vertical-align: middle;\n",
       "    }\n",
       "\n",
       "    .dataframe tbody tr th {\n",
       "        vertical-align: top;\n",
       "    }\n",
       "\n",
       "    .dataframe thead th {\n",
       "        text-align: right;\n",
       "    }\n",
       "</style>\n",
       "<table border=\"1\" class=\"dataframe\">\n",
       "  <thead>\n",
       "    <tr style=\"text-align: right;\">\n",
       "      <th></th>\n",
       "      <th>FIPS</th>\n",
       "      <th>state</th>\n",
       "      <th>county</th>\n",
       "      <th>Premature age-adjusted mortality # Deaths</th>\n",
       "      <th>Premature age-adjusted mortality Age-Adjusted Mortality</th>\n",
       "      <th>Premature age-adjusted mortality 95% CI - Low</th>\n",
       "      <th>Premature age-adjusted mortality 95% CI - High</th>\n",
       "      <th>Premature age-adjusted mortality Age-Adjusted Mortality (Black)</th>\n",
       "      <th>Premature age-adjusted mortality Age-Adjusted Mortality (Hispanic)</th>\n",
       "      <th>Premature age-adjusted mortality Age-Adjusted Mortality (White)</th>\n",
       "      <th>...</th>\n",
       "      <th>Demographics % Hispanic</th>\n",
       "      <th>Demographics # Non-Hispanic White</th>\n",
       "      <th>Demographics % Non-Hispanic White</th>\n",
       "      <th>Demographics # Not Proficient in English</th>\n",
       "      <th>Demographics % Not Proficient in English</th>\n",
       "      <th>Demographics 95% CI - Low</th>\n",
       "      <th>Demographics 95% CI - High</th>\n",
       "      <th>Demographics % Female</th>\n",
       "      <th>Demographics # Rural</th>\n",
       "      <th>Demographics % Rural</th>\n",
       "    </tr>\n",
       "  </thead>\n",
       "  <tbody>\n",
       "    <tr>\n",
       "      <th>0</th>\n",
       "      <td>1001</td>\n",
       "      <td>Alabama</td>\n",
       "      <td>Autauga</td>\n",
       "      <td>827.0</td>\n",
       "      <td>449.6</td>\n",
       "      <td>418.5</td>\n",
       "      <td>480.7</td>\n",
       "      <td>531.7</td>\n",
       "      <td>NaN</td>\n",
       "      <td>444.9</td>\n",
       "      <td>...</td>\n",
       "      <td>2.688754</td>\n",
       "      <td>41562</td>\n",
       "      <td>75.000000</td>\n",
       "      <td>432</td>\n",
       "      <td>0.832739</td>\n",
       "      <td>0.457689</td>\n",
       "      <td>1.207789</td>\n",
       "      <td>51.288437</td>\n",
       "      <td>22921.0</td>\n",
       "      <td>42.002162</td>\n",
       "    </tr>\n",
       "    <tr>\n",
       "      <th>1</th>\n",
       "      <td>1003</td>\n",
       "      <td>Alabama</td>\n",
       "      <td>Baldwin</td>\n",
       "      <td>2753.0</td>\n",
       "      <td>351.3</td>\n",
       "      <td>337.5</td>\n",
       "      <td>365.1</td>\n",
       "      <td>517.8</td>\n",
       "      <td>111.1</td>\n",
       "      <td>349.3</td>\n",
       "      <td>...</td>\n",
       "      <td>4.416411</td>\n",
       "      <td>173529</td>\n",
       "      <td>83.202198</td>\n",
       "      <td>1540</td>\n",
       "      <td>0.818809</td>\n",
       "      <td>0.508623</td>\n",
       "      <td>1.128996</td>\n",
       "      <td>51.457833</td>\n",
       "      <td>77060.0</td>\n",
       "      <td>42.279099</td>\n",
       "    </tr>\n",
       "    <tr>\n",
       "      <th>2</th>\n",
       "      <td>1005</td>\n",
       "      <td>Alabama</td>\n",
       "      <td>Barbour</td>\n",
       "      <td>418.0</td>\n",
       "      <td>433.6</td>\n",
       "      <td>390.5</td>\n",
       "      <td>476.6</td>\n",
       "      <td>477.0</td>\n",
       "      <td>NaN</td>\n",
       "      <td>394.7</td>\n",
       "      <td>...</td>\n",
       "      <td>4.213364</td>\n",
       "      <td>12061</td>\n",
       "      <td>46.450992</td>\n",
       "      <td>382</td>\n",
       "      <td>1.519370</td>\n",
       "      <td>0.790980</td>\n",
       "      <td>2.247760</td>\n",
       "      <td>46.932409</td>\n",
       "      <td>18613.0</td>\n",
       "      <td>67.789635</td>\n",
       "    </tr>\n",
       "    <tr>\n",
       "      <th>3</th>\n",
       "      <td>1007</td>\n",
       "      <td>Alabama</td>\n",
       "      <td>Bibb</td>\n",
       "      <td>408.0</td>\n",
       "      <td>529.1</td>\n",
       "      <td>476.7</td>\n",
       "      <td>581.4</td>\n",
       "      <td>630.4</td>\n",
       "      <td>NaN</td>\n",
       "      <td>526.6</td>\n",
       "      <td>...</td>\n",
       "      <td>2.499669</td>\n",
       "      <td>16850</td>\n",
       "      <td>74.415934</td>\n",
       "      <td>96</td>\n",
       "      <td>0.448137</td>\n",
       "      <td>0.000000</td>\n",
       "      <td>1.041411</td>\n",
       "      <td>46.363114</td>\n",
       "      <td>15663.0</td>\n",
       "      <td>68.352607</td>\n",
       "    </tr>\n",
       "    <tr>\n",
       "      <th>4</th>\n",
       "      <td>1009</td>\n",
       "      <td>Alabama</td>\n",
       "      <td>Blount</td>\n",
       "      <td>996.0</td>\n",
       "      <td>480.2</td>\n",
       "      <td>449.2</td>\n",
       "      <td>511.2</td>\n",
       "      <td>NaN</td>\n",
       "      <td>NaN</td>\n",
       "      <td>NaN</td>\n",
       "      <td>...</td>\n",
       "      <td>9.068695</td>\n",
       "      <td>50472</td>\n",
       "      <td>87.467073</td>\n",
       "      <td>1018</td>\n",
       "      <td>1.878506</td>\n",
       "      <td>1.332987</td>\n",
       "      <td>2.424025</td>\n",
       "      <td>50.613476</td>\n",
       "      <td>51562.0</td>\n",
       "      <td>89.951502</td>\n",
       "    </tr>\n",
       "  </tbody>\n",
       "</table>\n",
       "<p>5 rows × 99 columns</p>\n",
       "</div>"
      ],
      "text/plain": [
       "   FIPS    state   county  Premature age-adjusted mortality # Deaths  \\\n",
       "0  1001  Alabama  Autauga                                      827.0   \n",
       "1  1003  Alabama  Baldwin                                     2753.0   \n",
       "2  1005  Alabama  Barbour                                      418.0   \n",
       "3  1007  Alabama     Bibb                                      408.0   \n",
       "4  1009  Alabama   Blount                                      996.0   \n",
       "\n",
       "   Premature age-adjusted mortality Age-Adjusted Mortality  \\\n",
       "0                                              449.6         \n",
       "1                                              351.3         \n",
       "2                                              433.6         \n",
       "3                                              529.1         \n",
       "4                                              480.2         \n",
       "\n",
       "   Premature age-adjusted mortality 95% CI - Low  \\\n",
       "0                                          418.5   \n",
       "1                                          337.5   \n",
       "2                                          390.5   \n",
       "3                                          476.7   \n",
       "4                                          449.2   \n",
       "\n",
       "   Premature age-adjusted mortality 95% CI - High  \\\n",
       "0                                           480.7   \n",
       "1                                           365.1   \n",
       "2                                           476.6   \n",
       "3                                           581.4   \n",
       "4                                           511.2   \n",
       "\n",
       "   Premature age-adjusted mortality Age-Adjusted Mortality (Black)  \\\n",
       "0                                              531.7                 \n",
       "1                                              517.8                 \n",
       "2                                              477.0                 \n",
       "3                                              630.4                 \n",
       "4                                                NaN                 \n",
       "\n",
       "   Premature age-adjusted mortality Age-Adjusted Mortality (Hispanic)  \\\n",
       "0                                                NaN                    \n",
       "1                                              111.1                    \n",
       "2                                                NaN                    \n",
       "3                                                NaN                    \n",
       "4                                                NaN                    \n",
       "\n",
       "   Premature age-adjusted mortality Age-Adjusted Mortality (White)  ...  \\\n",
       "0                                              444.9                ...   \n",
       "1                                              349.3                ...   \n",
       "2                                              394.7                ...   \n",
       "3                                              526.6                ...   \n",
       "4                                                NaN                ...   \n",
       "\n",
       "   Demographics % Hispanic  Demographics # Non-Hispanic White  \\\n",
       "0                 2.688754                              41562   \n",
       "1                 4.416411                             173529   \n",
       "2                 4.213364                              12061   \n",
       "3                 2.499669                              16850   \n",
       "4                 9.068695                              50472   \n",
       "\n",
       "   Demographics % Non-Hispanic White  \\\n",
       "0                          75.000000   \n",
       "1                          83.202198   \n",
       "2                          46.450992   \n",
       "3                          74.415934   \n",
       "4                          87.467073   \n",
       "\n",
       "   Demographics # Not Proficient in English  \\\n",
       "0                                       432   \n",
       "1                                      1540   \n",
       "2                                       382   \n",
       "3                                        96   \n",
       "4                                      1018   \n",
       "\n",
       "   Demographics % Not Proficient in English  Demographics 95% CI - Low  \\\n",
       "0                                  0.832739                   0.457689   \n",
       "1                                  0.818809                   0.508623   \n",
       "2                                  1.519370                   0.790980   \n",
       "3                                  0.448137                   0.000000   \n",
       "4                                  1.878506                   1.332987   \n",
       "\n",
       "   Demographics 95% CI - High  Demographics % Female  Demographics # Rural  \\\n",
       "0                    1.207789              51.288437               22921.0   \n",
       "1                    1.128996              51.457833               77060.0   \n",
       "2                    2.247760              46.932409               18613.0   \n",
       "3                    1.041411              46.363114               15663.0   \n",
       "4                    2.424025              50.613476               51562.0   \n",
       "\n",
       "   Demographics % Rural  \n",
       "0             42.002162  \n",
       "1             42.279099  \n",
       "2             67.789635  \n",
       "3             68.352607  \n",
       "4             89.951502  \n",
       "\n",
       "[5 rows x 99 columns]"
      ]
     },
     "execution_count": 236,
     "metadata": {},
     "output_type": "execute_result"
    }
   ],
   "source": [
    "health_outcomes.columns = col_names\n",
    "health_outcomes.head()"
   ]
  },
  {
   "cell_type": "markdown",
   "metadata": {},
   "source": [
    "Merge heart attack and cancer data sets"
   ]
  },
  {
   "cell_type": "code",
   "execution_count": 237,
   "metadata": {},
   "outputs": [
    {
     "data": {
      "text/html": [
       "<div>\n",
       "<style scoped>\n",
       "    .dataframe tbody tr th:only-of-type {\n",
       "        vertical-align: middle;\n",
       "    }\n",
       "\n",
       "    .dataframe tbody tr th {\n",
       "        vertical-align: top;\n",
       "    }\n",
       "\n",
       "    .dataframe thead th {\n",
       "        text-align: right;\n",
       "    }\n",
       "</style>\n",
       "<table border=\"1\" class=\"dataframe\">\n",
       "  <thead>\n",
       "    <tr style=\"text-align: right;\">\n",
       "      <th></th>\n",
       "      <th>year</th>\n",
       "      <th>geography</th>\n",
       "      <th>measure</th>\n",
       "      <th>adjustment</th>\n",
       "      <th>analysis</th>\n",
       "      <th>domain</th>\n",
       "      <th>condition</th>\n",
       "      <th>primary_sex</th>\n",
       "      <th>primary_age</th>\n",
       "      <th>primary_dual</th>\n",
       "      <th>fips</th>\n",
       "      <th>county</th>\n",
       "      <th>state</th>\n",
       "      <th>urban</th>\n",
       "      <th>primary_race</th>\n",
       "      <th>primary_denominator</th>\n",
       "      <th>cancer_avg_cost</th>\n",
       "    </tr>\n",
       "  </thead>\n",
       "  <tbody>\n",
       "    <tr>\n",
       "      <th>0</th>\n",
       "      <td>2017</td>\n",
       "      <td>County</td>\n",
       "      <td>Average total cost</td>\n",
       "      <td>Unsmoothed actual</td>\n",
       "      <td>Base measure</td>\n",
       "      <td>Primary chronic conditions</td>\n",
       "      <td>Cancer, Colorectal, Breast, Prostate, Lung</td>\n",
       "      <td>All</td>\n",
       "      <td>All</td>\n",
       "      <td>Dual &amp; non-dual</td>\n",
       "      <td>1001</td>\n",
       "      <td>Autauga County</td>\n",
       "      <td>ALABAMA</td>\n",
       "      <td>Urban</td>\n",
       "      <td>All</td>\n",
       "      <td>undefined</td>\n",
       "      <td>19293</td>\n",
       "    </tr>\n",
       "  </tbody>\n",
       "</table>\n",
       "</div>"
      ],
      "text/plain": [
       "   year geography             measure         adjustment      analysis  \\\n",
       "0  2017    County  Average total cost  Unsmoothed actual  Base measure   \n",
       "\n",
       "                       domain                                   condition  \\\n",
       "0  Primary chronic conditions  Cancer, Colorectal, Breast, Prostate, Lung   \n",
       "\n",
       "  primary_sex primary_age     primary_dual  fips          county    state  \\\n",
       "0         All         All  Dual & non-dual  1001  Autauga County  ALABAMA   \n",
       "\n",
       "   urban primary_race primary_denominator  cancer_avg_cost  \n",
       "0  Urban          All           undefined            19293  "
      ]
     },
     "execution_count": 237,
     "metadata": {},
     "output_type": "execute_result"
    }
   ],
   "source": [
    "cancer_costs_df.head(1)"
   ]
  },
  {
   "cell_type": "code",
   "execution_count": null,
   "metadata": {},
   "outputs": [],
   "source": [
    "ha_costs_df.head(1)"
   ]
  },
  {
   "cell_type": "code",
   "execution_count": 238,
   "metadata": {
    "scrolled": true
   },
   "outputs": [
    {
     "data": {
      "text/html": [
       "<div>\n",
       "<style scoped>\n",
       "    .dataframe tbody tr th:only-of-type {\n",
       "        vertical-align: middle;\n",
       "    }\n",
       "\n",
       "    .dataframe tbody tr th {\n",
       "        vertical-align: top;\n",
       "    }\n",
       "\n",
       "    .dataframe thead th {\n",
       "        text-align: right;\n",
       "    }\n",
       "</style>\n",
       "<table border=\"1\" class=\"dataframe\">\n",
       "  <thead>\n",
       "    <tr style=\"text-align: right;\">\n",
       "      <th></th>\n",
       "      <th>state</th>\n",
       "      <th>county</th>\n",
       "      <th>urban</th>\n",
       "      <th>cancer_avg_cost</th>\n",
       "      <th>ha_avg_cost</th>\n",
       "    </tr>\n",
       "  </thead>\n",
       "  <tbody>\n",
       "    <tr>\n",
       "      <th>0</th>\n",
       "      <td>ALABAMA</td>\n",
       "      <td>Autauga County</td>\n",
       "      <td>Urban</td>\n",
       "      <td>19293</td>\n",
       "      <td>40470</td>\n",
       "    </tr>\n",
       "  </tbody>\n",
       "</table>\n",
       "</div>"
      ],
      "text/plain": [
       "     state          county  urban  cancer_avg_cost  ha_avg_cost\n",
       "0  ALABAMA  Autauga County  Urban            19293        40470"
      ]
     },
     "execution_count": 238,
     "metadata": {},
     "output_type": "execute_result"
    }
   ],
   "source": [
    "ha_cancer_costs_df = pd.merge(cancer_costs_df.loc[:,['state', 'county', 'urban', 'cancer_avg_cost']], \n",
    "                                     ha_costs_df.loc[:,['state', 'county', 'ha_avg_cost']], on=['state', 'county'], how='inner')\n",
    "ha_cancer_costs_df.head(1)"
   ]
  },
  {
   "cell_type": "code",
   "execution_count": 239,
   "metadata": {
    "scrolled": true
   },
   "outputs": [
    {
     "data": {
      "text/plain": [
       "(2656, 5)"
      ]
     },
     "execution_count": 239,
     "metadata": {},
     "output_type": "execute_result"
    }
   ],
   "source": [
    "ha_cancer_costs_df.shape"
   ]
  },
  {
   "cell_type": "code",
   "execution_count": 240,
   "metadata": {},
   "outputs": [
    {
     "data": {
      "text/html": [
       "<div>\n",
       "<style scoped>\n",
       "    .dataframe tbody tr th:only-of-type {\n",
       "        vertical-align: middle;\n",
       "    }\n",
       "\n",
       "    .dataframe tbody tr th {\n",
       "        vertical-align: top;\n",
       "    }\n",
       "\n",
       "    .dataframe thead th {\n",
       "        text-align: right;\n",
       "    }\n",
       "</style>\n",
       "<table border=\"1\" class=\"dataframe\">\n",
       "  <thead>\n",
       "    <tr style=\"text-align: right;\">\n",
       "      <th></th>\n",
       "      <th>name</th>\n",
       "      <th>abbrev</th>\n",
       "    </tr>\n",
       "  </thead>\n",
       "  <tbody>\n",
       "    <tr>\n",
       "      <th>0</th>\n",
       "      <td>ALABAMA</td>\n",
       "      <td>AL</td>\n",
       "    </tr>\n",
       "  </tbody>\n",
       "</table>\n",
       "</div>"
      ],
      "text/plain": [
       "      name abbrev\n",
       "0  ALABAMA     AL"
      ]
     },
     "execution_count": 240,
     "metadata": {},
     "output_type": "execute_result"
    }
   ],
   "source": [
    "##Create `state_dict`, a dictionary that uses the provides descripton of state abbreviation\n",
    "#import state abbreviation dataset\n",
    "state_abb_df = pd.read_csv('../data/state_abbrev.csv')\n",
    "state_abb_df.head(1)"
   ]
  },
  {
   "cell_type": "code",
   "execution_count": 241,
   "metadata": {},
   "outputs": [
    {
     "data": {
      "text/html": [
       "<div>\n",
       "<style scoped>\n",
       "    .dataframe tbody tr th:only-of-type {\n",
       "        vertical-align: middle;\n",
       "    }\n",
       "\n",
       "    .dataframe tbody tr th {\n",
       "        vertical-align: top;\n",
       "    }\n",
       "\n",
       "    .dataframe thead th {\n",
       "        text-align: right;\n",
       "    }\n",
       "</style>\n",
       "<table border=\"1\" class=\"dataframe\">\n",
       "  <thead>\n",
       "    <tr style=\"text-align: right;\">\n",
       "      <th></th>\n",
       "      <th>state</th>\n",
       "      <th>county</th>\n",
       "      <th>urban</th>\n",
       "      <th>cancer_avg_cost</th>\n",
       "      <th>ha_avg_cost</th>\n",
       "    </tr>\n",
       "  </thead>\n",
       "  <tbody>\n",
       "    <tr>\n",
       "      <th>0</th>\n",
       "      <td>ALABAMA</td>\n",
       "      <td>Autauga County</td>\n",
       "      <td>Urban</td>\n",
       "      <td>19293</td>\n",
       "      <td>40470</td>\n",
       "    </tr>\n",
       "    <tr>\n",
       "      <th>1</th>\n",
       "      <td>ALABAMA</td>\n",
       "      <td>Baldwin County</td>\n",
       "      <td>Rural</td>\n",
       "      <td>17151</td>\n",
       "      <td>36615</td>\n",
       "    </tr>\n",
       "    <tr>\n",
       "      <th>2</th>\n",
       "      <td>ALABAMA</td>\n",
       "      <td>Barbour County</td>\n",
       "      <td>Rural</td>\n",
       "      <td>19469</td>\n",
       "      <td>46509</td>\n",
       "    </tr>\n",
       "    <tr>\n",
       "      <th>3</th>\n",
       "      <td>ALABAMA</td>\n",
       "      <td>Bibb County</td>\n",
       "      <td>Urban</td>\n",
       "      <td>17234</td>\n",
       "      <td>42949</td>\n",
       "    </tr>\n",
       "    <tr>\n",
       "      <th>4</th>\n",
       "      <td>ALABAMA</td>\n",
       "      <td>Blount County</td>\n",
       "      <td>Urban</td>\n",
       "      <td>20317</td>\n",
       "      <td>50067</td>\n",
       "    </tr>\n",
       "  </tbody>\n",
       "</table>\n",
       "</div>"
      ],
      "text/plain": [
       "     state          county  urban  cancer_avg_cost  ha_avg_cost\n",
       "0  ALABAMA  Autauga County  Urban            19293        40470\n",
       "1  ALABAMA  Baldwin County  Rural            17151        36615\n",
       "2  ALABAMA  Barbour County  Rural            19469        46509\n",
       "3  ALABAMA     Bibb County  Urban            17234        42949\n",
       "4  ALABAMA   Blount County  Urban            20317        50067"
      ]
     },
     "execution_count": 241,
     "metadata": {},
     "output_type": "execute_result"
    }
   ],
   "source": [
    "ha_cancer_costs_df.head()"
   ]
  },
  {
   "cell_type": "code",
   "execution_count": 242,
   "metadata": {},
   "outputs": [],
   "source": [
    "ha_cancer_costs_df['state']=ha_cancer_costs_df.state.map(state_abb_df.set_index('name')['abbrev'].to_dict())"
   ]
  },
  {
   "cell_type": "code",
   "execution_count": 243,
   "metadata": {},
   "outputs": [
    {
     "data": {
      "text/html": [
       "<div>\n",
       "<style scoped>\n",
       "    .dataframe tbody tr th:only-of-type {\n",
       "        vertical-align: middle;\n",
       "    }\n",
       "\n",
       "    .dataframe tbody tr th {\n",
       "        vertical-align: top;\n",
       "    }\n",
       "\n",
       "    .dataframe thead th {\n",
       "        text-align: right;\n",
       "    }\n",
       "</style>\n",
       "<table border=\"1\" class=\"dataframe\">\n",
       "  <thead>\n",
       "    <tr style=\"text-align: right;\">\n",
       "      <th></th>\n",
       "      <th>state</th>\n",
       "      <th>county</th>\n",
       "      <th>urban</th>\n",
       "      <th>cancer_avg_cost</th>\n",
       "      <th>ha_avg_cost</th>\n",
       "    </tr>\n",
       "  </thead>\n",
       "  <tbody>\n",
       "    <tr>\n",
       "      <th>0</th>\n",
       "      <td>AL</td>\n",
       "      <td>Autauga County</td>\n",
       "      <td>Urban</td>\n",
       "      <td>19293</td>\n",
       "      <td>40470</td>\n",
       "    </tr>\n",
       "  </tbody>\n",
       "</table>\n",
       "</div>"
      ],
      "text/plain": [
       "  state          county  urban  cancer_avg_cost  ha_avg_cost\n",
       "0    AL  Autauga County  Urban            19293        40470"
      ]
     },
     "execution_count": 243,
     "metadata": {},
     "output_type": "execute_result"
    }
   ],
   "source": [
    "ha_cancer_costs_df.head(1)"
   ]
  },
  {
   "cell_type": "code",
   "execution_count": 244,
   "metadata": {},
   "outputs": [
    {
     "data": {
      "text/html": [
       "<div>\n",
       "<style scoped>\n",
       "    .dataframe tbody tr th:only-of-type {\n",
       "        vertical-align: middle;\n",
       "    }\n",
       "\n",
       "    .dataframe tbody tr th {\n",
       "        vertical-align: top;\n",
       "    }\n",
       "\n",
       "    .dataframe thead th {\n",
       "        text-align: right;\n",
       "    }\n",
       "</style>\n",
       "<table border=\"1\" class=\"dataframe\">\n",
       "  <thead>\n",
       "    <tr style=\"text-align: right;\">\n",
       "      <th></th>\n",
       "      <th>state</th>\n",
       "      <th>county</th>\n",
       "      <th>income_bucket</th>\n",
       "      <th>return_count</th>\n",
       "      <th>single_returns</th>\n",
       "      <th>joint_returns</th>\n",
       "      <th>head_of_house_returns</th>\n",
       "      <th>exemptions</th>\n",
       "      <th>dependents</th>\n",
       "      <th>elderly</th>\n",
       "      <th>agi</th>\n",
       "      <th>returns_with_total_inc</th>\n",
       "      <th>total_inc_amt</th>\n",
       "      <th>returns_with_unemployment</th>\n",
       "      <th>unemployment_comp</th>\n",
       "      <th>approx_avg_income</th>\n",
       "    </tr>\n",
       "  </thead>\n",
       "  <tbody>\n",
       "    <tr>\n",
       "      <th>0</th>\n",
       "      <td>AK</td>\n",
       "      <td>Alaska</td>\n",
       "      <td>36</td>\n",
       "      <td>348070</td>\n",
       "      <td>175480</td>\n",
       "      <td>126660</td>\n",
       "      <td>37340</td>\n",
       "      <td>654950</td>\n",
       "      <td>205660</td>\n",
       "      <td>71410</td>\n",
       "      <td>23514361</td>\n",
       "      <td>347600</td>\n",
       "      <td>23858011</td>\n",
       "      <td>83270</td>\n",
       "      <td>167460</td>\n",
       "      <td>68543.715345</td>\n",
       "    </tr>\n",
       "  </tbody>\n",
       "</table>\n",
       "</div>"
      ],
      "text/plain": [
       "  state  county  income_bucket  return_count  single_returns  joint_returns  \\\n",
       "0    AK  Alaska             36        348070          175480         126660   \n",
       "\n",
       "   head_of_house_returns  exemptions  dependents  elderly       agi  \\\n",
       "0                  37340      654950      205660    71410  23514361   \n",
       "\n",
       "   returns_with_total_inc  total_inc_amt  returns_with_unemployment  \\\n",
       "0                  347600       23858011                      83270   \n",
       "\n",
       "   unemployment_comp  approx_avg_income  \n",
       "0             167460       68543.715345  "
      ]
     },
     "execution_count": 244,
     "metadata": {},
     "output_type": "execute_result"
    }
   ],
   "source": [
    "income_county_agg.head(1)"
   ]
  },
  {
   "cell_type": "code",
   "execution_count": 245,
   "metadata": {},
   "outputs": [
    {
     "data": {
      "text/html": [
       "<div>\n",
       "<style scoped>\n",
       "    .dataframe tbody tr th:only-of-type {\n",
       "        vertical-align: middle;\n",
       "    }\n",
       "\n",
       "    .dataframe tbody tr th {\n",
       "        vertical-align: top;\n",
       "    }\n",
       "\n",
       "    .dataframe thead th {\n",
       "        text-align: right;\n",
       "    }\n",
       "</style>\n",
       "<table border=\"1\" class=\"dataframe\">\n",
       "  <thead>\n",
       "    <tr style=\"text-align: right;\">\n",
       "      <th></th>\n",
       "      <th>state</th>\n",
       "      <th>county</th>\n",
       "      <th>urban</th>\n",
       "      <th>cancer_avg_cost</th>\n",
       "      <th>ha_avg_cost</th>\n",
       "      <th>approx_avg_income</th>\n",
       "      <th>agi</th>\n",
       "      <th>income_bucket</th>\n",
       "    </tr>\n",
       "  </thead>\n",
       "  <tbody>\n",
       "    <tr>\n",
       "      <th>0</th>\n",
       "      <td>AL</td>\n",
       "      <td>Autauga County</td>\n",
       "      <td>Urban</td>\n",
       "      <td>19293</td>\n",
       "      <td>40470</td>\n",
       "      <td>55680.240764</td>\n",
       "      <td>1327941</td>\n",
       "      <td>36</td>\n",
       "    </tr>\n",
       "  </tbody>\n",
       "</table>\n",
       "</div>"
      ],
      "text/plain": [
       "  state          county  urban  cancer_avg_cost  ha_avg_cost  \\\n",
       "0    AL  Autauga County  Urban            19293        40470   \n",
       "\n",
       "   approx_avg_income      agi  income_bucket  \n",
       "0       55680.240764  1327941             36  "
      ]
     },
     "execution_count": 245,
     "metadata": {},
     "output_type": "execute_result"
    }
   ],
   "source": [
    "ha_cancer_costs_incomeavg_df = pd.merge(ha_cancer_costs_df, \n",
    "                                        income_county_agg.loc[:,['state', 'county', 'approx_avg_income', 'agi', 'income_bucket']], on=['state', 'county'], how='inner')\n",
    "ha_cancer_costs_incomeavg_df.head(1)"
   ]
  },
  {
   "cell_type": "code",
   "execution_count": 246,
   "metadata": {},
   "outputs": [
    {
     "data": {
      "text/plain": [
       "(2619, 8)"
      ]
     },
     "execution_count": 246,
     "metadata": {},
     "output_type": "execute_result"
    }
   ],
   "source": [
    "ha_cancer_costs_incomeavg_df.shape"
   ]
  },
  {
   "cell_type": "code",
   "execution_count": 247,
   "metadata": {},
   "outputs": [
    {
     "data": {
      "text/html": [
       "<div>\n",
       "<style scoped>\n",
       "    .dataframe tbody tr th:only-of-type {\n",
       "        vertical-align: middle;\n",
       "    }\n",
       "\n",
       "    .dataframe tbody tr th {\n",
       "        vertical-align: top;\n",
       "    }\n",
       "\n",
       "    .dataframe thead th {\n",
       "        text-align: right;\n",
       "    }\n",
       "</style>\n",
       "<table border=\"1\" class=\"dataframe\">\n",
       "  <thead>\n",
       "    <tr style=\"text-align: right;\">\n",
       "      <th></th>\n",
       "      <th>state</th>\n",
       "      <th>county</th>\n",
       "      <th>urban</th>\n",
       "      <th>cancer_avg_cost</th>\n",
       "      <th>ha_avg_cost</th>\n",
       "      <th>approx_avg_income</th>\n",
       "      <th>agi</th>\n",
       "      <th>income_bucket</th>\n",
       "      <th>Unemployment Rate (5y Avg.)</th>\n",
       "      <th>Percent Below Federal Poverty Level (5y Avg.)</th>\n",
       "      <th>Percent of Senior Population Below Federal Poverty Level (5y Avg.)</th>\n",
       "      <th>Senior Unemployment Rate (5y Avg.)</th>\n",
       "    </tr>\n",
       "  </thead>\n",
       "  <tbody>\n",
       "    <tr>\n",
       "      <th>0</th>\n",
       "      <td>AL</td>\n",
       "      <td>Autauga County</td>\n",
       "      <td>Urban</td>\n",
       "      <td>19293</td>\n",
       "      <td>40470</td>\n",
       "      <td>55680.240764</td>\n",
       "      <td>1327941</td>\n",
       "      <td>36</td>\n",
       "      <td>0.055252</td>\n",
       "      <td>0.12266</td>\n",
       "      <td>0.061893</td>\n",
       "      <td>0.079755</td>\n",
       "    </tr>\n",
       "  </tbody>\n",
       "</table>\n",
       "</div>"
      ],
      "text/plain": [
       "  state          county  urban  cancer_avg_cost  ha_avg_cost  \\\n",
       "0    AL  Autauga County  Urban            19293        40470   \n",
       "\n",
       "   approx_avg_income      agi  income_bucket  Unemployment Rate (5y Avg.)  \\\n",
       "0       55680.240764  1327941             36                     0.055252   \n",
       "\n",
       "   Percent Below Federal Poverty Level (5y Avg.)  \\\n",
       "0                                        0.12266   \n",
       "\n",
       "   Percent of Senior Population Below Federal Poverty Level (5y Avg.)  \\\n",
       "0                                           0.061893                    \n",
       "\n",
       "   Senior Unemployment Rate (5y Avg.)  \n",
       "0                            0.079755  "
      ]
     },
     "execution_count": 247,
     "metadata": {},
     "output_type": "execute_result"
    }
   ],
   "source": [
    "ha_cancer_costs_incomeavg_geog_df = pd.merge(ha_cancer_costs_incomeavg_df, \n",
    "                                        geog_df.loc[:,['state', 'county', 'Unemployment Rate (5y Avg.)', \n",
    "                                                       'Percent Below Federal Poverty Level (5y Avg.)', \n",
    "                                                       'Percent of Senior Population Below Federal Poverty Level (5y Avg.)',\n",
    "                                                      'Senior Unemployment Rate (5y Avg.)']], \n",
    "                                             on=['state', 'county'], how='inner')\n",
    "ha_cancer_costs_incomeavg_geog_df.head(1)"
   ]
  },
  {
   "cell_type": "code",
   "execution_count": 248,
   "metadata": {},
   "outputs": [
    {
     "data": {
      "text/plain": [
       "(2618, 12)"
      ]
     },
     "execution_count": 248,
     "metadata": {},
     "output_type": "execute_result"
    }
   ],
   "source": [
    "ha_cancer_costs_incomeavg_geog_df.shape"
   ]
  },
  {
   "cell_type": "code",
   "execution_count": 250,
   "metadata": {},
   "outputs": [
    {
     "data": {
      "text/html": [
       "<div>\n",
       "<style scoped>\n",
       "    .dataframe tbody tr th:only-of-type {\n",
       "        vertical-align: middle;\n",
       "    }\n",
       "\n",
       "    .dataframe tbody tr th {\n",
       "        vertical-align: top;\n",
       "    }\n",
       "\n",
       "    .dataframe thead th {\n",
       "        text-align: right;\n",
       "    }\n",
       "</style>\n",
       "<table border=\"1\" class=\"dataframe\">\n",
       "  <thead>\n",
       "    <tr style=\"text-align: right;\">\n",
       "      <th></th>\n",
       "      <th>state</th>\n",
       "      <th>county</th>\n",
       "      <th>Demographics % Hispanic</th>\n",
       "      <th>Demographics % Female</th>\n",
       "    </tr>\n",
       "  </thead>\n",
       "  <tbody>\n",
       "    <tr>\n",
       "      <th>0</th>\n",
       "      <td>Alabama</td>\n",
       "      <td>Autauga</td>\n",
       "      <td>2.688754</td>\n",
       "      <td>51.288437</td>\n",
       "    </tr>\n",
       "    <tr>\n",
       "      <th>1</th>\n",
       "      <td>Alabama</td>\n",
       "      <td>Baldwin</td>\n",
       "      <td>4.416411</td>\n",
       "      <td>51.457833</td>\n",
       "    </tr>\n",
       "  </tbody>\n",
       "</table>\n",
       "</div>"
      ],
      "text/plain": [
       "     state   county  Demographics % Hispanic  Demographics % Female\n",
       "0  Alabama  Autauga                 2.688754              51.288437\n",
       "1  Alabama  Baldwin                 4.416411              51.457833"
      ]
     },
     "execution_count": 250,
     "metadata": {},
     "output_type": "execute_result"
    }
   ],
   "source": [
    "#Creating specific demographic data from health outcomes dataset, which will be used in merge\n",
    "health_outcomes_1 = health_outcomes[['state', 'county', 'Demographics % Hispanic', 'Demographics % Female']]\n",
    "health_outcomes_1.head(2)"
   ]
  },
  {
   "cell_type": "code",
   "execution_count": 251,
   "metadata": {},
   "outputs": [
    {
     "data": {
      "text/html": [
       "<div>\n",
       "<style scoped>\n",
       "    .dataframe tbody tr th:only-of-type {\n",
       "        vertical-align: middle;\n",
       "    }\n",
       "\n",
       "    .dataframe tbody tr th {\n",
       "        vertical-align: top;\n",
       "    }\n",
       "\n",
       "    .dataframe thead th {\n",
       "        text-align: right;\n",
       "    }\n",
       "</style>\n",
       "<table border=\"1\" class=\"dataframe\">\n",
       "  <thead>\n",
       "    <tr style=\"text-align: right;\">\n",
       "      <th></th>\n",
       "      <th>state</th>\n",
       "      <th>county</th>\n",
       "      <th>Demographics % Hispanic</th>\n",
       "      <th>Demographics % Female</th>\n",
       "    </tr>\n",
       "  </thead>\n",
       "  <tbody>\n",
       "    <tr>\n",
       "      <th>0</th>\n",
       "      <td>AL</td>\n",
       "      <td>Autauga</td>\n",
       "      <td>2.688754</td>\n",
       "      <td>51.288437</td>\n",
       "    </tr>\n",
       "  </tbody>\n",
       "</table>\n",
       "</div>"
      ],
      "text/plain": [
       "  state   county  Demographics % Hispanic  Demographics % Female\n",
       "0    AL  Autauga                 2.688754              51.288437"
      ]
     },
     "execution_count": 251,
     "metadata": {},
     "output_type": "execute_result"
    }
   ],
   "source": [
    "#chnaging the state name to abreviation format to ensure merge is successful\n",
    "health_outcomes_1['state']=health_outcomes_1.state.str.upper().map(state_abb_df.set_index('name')['abbrev'].to_dict())\n",
    "health_outcomes_1.head(1)"
   ]
  },
  {
   "cell_type": "code",
   "execution_count": 252,
   "metadata": {},
   "outputs": [],
   "source": [
    "#Adding County in the County column to ensure merge is successfull\n",
    "health_outcomes_1.county = health_outcomes_1.county + ' County'"
   ]
  },
  {
   "cell_type": "code",
   "execution_count": 254,
   "metadata": {},
   "outputs": [
    {
     "data": {
      "text/html": [
       "<div>\n",
       "<style scoped>\n",
       "    .dataframe tbody tr th:only-of-type {\n",
       "        vertical-align: middle;\n",
       "    }\n",
       "\n",
       "    .dataframe tbody tr th {\n",
       "        vertical-align: top;\n",
       "    }\n",
       "\n",
       "    .dataframe thead th {\n",
       "        text-align: right;\n",
       "    }\n",
       "</style>\n",
       "<table border=\"1\" class=\"dataframe\">\n",
       "  <thead>\n",
       "    <tr style=\"text-align: right;\">\n",
       "      <th></th>\n",
       "      <th>state</th>\n",
       "      <th>county</th>\n",
       "      <th>urban</th>\n",
       "      <th>cancer_avg_cost</th>\n",
       "      <th>ha_avg_cost</th>\n",
       "      <th>approx_avg_income</th>\n",
       "      <th>agi</th>\n",
       "      <th>income_bucket</th>\n",
       "      <th>Unemployment Rate (5y Avg.)</th>\n",
       "      <th>Percent Below Federal Poverty Level (5y Avg.)</th>\n",
       "      <th>Percent of Senior Population Below Federal Poverty Level (5y Avg.)</th>\n",
       "      <th>Senior Unemployment Rate (5y Avg.)</th>\n",
       "      <th>Demographics % Hispanic</th>\n",
       "      <th>Demographics % Female</th>\n",
       "    </tr>\n",
       "  </thead>\n",
       "  <tbody>\n",
       "    <tr>\n",
       "      <th>0</th>\n",
       "      <td>AL</td>\n",
       "      <td>Autauga County</td>\n",
       "      <td>Urban</td>\n",
       "      <td>19293</td>\n",
       "      <td>40470</td>\n",
       "      <td>55680.240764</td>\n",
       "      <td>1327941</td>\n",
       "      <td>36</td>\n",
       "      <td>0.055252</td>\n",
       "      <td>0.12266</td>\n",
       "      <td>0.061893</td>\n",
       "      <td>0.079755</td>\n",
       "      <td>2.688754</td>\n",
       "      <td>51.288437</td>\n",
       "    </tr>\n",
       "  </tbody>\n",
       "</table>\n",
       "</div>"
      ],
      "text/plain": [
       "  state          county  urban  cancer_avg_cost  ha_avg_cost  \\\n",
       "0    AL  Autauga County  Urban            19293        40470   \n",
       "\n",
       "   approx_avg_income      agi  income_bucket  Unemployment Rate (5y Avg.)  \\\n",
       "0       55680.240764  1327941             36                     0.055252   \n",
       "\n",
       "   Percent Below Federal Poverty Level (5y Avg.)  \\\n",
       "0                                        0.12266   \n",
       "\n",
       "   Percent of Senior Population Below Federal Poverty Level (5y Avg.)  \\\n",
       "0                                           0.061893                    \n",
       "\n",
       "   Senior Unemployment Rate (5y Avg.)  Demographics % Hispanic  \\\n",
       "0                            0.079755                 2.688754   \n",
       "\n",
       "   Demographics % Female  \n",
       "0              51.288437  "
      ]
     },
     "execution_count": 254,
     "metadata": {},
     "output_type": "execute_result"
    }
   ],
   "source": [
    "ha_cancer_costs_incomeavg_geog_1_df = pd.merge(ha_cancer_costs_incomeavg_geog_df, \n",
    "                                        health_outcomes_1, \n",
    "                                             on=['state', 'county'], how='inner')\n",
    "ha_cancer_costs_incomeavg_geog_1_df.head(1)"
   ]
  },
  {
   "cell_type": "code",
   "execution_count": 255,
   "metadata": {},
   "outputs": [
    {
     "data": {
      "text/plain": [
       "(2524, 14)"
      ]
     },
     "execution_count": 255,
     "metadata": {},
     "output_type": "execute_result"
    }
   ],
   "source": [
    "ha_cancer_costs_incomeavg_geog_1_df.shape"
   ]
  },
  {
   "cell_type": "code",
   "execution_count": 258,
   "metadata": {},
   "outputs": [
    {
     "data": {
      "text/html": [
       "<div>\n",
       "<style scoped>\n",
       "    .dataframe tbody tr th:only-of-type {\n",
       "        vertical-align: middle;\n",
       "    }\n",
       "\n",
       "    .dataframe tbody tr th {\n",
       "        vertical-align: top;\n",
       "    }\n",
       "\n",
       "    .dataframe thead th {\n",
       "        text-align: right;\n",
       "    }\n",
       "</style>\n",
       "<table border=\"1\" class=\"dataframe\">\n",
       "  <thead>\n",
       "    <tr style=\"text-align: right;\">\n",
       "      <th></th>\n",
       "      <th>state</th>\n",
       "      <th>county</th>\n",
       "      <th>urban</th>\n",
       "      <th>cancer_avg_cost</th>\n",
       "      <th>ha_avg_cost</th>\n",
       "      <th>approx_avg_income</th>\n",
       "      <th>agi</th>\n",
       "      <th>income_bucket</th>\n",
       "      <th>Unemployment Rate (5y Avg.)</th>\n",
       "      <th>Percent Below Federal Poverty Level (5y Avg.)</th>\n",
       "      <th>Percent of Senior Population Below Federal Poverty Level (5y Avg.)</th>\n",
       "      <th>Senior Unemployment Rate (5y Avg.)</th>\n",
       "      <th>Demographics % Hispanic</th>\n",
       "      <th>Demographics % Female</th>\n",
       "      <th>ha_cost_income_ratio</th>\n",
       "      <th>cancer_cost_income_ratio</th>\n",
       "    </tr>\n",
       "  </thead>\n",
       "  <tbody>\n",
       "    <tr>\n",
       "      <th>0</th>\n",
       "      <td>AL</td>\n",
       "      <td>Autauga County</td>\n",
       "      <td>Urban</td>\n",
       "      <td>19293</td>\n",
       "      <td>40470</td>\n",
       "      <td>55680.240764</td>\n",
       "      <td>1327941</td>\n",
       "      <td>36</td>\n",
       "      <td>0.055252</td>\n",
       "      <td>0.12266</td>\n",
       "      <td>0.061893</td>\n",
       "      <td>0.079755</td>\n",
       "      <td>2.688754</td>\n",
       "      <td>51.288437</td>\n",
       "      <td>0.726829</td>\n",
       "      <td>0.346496</td>\n",
       "    </tr>\n",
       "  </tbody>\n",
       "</table>\n",
       "</div>"
      ],
      "text/plain": [
       "  state          county  urban  cancer_avg_cost  ha_avg_cost  \\\n",
       "0    AL  Autauga County  Urban            19293        40470   \n",
       "\n",
       "   approx_avg_income      agi  income_bucket  Unemployment Rate (5y Avg.)  \\\n",
       "0       55680.240764  1327941             36                     0.055252   \n",
       "\n",
       "   Percent Below Federal Poverty Level (5y Avg.)  \\\n",
       "0                                        0.12266   \n",
       "\n",
       "   Percent of Senior Population Below Federal Poverty Level (5y Avg.)  \\\n",
       "0                                           0.061893                    \n",
       "\n",
       "   Senior Unemployment Rate (5y Avg.)  Demographics % Hispanic  \\\n",
       "0                            0.079755                 2.688754   \n",
       "\n",
       "   Demographics % Female  ha_cost_income_ratio  cancer_cost_income_ratio  \n",
       "0              51.288437              0.726829                  0.346496  "
      ]
     },
     "execution_count": 258,
     "metadata": {},
     "output_type": "execute_result"
    }
   ],
   "source": [
    "ha_cancer_costs_incomeavg_geog_1_df['ha_cost_income_ratio'] = ha_cancer_costs_incomeavg_geog_1_df.ha_avg_cost / ha_cancer_costs_incomeavg_geog_1_df.approx_avg_income\n",
    "ha_cancer_costs_incomeavg_geog_1_df['cancer_cost_income_ratio'] = ha_cancer_costs_incomeavg_geog_1_df.cancer_avg_cost / ha_cancer_costs_incomeavg_geog_1_df.approx_avg_income\n",
    "ha_cancer_costs_incomeavg_geog_1_df.head(1)"
   ]
  },
  {
   "cell_type": "code",
   "execution_count": 260,
   "metadata": {},
   "outputs": [
    {
     "data": {
      "text/plain": [
       "0.4085212122276527"
      ]
     },
     "execution_count": 260,
     "metadata": {},
     "output_type": "execute_result"
    }
   ],
   "source": [
    "ha_cancer_costs_incomeavg_geog_1_df.cancer_cost_income_ratio.mean()"
   ]
  },
  {
   "cell_type": "code",
   "execution_count": 262,
   "metadata": {},
   "outputs": [
    {
     "data": {
      "text/html": [
       "<div>\n",
       "<style scoped>\n",
       "    .dataframe tbody tr th:only-of-type {\n",
       "        vertical-align: middle;\n",
       "    }\n",
       "\n",
       "    .dataframe tbody tr th {\n",
       "        vertical-align: top;\n",
       "    }\n",
       "\n",
       "    .dataframe thead th {\n",
       "        text-align: right;\n",
       "    }\n",
       "</style>\n",
       "<table border=\"1\" class=\"dataframe\">\n",
       "  <thead>\n",
       "    <tr style=\"text-align: right;\">\n",
       "      <th></th>\n",
       "      <th>state</th>\n",
       "      <th>county</th>\n",
       "      <th>urban</th>\n",
       "      <th>cancer_avg_cost</th>\n",
       "      <th>ha_avg_cost</th>\n",
       "      <th>approx_avg_income</th>\n",
       "      <th>agi</th>\n",
       "      <th>income_bucket</th>\n",
       "      <th>Unemployment Rate (5y Avg.)</th>\n",
       "      <th>Percent Below Federal Poverty Level (5y Avg.)</th>\n",
       "      <th>Percent of Senior Population Below Federal Poverty Level (5y Avg.)</th>\n",
       "      <th>Senior Unemployment Rate (5y Avg.)</th>\n",
       "      <th>Demographics % Hispanic</th>\n",
       "      <th>Demographics % Female</th>\n",
       "      <th>ha_cost_income_ratio</th>\n",
       "      <th>cancer_cost_income_ratio</th>\n",
       "      <th>condition</th>\n",
       "    </tr>\n",
       "  </thead>\n",
       "  <tbody>\n",
       "    <tr>\n",
       "      <th>0</th>\n",
       "      <td>AL</td>\n",
       "      <td>Autauga County</td>\n",
       "      <td>Urban</td>\n",
       "      <td>19293</td>\n",
       "      <td>40470</td>\n",
       "      <td>55680.240764</td>\n",
       "      <td>1327941</td>\n",
       "      <td>36</td>\n",
       "      <td>0.055252</td>\n",
       "      <td>0.12266</td>\n",
       "      <td>0.061893</td>\n",
       "      <td>0.079755</td>\n",
       "      <td>2.688754</td>\n",
       "      <td>51.288437</td>\n",
       "      <td>0.726829</td>\n",
       "      <td>0.346496</td>\n",
       "      <td>0.408521</td>\n",
       "    </tr>\n",
       "  </tbody>\n",
       "</table>\n",
       "</div>"
      ],
      "text/plain": [
       "  state          county  urban  cancer_avg_cost  ha_avg_cost  \\\n",
       "0    AL  Autauga County  Urban            19293        40470   \n",
       "\n",
       "   approx_avg_income      agi  income_bucket  Unemployment Rate (5y Avg.)  \\\n",
       "0       55680.240764  1327941             36                     0.055252   \n",
       "\n",
       "   Percent Below Federal Poverty Level (5y Avg.)  \\\n",
       "0                                        0.12266   \n",
       "\n",
       "   Percent of Senior Population Below Federal Poverty Level (5y Avg.)  \\\n",
       "0                                           0.061893                    \n",
       "\n",
       "   Senior Unemployment Rate (5y Avg.)  Demographics % Hispanic  \\\n",
       "0                            0.079755                 2.688754   \n",
       "\n",
       "   Demographics % Female  ha_cost_income_ratio  cancer_cost_income_ratio  \\\n",
       "0              51.288437              0.726829                  0.346496   \n",
       "\n",
       "   condition  \n",
       "0   0.408521  "
      ]
     },
     "execution_count": 262,
     "metadata": {},
     "output_type": "execute_result"
    }
   ],
   "source": [
    "ha_cancer_costs_incomeavg_geog_1_df['condition'] = ha_cancer_costs_incomeavg_geog_1_df.cancer_cost_income_ratio.mean()\n",
    "ha_cancer_costs_incomeavg_geog_1_df.head(1)"
   ]
  },
  {
   "cell_type": "code",
   "execution_count": 263,
   "metadata": {},
   "outputs": [
    {
     "data": {
      "text/html": [
       "<div>\n",
       "<style scoped>\n",
       "    .dataframe tbody tr th:only-of-type {\n",
       "        vertical-align: middle;\n",
       "    }\n",
       "\n",
       "    .dataframe tbody tr th {\n",
       "        vertical-align: top;\n",
       "    }\n",
       "\n",
       "    .dataframe thead th {\n",
       "        text-align: right;\n",
       "    }\n",
       "</style>\n",
       "<table border=\"1\" class=\"dataframe\">\n",
       "  <thead>\n",
       "    <tr style=\"text-align: right;\">\n",
       "      <th></th>\n",
       "      <th>state</th>\n",
       "      <th>county</th>\n",
       "      <th>urban</th>\n",
       "      <th>cancer_avg_cost</th>\n",
       "      <th>ha_avg_cost</th>\n",
       "      <th>approx_avg_income</th>\n",
       "      <th>agi</th>\n",
       "      <th>income_bucket</th>\n",
       "      <th>Unemployment Rate (5y Avg.)</th>\n",
       "      <th>Percent Below Federal Poverty Level (5y Avg.)</th>\n",
       "      <th>Percent of Senior Population Below Federal Poverty Level (5y Avg.)</th>\n",
       "      <th>Senior Unemployment Rate (5y Avg.)</th>\n",
       "      <th>Demographics % Hispanic</th>\n",
       "      <th>Demographics % Female</th>\n",
       "      <th>ha_cost_income_ratio</th>\n",
       "      <th>cancer_cost_income_ratio</th>\n",
       "      <th>condition</th>\n",
       "      <th>cancer_cost_income_ratio_above_avg_y</th>\n",
       "    </tr>\n",
       "  </thead>\n",
       "  <tbody>\n",
       "    <tr>\n",
       "      <th>0</th>\n",
       "      <td>AL</td>\n",
       "      <td>Autauga County</td>\n",
       "      <td>Urban</td>\n",
       "      <td>19293</td>\n",
       "      <td>40470</td>\n",
       "      <td>55680.240764</td>\n",
       "      <td>1327941</td>\n",
       "      <td>36</td>\n",
       "      <td>0.055252</td>\n",
       "      <td>0.12266</td>\n",
       "      <td>0.061893</td>\n",
       "      <td>0.079755</td>\n",
       "      <td>2.688754</td>\n",
       "      <td>51.288437</td>\n",
       "      <td>0.726829</td>\n",
       "      <td>0.346496</td>\n",
       "      <td>0.408521</td>\n",
       "      <td>False</td>\n",
       "    </tr>\n",
       "  </tbody>\n",
       "</table>\n",
       "</div>"
      ],
      "text/plain": [
       "  state          county  urban  cancer_avg_cost  ha_avg_cost  \\\n",
       "0    AL  Autauga County  Urban            19293        40470   \n",
       "\n",
       "   approx_avg_income      agi  income_bucket  Unemployment Rate (5y Avg.)  \\\n",
       "0       55680.240764  1327941             36                     0.055252   \n",
       "\n",
       "   Percent Below Federal Poverty Level (5y Avg.)  \\\n",
       "0                                        0.12266   \n",
       "\n",
       "   Percent of Senior Population Below Federal Poverty Level (5y Avg.)  \\\n",
       "0                                           0.061893                    \n",
       "\n",
       "   Senior Unemployment Rate (5y Avg.)  Demographics % Hispanic  \\\n",
       "0                            0.079755                 2.688754   \n",
       "\n",
       "   Demographics % Female  ha_cost_income_ratio  cancer_cost_income_ratio  \\\n",
       "0              51.288437              0.726829                  0.346496   \n",
       "\n",
       "   condition  cancer_cost_income_ratio_above_avg_y  \n",
       "0   0.408521                                 False  "
      ]
     },
     "execution_count": 263,
     "metadata": {},
     "output_type": "execute_result"
    }
   ],
   "source": [
    "#creating depedendent variable\n",
    "#average cost for cancer care is above the average cost or equal to or below the average cost\n",
    "ha_cancer_costs_incomeavg_geog_1_df['cancer_cost_income_ratio_above_avg_y'] = ha_cancer_costs_incomeavg_geog_1_df.cancer_cost_income_ratio > ha_cancer_costs_incomeavg_geog_1_df.condition\n",
    "ha_cancer_costs_incomeavg_geog_1_df.head(1)"
   ]
  },
  {
   "cell_type": "code",
   "execution_count": 264,
   "metadata": {},
   "outputs": [],
   "source": [
    "#get dummmies\n",
    "ha_cancer_costs_incomeavg_geog_1_df = pd.get_dummies(ha_cancer_costs_incomeavg_geog_1_df, columns = ['urban'], drop_first = True)"
   ]
  },
  {
   "cell_type": "code",
   "execution_count": null,
   "metadata": {},
   "outputs": [],
   "source": [
    "ha_cancer_costs_incomeavg_geog_1_df.head(1)"
   ]
  },
  {
   "cell_type": "code",
   "execution_count": 265,
   "metadata": {},
   "outputs": [],
   "source": [
    "#log reg model\n",
    "X = ha_cancer_costs_incomeavg_geog_1_df[['urban_Urban', 'Demographics % Female', 'Demographics % Hispanic',\n",
    "                                       'ha_cost_income_ratio', 'Percent Below Federal Poverty Level (5y Avg.)', 'Senior Unemployment Rate (5y Avg.)']]\n",
    "y = ha_cancer_costs_incomeavg_geog_1_df['cancer_cost_income_ratio_above_avg_y']"
   ]
  },
  {
   "cell_type": "code",
   "execution_count": 266,
   "metadata": {},
   "outputs": [
    {
     "data": {
      "text/plain": [
       "LogisticRegression()"
      ]
     },
     "execution_count": 266,
     "metadata": {},
     "output_type": "execute_result"
    }
   ],
   "source": [
    "logistic_model = LogisticRegression()\n",
    "logistic_model.fit(X, y)"
   ]
  },
  {
   "cell_type": "code",
   "execution_count": 267,
   "metadata": {},
   "outputs": [
    {
     "data": {
      "text/plain": [
       "array([-0.77391266, -0.05651705, -0.01522082,  6.02668442,  6.40208825,\n",
       "       -0.11318833])"
      ]
     },
     "execution_count": 267,
     "metadata": {},
     "output_type": "execute_result"
    }
   ],
   "source": [
    "logistic_model.coef_[0]"
   ]
  },
  {
   "cell_type": "code",
   "execution_count": 268,
   "metadata": {},
   "outputs": [],
   "source": [
    "#Machine learning\n",
    "X_train, X_test, y_train, y_test = train_test_split(X, y, random_state = 321)"
   ]
  },
  {
   "cell_type": "code",
   "execution_count": 269,
   "metadata": {},
   "outputs": [
    {
     "data": {
      "text/plain": [
       "LogisticRegression()"
      ]
     },
     "execution_count": 269,
     "metadata": {},
     "output_type": "execute_result"
    }
   ],
   "source": [
    "logistic_model = LogisticRegression()\n",
    "logistic_model.fit(X_train, y_train)"
   ]
  },
  {
   "cell_type": "code",
   "execution_count": 270,
   "metadata": {},
   "outputs": [
    {
     "data": {
      "image/png": "[encoded data removed]",
      "text/plain": [
       "<Figure size 504x360 with 1 Axes>"
      ]
     },
     "metadata": {
      "needs_background": "light"
     },
     "output_type": "display_data"
    }
   ],
   "source": [
    "fig, ax = plt.subplots(figsize = (7,5))\n",
    "sns.barplot(x = logistic_model.coef_[0], y = list(X.columns), ax = ax, edgecolor = 'black')\n",
    "plt.title('Logistic Regression Coefficients')\n",
    "\n",
    "ymin, ymax = plt.ylim()\n",
    "plt.vlines(x = 0, ymin = ymin, ymax = ymax);"
   ]
  },
  {
   "cell_type": "code",
   "execution_count": 271,
   "metadata": {},
   "outputs": [
    {
     "data": {
      "image/png": "[encoded data removed]",
      "text/plain": [
       "<Figure size 432x288 with 1 Axes>"
      ]
     },
     "metadata": {
      "needs_background": "light"
     },
     "output_type": "display_data"
    }
   ],
   "source": [
    "y_pred_prob = logistic_model.predict_proba(X_test)[:,1]\n",
    "fp_rate, tp_rate, thresholds = metrics.roc_curve(y_test, y_pred_prob)\n",
    "\n",
    "plt.plot(fp_rate, tp_rate)\n",
    "plt.xlim([0.0, 1.0])\n",
    "plt.ylim([0.0, 1.0])\n",
    "plt.title('ROC curve for Cancer Cost Ratio Above Average classifier')\n",
    "plt.xlabel('False Positive Rate (1 - Specificity)')\n",
    "plt.ylabel('True Positive Rate (Sensitivity)')\n",
    "plt.grid(True)"
   ]
  },
  {
   "cell_type": "code",
   "execution_count": 272,
   "metadata": {},
   "outputs": [
    {
     "name": "stdout",
     "output_type": "stream",
     "text": [
      "0.8767054473848132\n"
     ]
    }
   ],
   "source": [
    "print(metrics.roc_auc_score(y_test, y_pred_prob))"
   ]
  },
  {
   "cell_type": "code",
   "execution_count": 273,
   "metadata": {},
   "outputs": [
    {
     "data": {
      "text/plain": [
       "0.7781299524564184"
      ]
     },
     "execution_count": 273,
     "metadata": {},
     "output_type": "execute_result"
    }
   ],
   "source": [
    "#Model accuracy (Full Model)\n",
    "y_pred = logistic_model.predict(X_test)\n",
    "metrics.accuracy_score(y_test, y_pred)"
   ]
  },
  {
   "cell_type": "markdown",
   "metadata": {},
   "source": [
    "# Performing Descriptives for the presentaiotn for TN STATE ONLY!!!"
   ]
  },
  {
   "cell_type": "markdown",
   "metadata": {},
   "source": [
    "important variables for Cancer cost ratio based on whole US Data:\n",
    "1. heart attack cost\n",
    "2. Urban\n",
    "3. Percent Below Federal Poverty Level (5y Avg.) \n",
    "4. Senior Unemployment Rate (5y Avg.)\n",
    "Females and Hispanics don't matter! We can show it"
   ]
  },
  {
   "cell_type": "code",
   "execution_count": 279,
   "metadata": {},
   "outputs": [
    {
     "data": {
      "text/html": [
       "<div>\n",
       "<style scoped>\n",
       "    .dataframe tbody tr th:only-of-type {\n",
       "        vertical-align: middle;\n",
       "    }\n",
       "\n",
       "    .dataframe tbody tr th {\n",
       "        vertical-align: top;\n",
       "    }\n",
       "\n",
       "    .dataframe thead th {\n",
       "        text-align: right;\n",
       "    }\n",
       "</style>\n",
       "<table border=\"1\" class=\"dataframe\">\n",
       "  <thead>\n",
       "    <tr style=\"text-align: right;\">\n",
       "      <th></th>\n",
       "      <th>state</th>\n",
       "      <th>county</th>\n",
       "      <th>cancer_avg_cost</th>\n",
       "      <th>ha_avg_cost</th>\n",
       "      <th>approx_avg_income</th>\n",
       "      <th>agi</th>\n",
       "      <th>income_bucket</th>\n",
       "      <th>Unemployment Rate (5y Avg.)</th>\n",
       "      <th>Percent Below Federal Poverty Level (5y Avg.)</th>\n",
       "      <th>Percent of Senior Population Below Federal Poverty Level (5y Avg.)</th>\n",
       "      <th>Senior Unemployment Rate (5y Avg.)</th>\n",
       "      <th>Demographics % Hispanic</th>\n",
       "      <th>Demographics % Female</th>\n",
       "      <th>ha_cost_income_ratio</th>\n",
       "      <th>cancer_cost_income_ratio</th>\n",
       "      <th>condition</th>\n",
       "      <th>cancer_cost_income_ratio_above_avg_y</th>\n",
       "      <th>urban_Urban</th>\n",
       "    </tr>\n",
       "  </thead>\n",
       "  <tbody>\n",
       "    <tr>\n",
       "      <th>0</th>\n",
       "      <td>AL</td>\n",
       "      <td>Autauga County</td>\n",
       "      <td>19293</td>\n",
       "      <td>40470</td>\n",
       "      <td>55680.240764</td>\n",
       "      <td>1327941</td>\n",
       "      <td>36</td>\n",
       "      <td>0.055252</td>\n",
       "      <td>0.12266</td>\n",
       "      <td>0.061893</td>\n",
       "      <td>0.079755</td>\n",
       "      <td>2.688754</td>\n",
       "      <td>51.288437</td>\n",
       "      <td>0.726829</td>\n",
       "      <td>0.346496</td>\n",
       "      <td>0.408521</td>\n",
       "      <td>False</td>\n",
       "      <td>1</td>\n",
       "    </tr>\n",
       "  </tbody>\n",
       "</table>\n",
       "</div>"
      ],
      "text/plain": [
       "  state          county  cancer_avg_cost  ha_avg_cost  approx_avg_income  \\\n",
       "0    AL  Autauga County            19293        40470       55680.240764   \n",
       "\n",
       "       agi  income_bucket  Unemployment Rate (5y Avg.)  \\\n",
       "0  1327941             36                     0.055252   \n",
       "\n",
       "   Percent Below Federal Poverty Level (5y Avg.)  \\\n",
       "0                                        0.12266   \n",
       "\n",
       "   Percent of Senior Population Below Federal Poverty Level (5y Avg.)  \\\n",
       "0                                           0.061893                    \n",
       "\n",
       "   Senior Unemployment Rate (5y Avg.)  Demographics % Hispanic  \\\n",
       "0                            0.079755                 2.688754   \n",
       "\n",
       "   Demographics % Female  ha_cost_income_ratio  cancer_cost_income_ratio  \\\n",
       "0              51.288437              0.726829                  0.346496   \n",
       "\n",
       "   condition  cancer_cost_income_ratio_above_avg_y  urban_Urban  \n",
       "0   0.408521                                 False            1  "
      ]
     },
     "execution_count": 279,
     "metadata": {},
     "output_type": "execute_result"
    }
   ],
   "source": [
    "ha_cancer_costs_incomeavg_geog_1_df.head(1)"
   ]
  },
  {
   "cell_type": "code",
   "execution_count": 286,
   "metadata": {},
   "outputs": [
    {
     "data": {
      "text/html": [
       "<div>\n",
       "<style scoped>\n",
       "    .dataframe tbody tr th:only-of-type {\n",
       "        vertical-align: middle;\n",
       "    }\n",
       "\n",
       "    .dataframe tbody tr th {\n",
       "        vertical-align: top;\n",
       "    }\n",
       "\n",
       "    .dataframe thead th {\n",
       "        text-align: right;\n",
       "    }\n",
       "</style>\n",
       "<table border=\"1\" class=\"dataframe\">\n",
       "  <thead>\n",
       "    <tr style=\"text-align: right;\">\n",
       "      <th></th>\n",
       "      <th>state</th>\n",
       "      <th>county</th>\n",
       "      <th>cancer_avg_cost</th>\n",
       "      <th>ha_avg_cost</th>\n",
       "      <th>approx_avg_income</th>\n",
       "      <th>agi</th>\n",
       "      <th>income_bucket</th>\n",
       "      <th>Unemployment Rate (5y Avg.)</th>\n",
       "      <th>Percent Below Federal Poverty Level (5y Avg.)</th>\n",
       "      <th>Percent of Senior Population Below Federal Poverty Level (5y Avg.)</th>\n",
       "      <th>Senior Unemployment Rate (5y Avg.)</th>\n",
       "      <th>Demographics % Hispanic</th>\n",
       "      <th>Demographics % Female</th>\n",
       "      <th>ha_cost_income_ratio</th>\n",
       "      <th>cancer_cost_income_ratio</th>\n",
       "      <th>condition</th>\n",
       "      <th>cancer_cost_income_ratio_above_avg_y</th>\n",
       "      <th>urban_Urban</th>\n",
       "    </tr>\n",
       "  </thead>\n",
       "  <tbody>\n",
       "    <tr>\n",
       "      <th>1950</th>\n",
       "      <td>TN</td>\n",
       "      <td>Anderson County</td>\n",
       "      <td>15454</td>\n",
       "      <td>42749</td>\n",
       "      <td>53382.385535</td>\n",
       "      <td>1807309</td>\n",
       "      <td>36</td>\n",
       "      <td>0.073644</td>\n",
       "      <td>0.172117</td>\n",
       "      <td>0.077402</td>\n",
       "      <td>0.041965</td>\n",
       "      <td>2.710177</td>\n",
       "      <td>51.399863</td>\n",
       "      <td>0.800807</td>\n",
       "      <td>0.289496</td>\n",
       "      <td>0.408521</td>\n",
       "      <td>False</td>\n",
       "      <td>1</td>\n",
       "    </tr>\n",
       "  </tbody>\n",
       "</table>\n",
       "</div>"
      ],
      "text/plain": [
       "     state           county  cancer_avg_cost  ha_avg_cost  approx_avg_income  \\\n",
       "1950    TN  Anderson County            15454        42749       53382.385535   \n",
       "\n",
       "          agi  income_bucket  Unemployment Rate (5y Avg.)  \\\n",
       "1950  1807309             36                     0.073644   \n",
       "\n",
       "      Percent Below Federal Poverty Level (5y Avg.)  \\\n",
       "1950                                       0.172117   \n",
       "\n",
       "      Percent of Senior Population Below Federal Poverty Level (5y Avg.)  \\\n",
       "1950                                           0.077402                    \n",
       "\n",
       "      Senior Unemployment Rate (5y Avg.)  Demographics % Hispanic  \\\n",
       "1950                            0.041965                 2.710177   \n",
       "\n",
       "      Demographics % Female  ha_cost_income_ratio  cancer_cost_income_ratio  \\\n",
       "1950              51.399863              0.800807                  0.289496   \n",
       "\n",
       "      condition  cancer_cost_income_ratio_above_avg_y  urban_Urban  \n",
       "1950   0.408521                                 False            1  "
      ]
     },
     "execution_count": 286,
     "metadata": {},
     "output_type": "execute_result"
    }
   ],
   "source": [
    "#Restrciting the data to TN State for presentation\n",
    "TN_df = ha_cancer_costs_incomeavg_geog_1_df['state'] == 'TN'\n",
    "TN_Full_df = ha_cancer_costs_incomeavg_geog_1_df[TN_df]\n",
    "TN_Full_df.head(1)"
   ]
  },
  {
   "cell_type": "code",
   "execution_count": 287,
   "metadata": {},
   "outputs": [
    {
     "data": {
      "text/plain": [
       "(91, 18)"
      ]
     },
     "execution_count": 287,
     "metadata": {},
     "output_type": "execute_result"
    }
   ],
   "source": [
    "TN_Full_df.shape"
   ]
  },
  {
   "cell_type": "code",
   "execution_count": 289,
   "metadata": {},
   "outputs": [
    {
     "data": {
      "image/png": "[encoded data removed]",
      "text/plain": [
       "<Figure size 432x288 with 1 Axes>"
      ]
     },
     "metadata": {
      "needs_background": "light"
     },
     "output_type": "display_data"
    }
   ],
   "source": [
    "#Perfroming explorating analysis for important variables identified by full US dataset\n",
    "pd.crosstab(TN_Full_df['urban_Urban'], TN_Full_df['cancer_cost_income_ratio_above_avg_y'], \n",
    "            normalize='index').plot(kind = 'bar', edgecolor = 'black')\n",
    "plt.xticks(rotation = 0)\n",
    "plt.xlabel('Rural (0) and Urban (1)')\n",
    "plt.legend(loc = 'upper left', labels = ['Below Average', '= or above average']);"
   ]
  },
  {
   "cell_type": "code",
   "execution_count": 293,
   "metadata": {},
   "outputs": [
    {
     "data": {
      "image/png": "[encoded data removed]",
      "text/plain": [
       "<Figure size 432x288 with 1 Axes>"
      ]
     },
     "metadata": {
      "needs_background": "light"
     },
     "output_type": "display_data"
    }
   ],
   "source": [
    "sns.boxplot(y=TN_Full_df['Demographics % Female'], x = TN_Full_df['cancer_cost_income_ratio_above_avg_y'])\n",
    "plt.title('Distribution of % females by cancer cost income_ratio below vs. = or above average');\n",
    "#plt.xlabel('')"
   ]
  },
  {
   "cell_type": "code",
   "execution_count": 294,
   "metadata": {},
   "outputs": [
    {
     "data": {
      "image/png": "[encoded data removed]",
      "text/plain": [
       "<Figure size 432x288 with 1 Axes>"
      ]
     },
     "metadata": {
      "needs_background": "light"
     },
     "output_type": "display_data"
    }
   ],
   "source": [
    "sns.boxplot(y=TN_Full_df['Demographics % Hispanic'], x = TN_Full_df['cancer_cost_income_ratio_above_avg_y'])\n",
    "plt.title('Distribution of % Hispanics by cancer cost income_ratio below vs. = or above average');\n",
    "#plt.xlabel('')"
   ]
  },
  {
   "cell_type": "code",
   "execution_count": 297,
   "metadata": {},
   "outputs": [
    {
     "data": {
      "image/png": "[encoded data removed]",
      "text/plain": [
       "<Figure size 432x288 with 1 Axes>"
      ]
     },
     "metadata": {
      "needs_background": "light"
     },
     "output_type": "display_data"
    }
   ],
   "source": [
    "sns.boxplot(y=TN_Full_df['Percent Below Federal Poverty Level (5y Avg.)'], x = TN_Full_df['cancer_cost_income_ratio_above_avg_y'])\n",
    "plt.title('Distribution of Percent Below Federal Poverty Level (5y Avg.) by cancer cost income_ratio below vs. = or above average');\n",
    "#plt.xlabel('')"
   ]
  },
  {
   "cell_type": "code",
   "execution_count": 298,
   "metadata": {},
   "outputs": [
    {
     "data": {
      "image/png": "[encoded data removed]",
      "text/plain": [
       "<Figure size 432x288 with 1 Axes>"
      ]
     },
     "metadata": {
      "needs_background": "light"
     },
     "output_type": "display_data"
    }
   ],
   "source": [
    "sns.boxplot(y=TN_Full_df['Senior Unemployment Rate (5y Avg.)'], x = TN_Full_df['cancer_cost_income_ratio_above_avg_y'])\n",
    "plt.title('Distribution of Senior Unemployment Rate (5y Avg.) by cancer cost income_ratio below vs. = or above average');\n",
    "#plt.xlabel('')"
   ]
  },
  {
   "cell_type": "markdown",
   "metadata": {},
   "source": [
    "Build and evaluate a `RandomForestClassifier` 'NOT NEEDED FOR PRESENTATION'!"
   ]
  },
  {
   "cell_type": "code",
   "execution_count": null,
   "metadata": {},
   "outputs": [],
   "source": [
    "tree = DecisionTreeClassifier()\n",
    "tree.fit(X_train, y_train)"
   ]
  },
  {
   "cell_type": "code",
   "execution_count": null,
   "metadata": {},
   "outputs": [],
   "source": [
    "y_pred_train = tree.predict(X_train)\n",
    "print(metrics.accuracy_score(y_train, y_pred_train))"
   ]
  },
  {
   "cell_type": "code",
   "execution_count": null,
   "metadata": {},
   "outputs": [],
   "source": [
    "y_pred = tree.predict(X_test)\n",
    "\n",
    "print(metrics.accuracy_score(y_test, y_pred))"
   ]
  },
  {
   "cell_type": "code",
   "execution_count": null,
   "metadata": {},
   "outputs": [],
   "source": [
    "forest = RandomForestClassifier(n_estimators = 1000, max_depth = 5, min_samples_leaf = 5)\n",
    "forest.fit(X_train, y_train)"
   ]
  },
  {
   "cell_type": "code",
   "execution_count": null,
   "metadata": {},
   "outputs": [],
   "source": [
    "y_pred_train = forest.predict(X_train)\n",
    "print(metrics.accuracy_score(y_train, y_pred_train))"
   ]
  },
  {
   "cell_type": "code",
   "execution_count": null,
   "metadata": {},
   "outputs": [],
   "source": [
    "y_pred = forest.predict(X_test)\n",
    "print(metrics.accuracy_score(y_test, y_pred))"
   ]
  },
  {
   "cell_type": "code",
   "execution_count": null,
   "metadata": {},
   "outputs": [],
   "source": [
    "fig, ax = plt.subplots(figsize = (7,5))\n",
    "sns.barplot(x = forest.feature_importances_, y = list(X.columns), ax = ax, edgecolor = 'black')\n",
    "plt.title('Random Forest Feature Importance');"
   ]
  },
  {
   "cell_type": "code",
   "execution_count": null,
   "metadata": {},
   "outputs": [],
   "source": []
  }
 ],
 "metadata": {
  "kernelspec": {
   "display_name": "Python 3",
   "language": "python",
   "name": "python3"
  },
  "language_info": {
   "codemirror_mode": {
    "name": "ipython",
    "version": 3
   },
   "file_extension": ".py",
   "mimetype": "text/x-python",
   "name": "python",
   "nbconvert_exporter": "python",
   "pygments_lexer": "ipython3",
   "version": "3.8.3"
  }
 },
 "nbformat": 4,
 "nbformat_minor": 4
}
